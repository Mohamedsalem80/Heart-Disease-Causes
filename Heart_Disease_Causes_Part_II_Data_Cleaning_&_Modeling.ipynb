{
  "cells": [
    {
      "cell_type": "markdown",
      "metadata": {
        "id": "7NjKvOexCW1N"
      },
      "source": [
        "<h1 style=\"font-size:10vw\"> <center>Heart Disease Detection</center></h1>\n",
        "\n",
        "\n",
        "---\n",
        "\n"
      ]
    },
    {
      "cell_type": "markdown",
      "metadata": {
        "id": "iQSHyF-nM_8E"
      },
      "source": [
        "<img src=\"https://grsmedical.ca/wp-content/uploads/2021/07/banner-cardiac.png\" width=\"100%\">"
      ]
    },
    {
      "cell_type": "markdown",
      "source": [
        "This notebook is a continuation of our [previous notebook](https://colab.research.google.com/drive/1dPGxW3xwISgqj1ZaCNryc6RmOIqywsih?usp=sharing), in which we explored the [Personal Key Indicators of Heart Disease](https://www.kaggle.com/datasets/kamilpytlak/personal-key-indicators-of-heart-disease) dataset in order to gain insights about heart disease and its causses. In the this notebook we carry on with building a machine learning model to identify heart dissease patients"
      ],
      "metadata": {
        "id": "NuE4mleMip-2"
      }
    },
    {
      "cell_type": "markdown",
      "metadata": {
        "id": "4IWtP34RFunX"
      },
      "source": [
        "<h2 style=\"font-size:10vw\"> Table of contents</h2>\n"
      ]
    },
    {
      "cell_type": "markdown",
      "metadata": {
        "colab_type": "toc",
        "id": "dvQuAFF4I7jb"
      },
      "source": [
        ">[1 Data Reading](#scrollTo=YHqDw4MHE1O_)\n",
        "\n",
        ">[2 Data Cleaning](#scrollTo=0hp4oy75D0-_)\n",
        "\n",
        ">>[2.1 Missing Data](#scrollTo=HrMNI7qAEp2I)\n",
        "\n",
        ">>>[2.1.1 Null Values](#scrollTo=_Mxxpm3FG3hn)\n",
        "\n",
        ">>>[2.1.2 Unusual Values](#scrollTo=GvZZxDp1Hsz5)\n",
        "\n",
        ">>[2.2 Outliers](#scrollTo=MirTteWmRSkB)\n",
        "\n",
        ">>>[2.2.1 Univariate Outlier Detection](#scrollTo=5HLSgD_X1jMz)\n",
        "\n",
        ">>>[2.2.2 Multivariate Outlier Detection](#scrollTo=RGrOlcXC5MbX)\n",
        "\n",
        ">>>[2.2.3 Outlier Removal](#scrollTo=myTNpGYZNNNS)\n",
        "\n",
        ">>[2.3 Categorical Encoding & Feature Scaling](#scrollTo=nC9bWu3yTdjG)\n",
        "\n",
        ">>[2.4 Train-Test Split](#scrollTo=W7UG7RjtaCiv)\n",
        "\n",
        ">[3 Modeling](#scrollTo=N6EWiDSS_YPp)\n",
        "\n",
        ">>[Helpers](#scrollTo=hQX4za92E8XV)\n",
        "\n",
        ">>[3.1 Logistic Regression](#scrollTo=E9YzxzLJ_q4V)\n",
        "\n",
        ">>>[3.1.1 Model](#scrollTo=B1k-6nT2FZhi)\n",
        "\n",
        ">>>[3.1.2 Evaluation](#scrollTo=BIJ8ePgcEmyT)\n",
        "\n",
        ">>>>[3.1.2.1 Classification Report](#scrollTo=Ytx4bHtqFSBR)\n",
        "\n",
        ">>>>[3.1.2.2 Confusion Matrix](#scrollTo=bSSkKZpVFgZi)\n",
        "\n",
        ">>[3.2 Decision Tree](#scrollTo=0y8o_3VvIKLG)\n",
        "\n",
        ">>>[3.2.1 Model](#scrollTo=vrP2Hv8gI4T7)\n",
        "\n",
        ">>>[3.2.2 Evaluation](#scrollTo=-VEeeeWOI_jS)\n",
        "\n",
        ">>>>[3.2.2.1 Classification Report](#scrollTo=KesA7S2dI_jS)\n",
        "\n",
        ">>>>[3.2.2.2 Confusion Matrix](#scrollTo=rgyBOHadI_jT)\n",
        "\n",
        ">>>[3.2.3 Feature Importances](#scrollTo=GYcVhUT7PdWi)\n",
        "\n",
        ">>[3.3 Random Forest](#scrollTo=S5yEdz9LPpHS)\n",
        "\n",
        ">>>[3.3.1 Model](#scrollTo=FuqXk9BEQOTW)\n",
        "\n",
        ">>>[3.3.2 Evaluation](#scrollTo=3F5jXZk1QOTf)\n",
        "\n",
        ">>>>[3.3.2.1 Classification Report](#scrollTo=kD2dp7H3QOTf)\n",
        "\n",
        ">>>>[3.3.2.2 Confusion Matrix](#scrollTo=i3SxrrwyQOTf)\n",
        "\n",
        ">>>[3.3.3 Feature Importances](#scrollTo=nqsJ77noQQAO)\n",
        "\n",
        ">>[3.4 KNN](#scrollTo=h6zgbnOMCHPF)\n",
        "\n",
        ">>>[3.4.1 Hyperparameter Tuning](#scrollTo=Z-6y7FBDZ4RG)\n",
        "\n",
        ">>>[3.4.2 Model](#scrollTo=g1cl9wpnGJB-)\n",
        "\n",
        ">>>[3.4.3 Evaluation](#scrollTo=n8-X7--qcPoe)\n",
        "\n",
        ">>>>[3.4.3.1 Classification Report](#scrollTo=JiomRWqkcduV)\n",
        "\n",
        ">>>>[3.4.3.2 Confusion Matrix](#scrollTo=tDG5YVf1cwGa)\n",
        "\n",
        ">>[3.5 SVM](#scrollTo=iglzj4tdKNam)\n",
        "\n",
        ">>>[3.5.1 Hyperparameter Tuning](#scrollTo=IlpbTWzgkzhV)\n",
        "\n",
        ">>>[3.5.2 Model](#scrollTo=LIP-6ZBskzhd)\n",
        "\n",
        ">>>[3.5.3 Evaluation](#scrollTo=_LGhgI25kzhe)\n",
        "\n",
        ">>>>[3.5.3.1 Classification Report](#scrollTo=aALP7FN8kzhe)\n",
        "\n",
        ">>>>[3.5.3.2 Confusion Matrix](#scrollTo=Hr5aU7pskzhe)\n",
        "\n",
        ">>>>[3.5.3.3 ROC Curve](#scrollTo=df3_RtiQwJCU)\n",
        "\n",
        ">>[3.6 AdaBoost](#scrollTo=4CX63cd2wrBJ)\n",
        "\n",
        ">>>[3.6.1 Model](#scrollTo=d4M-7xK40dm8)\n",
        "\n",
        ">>>[3.6.2 Evaluation](#scrollTo=euGNQoeB0ZkF)\n",
        "\n",
        ">>>>[3.6.2.1 Classification Report](#scrollTo=8lHaga540j-M)\n",
        "\n",
        ">>>>[3.6.2.2 Confusion Matrix](#scrollTo=2tR4N3MH0OMf)\n",
        "\n",
        ">>[3.7 XGBoost](#scrollTo=W-92_Imc1HFC)\n",
        "\n",
        ">>>[3.7.1 Model](#scrollTo=xsx8wS-B0wIX)\n",
        "\n",
        ">>>[3.7.2 Evaluation](#scrollTo=1mxWyNaL0wIY)\n",
        "\n",
        ">>>>[3.7.2.1 Classification Report](#scrollTo=kL8mjgWg0wIY)\n",
        "\n",
        ">>>>[3.7.2.2 Confusion Matrix](#scrollTo=kwXzg_Zm0wIY)\n",
        "\n",
        ">>[3.8 CatBoost](#scrollTo=TV914rH21NOs)\n",
        "\n",
        ">>>[3.8.1 Model](#scrollTo=Kg0XspZz06Cn)\n",
        "\n",
        ">>>[3.8.2 Evaluation](#scrollTo=qHNjJwob06Cv)\n",
        "\n",
        ">>>>[3.8.2.1 Classification Report](#scrollTo=BvOiJUm_06Cv)\n",
        "\n",
        ">>>>[3.8.2.2 Confusion Matrix](#scrollTo=niOK_Ha-06Cv)\n",
        "\n",
        ">>[3.9 Voting](#scrollTo=k5WVhRul1dC1)\n",
        "\n",
        ">>>[3.5.1 Model](#scrollTo=2dmEXxQ51dC1)\n",
        "\n",
        ">>>[3.5.2 Evaluation](#scrollTo=4NXU81v51dC2)\n",
        "\n",
        ">>>>[3.5.2.1 Classification Report](#scrollTo=qTlxt7Uz1dC2)\n",
        "\n",
        ">>>>[3.5.2.2 Confusion Matrix](#scrollTo=2weVgEsi1dC2)\n",
        "\n",
        ">>[3.10 Model Comparison](#scrollTo=qGQuNGG9kvmP)\n",
        "\n",
        ">>>[3.10.1 Highlights](#scrollTo=KnQH1sb2Uxf4)\n",
        "\n",
        ">[4 Conclusion](#scrollTo=9H0rKZ_52Usj)\n",
        "\n"
      ]
    },
    {
      "cell_type": "code",
      "execution_count": null,
      "metadata": {
        "colab": {
          "base_uri": "https://localhost:8080/"
        },
        "id": "ype6Fg4S4IWL",
        "outputId": "a2d2de26-a6dc-4f03-ccc9-878882570fc0"
      },
      "outputs": [
        {
          "output_type": "stream",
          "name": "stdout",
          "text": [
            "Looking in indexes: https://pypi.org/simple, https://us-python.pkg.dev/colab-wheels/public/simple/\n",
            "Requirement already satisfied: pywaffle in /usr/local/lib/python3.7/dist-packages (1.1.0)\n",
            "Requirement already satisfied: fontawesomefree in /usr/local/lib/python3.7/dist-packages (from pywaffle) (6.2.0)\n",
            "Requirement already satisfied: matplotlib in /usr/local/lib/python3.7/dist-packages (from pywaffle) (3.2.2)\n",
            "Requirement already satisfied: pyparsing!=2.0.4,!=2.1.2,!=2.1.6,>=2.0.1 in /usr/local/lib/python3.7/dist-packages (from matplotlib->pywaffle) (3.0.9)\n",
            "Requirement already satisfied: numpy>=1.11 in /usr/local/lib/python3.7/dist-packages (from matplotlib->pywaffle) (1.21.6)\n",
            "Requirement already satisfied: kiwisolver>=1.0.1 in /usr/local/lib/python3.7/dist-packages (from matplotlib->pywaffle) (1.4.4)\n",
            "Requirement already satisfied: cycler>=0.10 in /usr/local/lib/python3.7/dist-packages (from matplotlib->pywaffle) (0.11.0)\n",
            "Requirement already satisfied: python-dateutil>=2.1 in /usr/local/lib/python3.7/dist-packages (from matplotlib->pywaffle) (2.8.2)\n",
            "Requirement already satisfied: typing-extensions in /usr/local/lib/python3.7/dist-packages (from kiwisolver>=1.0.1->matplotlib->pywaffle) (4.1.1)\n",
            "Requirement already satisfied: six>=1.5 in /usr/local/lib/python3.7/dist-packages (from python-dateutil>=2.1->matplotlib->pywaffle) (1.15.0)\n",
            "Looking in indexes: https://pypi.org/simple, https://us-python.pkg.dev/colab-wheels/public/simple/\n",
            "Requirement already satisfied: catboost in /usr/local/lib/python3.7/dist-packages (1.1)\n",
            "Requirement already satisfied: pandas>=0.24.0 in /usr/local/lib/python3.7/dist-packages (from catboost) (1.3.5)\n",
            "Requirement already satisfied: graphviz in /usr/local/lib/python3.7/dist-packages (from catboost) (0.10.1)\n",
            "Requirement already satisfied: plotly in /usr/local/lib/python3.7/dist-packages (from catboost) (5.5.0)\n",
            "Requirement already satisfied: six in /usr/local/lib/python3.7/dist-packages (from catboost) (1.15.0)\n",
            "Requirement already satisfied: scipy in /usr/local/lib/python3.7/dist-packages (from catboost) (1.7.3)\n",
            "Requirement already satisfied: numpy>=1.16.0 in /usr/local/lib/python3.7/dist-packages (from catboost) (1.21.6)\n",
            "Requirement already satisfied: matplotlib in /usr/local/lib/python3.7/dist-packages (from catboost) (3.2.2)\n",
            "Requirement already satisfied: python-dateutil>=2.7.3 in /usr/local/lib/python3.7/dist-packages (from pandas>=0.24.0->catboost) (2.8.2)\n",
            "Requirement already satisfied: pytz>=2017.3 in /usr/local/lib/python3.7/dist-packages (from pandas>=0.24.0->catboost) (2022.2.1)\n",
            "Requirement already satisfied: cycler>=0.10 in /usr/local/lib/python3.7/dist-packages (from matplotlib->catboost) (0.11.0)\n",
            "Requirement already satisfied: pyparsing!=2.0.4,!=2.1.2,!=2.1.6,>=2.0.1 in /usr/local/lib/python3.7/dist-packages (from matplotlib->catboost) (3.0.9)\n",
            "Requirement already satisfied: kiwisolver>=1.0.1 in /usr/local/lib/python3.7/dist-packages (from matplotlib->catboost) (1.4.4)\n",
            "Requirement already satisfied: typing-extensions in /usr/local/lib/python3.7/dist-packages (from kiwisolver>=1.0.1->matplotlib->catboost) (4.1.1)\n",
            "Requirement already satisfied: tenacity>=6.2.0 in /usr/local/lib/python3.7/dist-packages (from plotly->catboost) (8.0.1)\n"
          ]
        }
      ],
      "source": [
        "!pip install pywaffle\n",
        "!pip install catboost"
      ]
    },
    {
      "cell_type": "code",
      "execution_count": null,
      "metadata": {
        "id": "8eb6Zrnj07En"
      },
      "outputs": [],
      "source": [
        "import shutil\n",
        "from os import path\n",
        "\n",
        "import pandas as pd\n",
        "import numpy as np\n",
        "import matplotlib.pyplot as plt\n",
        "import seaborn as sns\n",
        "import plotly.express as px\n",
        "from pywaffle.waffle import Waffle\n",
        "\n",
        "import scipy\n",
        "from scipy.stats import zscore\n",
        "from imblearn.pipeline import Pipeline, make_pipeline\n",
        "from sklearn.compose import make_column_transformer\n",
        "from sklearn.preprocessing import OrdinalEncoder, LabelEncoder, StandardScaler\n",
        "from sklearn.feature_selection import f_classif, chi2\n",
        "from sklearn.model_selection import train_test_split\n",
        "from imblearn.over_sampling import SMOTE\n",
        "from imblearn.under_sampling import RandomUnderSampler, TomekLinks\n",
        "from sklearn.model_selection import GridSearchCV, RandomizedSearchCV\n",
        "from sklearn.model_selection import cross_val_score\n",
        "\n",
        "from sklearn.linear_model import LogisticRegression\n",
        "from sklearn.ensemble import RandomForestClassifier, AdaBoostClassifier, VotingClassifier\n",
        "from catboost import CatBoostClassifier\n",
        "from sklearn.neighbors import KNeighborsClassifier\n",
        "from sklearn.svm import SVC, LinearSVC\n",
        "from xgboost import XGBClassifier\n",
        "from sklearn.tree  import DecisionTreeClassifier\n",
        "\n",
        "from sklearn.metrics import confusion_matrix, classification_report, roc_curve, auc\n",
        "\n",
        "\n",
        "%matplotlib inline\n",
        "sns.set_style(\"darkgrid\")\n",
        "\n",
        "colors6 = sns.color_palette(['#1337f5', '#E80000', '#0f1e41', '#fd523e', '#404e5c', '#c9bbaa'], 6)\n",
        "colors2 = sns.color_palette(['#1337f5', '#E80000'], 2)\n",
        "colors1 = sns.color_palette(['#1337f5'], 1)"
      ]
    },
    {
      "cell_type": "markdown",
      "metadata": {
        "id": "YHqDw4MHE1O_"
      },
      "source": [
        "# 1 Data Reading <a class=\"anchor\" id=\"data_read\"></a>"
      ]
    },
    {
      "cell_type": "code",
      "execution_count": null,
      "metadata": {
        "colab": {
          "base_uri": "https://localhost:8080/"
        },
        "id": "A_0cu3yTD70c",
        "outputId": "bc28fdf3-6899-4c58-b80c-43bf03690835"
      },
      "outputs": [
        {
          "output_type": "stream",
          "name": "stdout",
          "text": [
            "Cloning into 'heart-disease'...\n",
            "remote: Enumerating objects: 3, done.\u001b[K\n",
            "remote: Counting objects: 100% (3/3), done.\u001b[K\n",
            "remote: Compressing objects: 100% (3/3), done.\u001b[K\n",
            "remote: Total 3 (delta 0), reused 0 (delta 0), pack-reused 0\u001b[K\n",
            "Unpacking objects: 100% (3/3), done.\n"
          ]
        }
      ],
      "source": [
        "if path.exists('./heart-disease'):\n",
        "    shutil.rmtree('./heart-disease')\n",
        "\n",
        "!git clone https://github.com/lemonpudding-datasets/heart-disease.git\n",
        "\n",
        "shutil.move(\"./heart-disease/heart_2020_cleaned.csv\", \"./heart_2020_cleaned.csv\")\n",
        "shutil.rmtree('./heart-disease')"
      ]
    },
    {
      "cell_type": "code",
      "execution_count": null,
      "metadata": {
        "colab": {
          "base_uri": "https://localhost:8080/",
          "height": 270
        },
        "id": "-QCTuhz4Bizy",
        "outputId": "8f1929cb-adca-4d53-80a7-c63103d1cf91"
      },
      "outputs": [
        {
          "output_type": "execute_result",
          "data": {
            "text/plain": [
              "  HeartDisease    BMI Smoking AlcoholDrinking Stroke  PhysicalHealth  \\\n",
              "0           No  16.60     Yes              No     No             3.0   \n",
              "1           No  20.34      No              No    Yes             0.0   \n",
              "2           No  26.58     Yes              No     No            20.0   \n",
              "3           No  24.21      No              No     No             0.0   \n",
              "4           No  23.71      No              No     No            28.0   \n",
              "\n",
              "   MentalHealth DiffWalking     Sex  AgeCategory   Race Diabetic  \\\n",
              "0          30.0          No  Female        55-59  White      Yes   \n",
              "1           0.0          No  Female  80 or older  White       No   \n",
              "2          30.0          No    Male        65-69  White      Yes   \n",
              "3           0.0          No  Female        75-79  White       No   \n",
              "4           0.0         Yes  Female        40-44  White       No   \n",
              "\n",
              "  PhysicalActivity  GenHealth  SleepTime Asthma KidneyDisease SkinCancer  \n",
              "0              Yes  Very good        5.0    Yes            No        Yes  \n",
              "1              Yes  Very good        7.0     No            No         No  \n",
              "2              Yes       Fair        8.0    Yes            No         No  \n",
              "3               No       Good        6.0     No            No        Yes  \n",
              "4              Yes  Very good        8.0     No            No         No  "
            ],
            "text/html": [
              "\n",
              "  <div id=\"df-06a39100-3779-4a78-b269-81c23a1294c2\">\n",
              "    <div class=\"colab-df-container\">\n",
              "      <div>\n",
              "<style scoped>\n",
              "    .dataframe tbody tr th:only-of-type {\n",
              "        vertical-align: middle;\n",
              "    }\n",
              "\n",
              "    .dataframe tbody tr th {\n",
              "        vertical-align: top;\n",
              "    }\n",
              "\n",
              "    .dataframe thead th {\n",
              "        text-align: right;\n",
              "    }\n",
              "</style>\n",
              "<table border=\"1\" class=\"dataframe\">\n",
              "  <thead>\n",
              "    <tr style=\"text-align: right;\">\n",
              "      <th></th>\n",
              "      <th>HeartDisease</th>\n",
              "      <th>BMI</th>\n",
              "      <th>Smoking</th>\n",
              "      <th>AlcoholDrinking</th>\n",
              "      <th>Stroke</th>\n",
              "      <th>PhysicalHealth</th>\n",
              "      <th>MentalHealth</th>\n",
              "      <th>DiffWalking</th>\n",
              "      <th>Sex</th>\n",
              "      <th>AgeCategory</th>\n",
              "      <th>Race</th>\n",
              "      <th>Diabetic</th>\n",
              "      <th>PhysicalActivity</th>\n",
              "      <th>GenHealth</th>\n",
              "      <th>SleepTime</th>\n",
              "      <th>Asthma</th>\n",
              "      <th>KidneyDisease</th>\n",
              "      <th>SkinCancer</th>\n",
              "    </tr>\n",
              "  </thead>\n",
              "  <tbody>\n",
              "    <tr>\n",
              "      <th>0</th>\n",
              "      <td>No</td>\n",
              "      <td>16.60</td>\n",
              "      <td>Yes</td>\n",
              "      <td>No</td>\n",
              "      <td>No</td>\n",
              "      <td>3.0</td>\n",
              "      <td>30.0</td>\n",
              "      <td>No</td>\n",
              "      <td>Female</td>\n",
              "      <td>55-59</td>\n",
              "      <td>White</td>\n",
              "      <td>Yes</td>\n",
              "      <td>Yes</td>\n",
              "      <td>Very good</td>\n",
              "      <td>5.0</td>\n",
              "      <td>Yes</td>\n",
              "      <td>No</td>\n",
              "      <td>Yes</td>\n",
              "    </tr>\n",
              "    <tr>\n",
              "      <th>1</th>\n",
              "      <td>No</td>\n",
              "      <td>20.34</td>\n",
              "      <td>No</td>\n",
              "      <td>No</td>\n",
              "      <td>Yes</td>\n",
              "      <td>0.0</td>\n",
              "      <td>0.0</td>\n",
              "      <td>No</td>\n",
              "      <td>Female</td>\n",
              "      <td>80 or older</td>\n",
              "      <td>White</td>\n",
              "      <td>No</td>\n",
              "      <td>Yes</td>\n",
              "      <td>Very good</td>\n",
              "      <td>7.0</td>\n",
              "      <td>No</td>\n",
              "      <td>No</td>\n",
              "      <td>No</td>\n",
              "    </tr>\n",
              "    <tr>\n",
              "      <th>2</th>\n",
              "      <td>No</td>\n",
              "      <td>26.58</td>\n",
              "      <td>Yes</td>\n",
              "      <td>No</td>\n",
              "      <td>No</td>\n",
              "      <td>20.0</td>\n",
              "      <td>30.0</td>\n",
              "      <td>No</td>\n",
              "      <td>Male</td>\n",
              "      <td>65-69</td>\n",
              "      <td>White</td>\n",
              "      <td>Yes</td>\n",
              "      <td>Yes</td>\n",
              "      <td>Fair</td>\n",
              "      <td>8.0</td>\n",
              "      <td>Yes</td>\n",
              "      <td>No</td>\n",
              "      <td>No</td>\n",
              "    </tr>\n",
              "    <tr>\n",
              "      <th>3</th>\n",
              "      <td>No</td>\n",
              "      <td>24.21</td>\n",
              "      <td>No</td>\n",
              "      <td>No</td>\n",
              "      <td>No</td>\n",
              "      <td>0.0</td>\n",
              "      <td>0.0</td>\n",
              "      <td>No</td>\n",
              "      <td>Female</td>\n",
              "      <td>75-79</td>\n",
              "      <td>White</td>\n",
              "      <td>No</td>\n",
              "      <td>No</td>\n",
              "      <td>Good</td>\n",
              "      <td>6.0</td>\n",
              "      <td>No</td>\n",
              "      <td>No</td>\n",
              "      <td>Yes</td>\n",
              "    </tr>\n",
              "    <tr>\n",
              "      <th>4</th>\n",
              "      <td>No</td>\n",
              "      <td>23.71</td>\n",
              "      <td>No</td>\n",
              "      <td>No</td>\n",
              "      <td>No</td>\n",
              "      <td>28.0</td>\n",
              "      <td>0.0</td>\n",
              "      <td>Yes</td>\n",
              "      <td>Female</td>\n",
              "      <td>40-44</td>\n",
              "      <td>White</td>\n",
              "      <td>No</td>\n",
              "      <td>Yes</td>\n",
              "      <td>Very good</td>\n",
              "      <td>8.0</td>\n",
              "      <td>No</td>\n",
              "      <td>No</td>\n",
              "      <td>No</td>\n",
              "    </tr>\n",
              "  </tbody>\n",
              "</table>\n",
              "</div>\n",
              "      <button class=\"colab-df-convert\" onclick=\"convertToInteractive('df-06a39100-3779-4a78-b269-81c23a1294c2')\"\n",
              "              title=\"Convert this dataframe to an interactive table.\"\n",
              "              style=\"display:none;\">\n",
              "        \n",
              "  <svg xmlns=\"http://www.w3.org/2000/svg\" height=\"24px\"viewBox=\"0 0 24 24\"\n",
              "       width=\"24px\">\n",
              "    <path d=\"M0 0h24v24H0V0z\" fill=\"none\"/>\n",
              "    <path d=\"M18.56 5.44l.94 2.06.94-2.06 2.06-.94-2.06-.94-.94-2.06-.94 2.06-2.06.94zm-11 1L8.5 8.5l.94-2.06 2.06-.94-2.06-.94L8.5 2.5l-.94 2.06-2.06.94zm10 10l.94 2.06.94-2.06 2.06-.94-2.06-.94-.94-2.06-.94 2.06-2.06.94z\"/><path d=\"M17.41 7.96l-1.37-1.37c-.4-.4-.92-.59-1.43-.59-.52 0-1.04.2-1.43.59L10.3 9.45l-7.72 7.72c-.78.78-.78 2.05 0 2.83L4 21.41c.39.39.9.59 1.41.59.51 0 1.02-.2 1.41-.59l7.78-7.78 2.81-2.81c.8-.78.8-2.07 0-2.86zM5.41 20L4 18.59l7.72-7.72 1.47 1.35L5.41 20z\"/>\n",
              "  </svg>\n",
              "      </button>\n",
              "      \n",
              "  <style>\n",
              "    .colab-df-container {\n",
              "      display:flex;\n",
              "      flex-wrap:wrap;\n",
              "      gap: 12px;\n",
              "    }\n",
              "\n",
              "    .colab-df-convert {\n",
              "      background-color: #E8F0FE;\n",
              "      border: none;\n",
              "      border-radius: 50%;\n",
              "      cursor: pointer;\n",
              "      display: none;\n",
              "      fill: #1967D2;\n",
              "      height: 32px;\n",
              "      padding: 0 0 0 0;\n",
              "      width: 32px;\n",
              "    }\n",
              "\n",
              "    .colab-df-convert:hover {\n",
              "      background-color: #E2EBFA;\n",
              "      box-shadow: 0px 1px 2px rgba(60, 64, 67, 0.3), 0px 1px 3px 1px rgba(60, 64, 67, 0.15);\n",
              "      fill: #174EA6;\n",
              "    }\n",
              "\n",
              "    [theme=dark] .colab-df-convert {\n",
              "      background-color: #3B4455;\n",
              "      fill: #D2E3FC;\n",
              "    }\n",
              "\n",
              "    [theme=dark] .colab-df-convert:hover {\n",
              "      background-color: #434B5C;\n",
              "      box-shadow: 0px 1px 3px 1px rgba(0, 0, 0, 0.15);\n",
              "      filter: drop-shadow(0px 1px 2px rgba(0, 0, 0, 0.3));\n",
              "      fill: #FFFFFF;\n",
              "    }\n",
              "  </style>\n",
              "\n",
              "      <script>\n",
              "        const buttonEl =\n",
              "          document.querySelector('#df-06a39100-3779-4a78-b269-81c23a1294c2 button.colab-df-convert');\n",
              "        buttonEl.style.display =\n",
              "          google.colab.kernel.accessAllowed ? 'block' : 'none';\n",
              "\n",
              "        async function convertToInteractive(key) {\n",
              "          const element = document.querySelector('#df-06a39100-3779-4a78-b269-81c23a1294c2');\n",
              "          const dataTable =\n",
              "            await google.colab.kernel.invokeFunction('convertToInteractive',\n",
              "                                                     [key], {});\n",
              "          if (!dataTable) return;\n",
              "\n",
              "          const docLinkHtml = 'Like what you see? Visit the ' +\n",
              "            '<a target=\"_blank\" href=https://colab.research.google.com/notebooks/data_table.ipynb>data table notebook</a>'\n",
              "            + ' to learn more about interactive tables.';\n",
              "          element.innerHTML = '';\n",
              "          dataTable['output_type'] = 'display_data';\n",
              "          await google.colab.output.renderOutput(dataTable, element);\n",
              "          const docLink = document.createElement('div');\n",
              "          docLink.innerHTML = docLinkHtml;\n",
              "          element.appendChild(docLink);\n",
              "        }\n",
              "      </script>\n",
              "    </div>\n",
              "  </div>\n",
              "  "
            ]
          },
          "metadata": {},
          "execution_count": 190
        }
      ],
      "source": [
        "df = pd.read_csv(\"heart_2020_cleaned.csv\")\n",
        "df.head()"
      ]
    },
    {
      "cell_type": "markdown",
      "metadata": {
        "id": "0hp4oy75D0-_"
      },
      "source": [
        "# 2 Data Cleaning"
      ]
    },
    {
      "cell_type": "code",
      "execution_count": null,
      "metadata": {
        "id": "qgS6x7io886L"
      },
      "outputs": [],
      "source": [
        "num_cols = df.select_dtypes(exclude='object').columns\n",
        "obj_cols = df.select_dtypes(include='object').columns[1:]"
      ]
    },
    {
      "cell_type": "markdown",
      "metadata": {
        "id": "HrMNI7qAEp2I"
      },
      "source": [
        "## 2.1 Missing Data"
      ]
    },
    {
      "cell_type": "markdown",
      "metadata": {
        "id": "tDEItRKVGcbL"
      },
      "source": [
        "For missing data we should first check if any values are null/NaN. Then we should check the unique values of every column (especially categorical) in search of any abnormal values such as \"???\"."
      ]
    },
    {
      "cell_type": "markdown",
      "metadata": {
        "id": "_Mxxpm3FG3hn"
      },
      "source": [
        "### 2.1.1 Null Values"
      ]
    },
    {
      "cell_type": "code",
      "execution_count": null,
      "metadata": {
        "colab": {
          "base_uri": "https://localhost:8080/"
        },
        "id": "0s5jDR9xEpPN",
        "outputId": "fed4560d-3031-4614-965f-54889a29685c"
      },
      "outputs": [
        {
          "output_type": "execute_result",
          "data": {
            "text/plain": [
              "HeartDisease        0\n",
              "BMI                 0\n",
              "Smoking             0\n",
              "AlcoholDrinking     0\n",
              "Stroke              0\n",
              "PhysicalHealth      0\n",
              "MentalHealth        0\n",
              "DiffWalking         0\n",
              "Sex                 0\n",
              "AgeCategory         0\n",
              "Race                0\n",
              "Diabetic            0\n",
              "PhysicalActivity    0\n",
              "GenHealth           0\n",
              "SleepTime           0\n",
              "Asthma              0\n",
              "KidneyDisease       0\n",
              "SkinCancer          0\n",
              "dtype: int64"
            ]
          },
          "metadata": {},
          "execution_count": 192
        }
      ],
      "source": [
        "df.isna().sum()"
      ]
    },
    {
      "cell_type": "markdown",
      "metadata": {
        "id": "_IUoL4iDHl7Y"
      },
      "source": [
        "We Have no null values in the dataset."
      ]
    },
    {
      "cell_type": "markdown",
      "metadata": {
        "id": "GvZZxDp1Hsz5"
      },
      "source": [
        "### 2.1.2 Unusual Values"
      ]
    },
    {
      "cell_type": "code",
      "execution_count": null,
      "metadata": {
        "colab": {
          "base_uri": "https://localhost:8080/"
        },
        "id": "q8DMCNgaHw0m",
        "outputId": "72163f22-898b-4cce-9bb2-c0abf82c10dd"
      },
      "outputs": [
        {
          "output_type": "stream",
          "name": "stdout",
          "text": [
            "Unique Values for categorical columns:\n",
            "  - HeartDisease: ['No' 'Yes']\n",
            "\n",
            "  - Smoking: ['Yes' 'No']\n",
            "\n",
            "  - AlcoholDrinking: ['No' 'Yes']\n",
            "\n",
            "  - Stroke: ['No' 'Yes']\n",
            "\n",
            "  - DiffWalking: ['No' 'Yes']\n",
            "\n",
            "  - Sex: ['Female' 'Male']\n",
            "\n",
            "  - AgeCategory: ['55-59' '80 or older' '65-69' '75-79' '40-44' '70-74' '60-64' '50-54'\n",
            " '45-49' '18-24' '35-39' '30-34' '25-29']\n",
            "\n",
            "  - Race: ['White' 'Black' 'Asian' 'American Indian/Alaskan Native' 'Other'\n",
            " 'Hispanic']\n",
            "\n",
            "  - Diabetic: ['Yes' 'No' 'No, borderline diabetes' 'Yes (during pregnancy)']\n",
            "\n",
            "  - PhysicalActivity: ['Yes' 'No']\n",
            "\n",
            "  - GenHealth: ['Very good' 'Fair' 'Good' 'Poor' 'Excellent']\n",
            "\n",
            "  - Asthma: ['Yes' 'No']\n",
            "\n",
            "  - KidneyDisease: ['No' 'Yes']\n",
            "\n",
            "  - SkinCancer: ['Yes' 'No']\n",
            "\n"
          ]
        }
      ],
      "source": [
        "print(f\"Unique Values for categorical columns:\")\n",
        "for col in df.select_dtypes(include='object'):\n",
        "  print(f\"  - {col}: {df[col].unique()}\\n\")"
      ]
    },
    {
      "cell_type": "markdown",
      "metadata": {
        "id": "o4AGxhbWQjXc"
      },
      "source": [
        "We can see for each column that all the values are valid and there are no missing values."
      ]
    },
    {
      "cell_type": "markdown",
      "metadata": {
        "id": "MirTteWmRSkB"
      },
      "source": [
        "## 2.2 Outliers"
      ]
    },
    {
      "cell_type": "markdown",
      "metadata": {
        "id": "5HLSgD_X1jMz"
      },
      "source": [
        "### 2.2.1 Univariate Outlier Detection"
      ]
    },
    {
      "cell_type": "markdown",
      "metadata": {
        "id": "VvteqkcBL2CK"
      },
      "source": [
        "We should explore outliers only in the numerical variables as there is no notion of uniariate outliers in categorical variables."
      ]
    },
    {
      "cell_type": "code",
      "execution_count": null,
      "metadata": {
        "colab": {
          "base_uri": "https://localhost:8080/",
          "height": 1000
        },
        "id": "MrEJI0uq2ihv",
        "outputId": "4351003d-2f22-4d6a-c71f-f824aab4c0c6"
      },
      "outputs": [
        {
          "output_type": "stream",
          "name": "stdout",
          "text": [
            "\n",
            "\n"
          ]
        },
        {
          "output_type": "display_data",
          "data": {
            "text/plain": [
              "<Figure size 1152x288 with 2 Axes>"
            ],
            "image/png": "[encoded data removed]"
          },
          "metadata": {}
        },
        {
          "output_type": "stream",
          "name": "stdout",
          "text": [
            "\n",
            "\n"
          ]
        },
        {
          "output_type": "display_data",
          "data": {
            "text/plain": [
              "<Figure size 1152x288 with 2 Axes>"
            ],
            "image/png": "[encoded data removed]"
          },
          "metadata": {}
        },
        {
          "output_type": "stream",
          "name": "stdout",
          "text": [
            "\n",
            "\n"
          ]
        },
        {
          "output_type": "display_data",
          "data": {
            "text/plain": [
              "<Figure size 1152x288 with 2 Axes>"
            ],
            "image/png": "[encoded data removed]"
          },
          "metadata": {}
        },
        {
          "output_type": "stream",
          "name": "stdout",
          "text": [
            "\n",
            "\n"
          ]
        },
        {
          "output_type": "display_data",
          "data": {
            "text/plain": [
              "<Figure size 1152x288 with 2 Axes>"
            ],
            "image/png": "[encoded data removed]"
          },
          "metadata": {}
        }
      ],
      "source": [
        "numerical = df.select_dtypes(exclude='object')\n",
        "n = len(numerical)\n",
        "\n",
        "for col in numerical:\n",
        "  fig, (ax1, ax2) = plt.subplots(nrows=2, figsize=(16, 4))\n",
        "  plt.suptitle(f\"Distribution of {col}\")\n",
        "  sns.boxplot(data=df, x=col, ax=ax1, palette=colors1)\n",
        "  ax1.set_xlabel(None)\n",
        "  ax1.get_xaxis().set_ticks([])\n",
        "  sns.histplot(data=df, x=col, ax=ax2, palette=colors1)\n",
        "  plt.subplots_adjust(hspace=0)\n",
        "  print(\"\\n\")\n",
        "  plt.show()\n",
        "\n"
      ]
    },
    {
      "cell_type": "markdown",
      "metadata": {
        "id": "mtlQggrU9SC_"
      },
      "source": [
        "We can see that all numerical variables are skewed and contain outliers. Let's examine the IQR outliers more closely."
      ]
    },
    {
      "cell_type": "code",
      "execution_count": null,
      "metadata": {
        "colab": {
          "base_uri": "https://localhost:8080/"
        },
        "id": "TftAbAKl_0Gq",
        "outputId": "f9de4e19-f98a-4af3-e215-0eaaca58b434"
      },
      "outputs": [
        {
          "output_type": "stream",
          "name": "stdout",
          "text": [
            "BMI:\n",
            "\tOutlier Num = 10396\n",
            "\tOutlier Percentage = 3.25%\n",
            "\n",
            "PhysicalHealth:\n",
            "\tOutlier Num = 47146\n",
            "\tOutlier Percentage = 14.74%\n",
            "\n",
            "MentalHealth:\n",
            "\tOutlier Num = 51576\n",
            "\tOutlier Percentage = 16.13%\n",
            "\n",
            "SleepTime:\n",
            "\tOutlier Num = 4543\n",
            "\tOutlier Percentage = 1.42%\n",
            "\n"
          ]
        }
      ],
      "source": [
        "for col in numerical:\n",
        "  Q1, Q3 = df[col].quantile([0.25,0.75])\n",
        "  IQR = Q3 - Q1\n",
        "  right = Q3 + 1.5 * IQR\n",
        "  left = Q1 - 1.5 * IQR\n",
        "  n = len(df.loc[(df[col] < left) | (df[col] > right)])\n",
        "  print(f\"{col}:\\n\\tOutlier Num = {n}\\n\\tOutlier Percentage = {n*100/len(df):.2f}%\\n\")"
      ]
    },
    {
      "cell_type": "markdown",
      "metadata": {
        "id": "RGrOlcXC5MbX"
      },
      "source": [
        "### 2.2.2 Multivariate Outlier Detection"
      ]
    },
    {
      "cell_type": "code",
      "execution_count": null,
      "metadata": {
        "colab": {
          "base_uri": "https://localhost:8080/",
          "height": 1000
        },
        "id": "PCqQLAFV5v0w",
        "outputId": "6b577929-8041-44ce-a81f-7a69e815d823"
      },
      "outputs": [
        {
          "output_type": "display_data",
          "data": {
            "text/plain": [
              "<Figure size 864x576 with 2 Axes>"
            ],
            "image/png": "[encoded data removed]"
          },
          "metadata": {}
        },
        {
          "output_type": "display_data",
          "data": {
            "text/plain": [
              "<Figure size 864x576 with 2 Axes>"
            ],
            "image/png": "[encoded data removed]"
          },
          "metadata": {}
        },
        {
          "output_type": "display_data",
          "data": {
            "text/plain": [
              "<Figure size 864x576 with 2 Axes>"
            ],
            "image/png": "[encoded data removed]"
          },
          "metadata": {}
        },
        {
          "output_type": "display_data",
          "data": {
            "text/plain": [
              "<Figure size 864x576 with 2 Axes>"
            ],
            "image/png": "[encoded data removed]"
          },
          "metadata": {}
        }
      ],
      "source": [
        "num_cols = df.select_dtypes(exclude='object').columns\n",
        "for col in num_cols:\n",
        "    fig, ax =plt.subplots(1,2, figsize=(12,8))\n",
        "    sns.boxplot(data=df, y=col, ax=ax[0], palette=colors1)\n",
        "    sns.scatterplot(data=df,x = 'HeartDisease', s = 100, y=col, ax=ax[1], palette=colors1)\n",
        "    plt.show()"
      ]
    },
    {
      "cell_type": "markdown",
      "metadata": {
        "id": "myTNpGYZNNNS"
      },
      "source": [
        "### 2.2.3 Outlier Removal"
      ]
    },
    {
      "cell_type": "code",
      "execution_count": null,
      "metadata": {
        "id": "nuVWhMsb53_B"
      },
      "outputs": [],
      "source": [
        "zs = df.copy()\n",
        "for col in num_cols:\n",
        "  zs[col] = zscore(zs[col])\n",
        "outscores = np.abs(zs[num_cols])\n",
        "no_outliers = (outscores<=3.3).all(axis=1)\n",
        "df2 = df[no_outliers]"
      ]
    },
    {
      "cell_type": "markdown",
      "metadata": {
        "id": "nC9bWu3yTdjG"
      },
      "source": [
        "## 2.3 Categorical Encoding & Feature Scaling"
      ]
    },
    {
      "cell_type": "code",
      "execution_count": null,
      "metadata": {
        "colab": {
          "base_uri": "https://localhost:8080/"
        },
        "id": "6i9IrSGm8iED",
        "outputId": "80283a27-eb11-4795-e909-20e40e62c08b"
      },
      "outputs": [
        {
          "output_type": "execute_result",
          "data": {
            "text/plain": [
              "ColumnTransformer(remainder='passthrough',\n",
              "                  transformers=[('ordinalencoder', OrdinalEncoder(),\n",
              "                                 Index(['Smoking', 'AlcoholDrinking', 'Stroke', 'DiffWalking', 'Sex',\n",
              "       'AgeCategory', 'Race', 'Diabetic', 'PhysicalActivity', 'GenHealth',\n",
              "       'Asthma', 'KidneyDisease', 'SkinCancer'],\n",
              "      dtype='object')),\n",
              "                                ('standardscaler', StandardScaler(),\n",
              "                                 Index(['BMI', 'PhysicalHealth', 'MentalHealth', 'SleepTime'], dtype='object'))])"
            ]
          },
          "metadata": {},
          "execution_count": 198
        }
      ],
      "source": [
        "trans = make_column_transformer(\n",
        "    (OrdinalEncoder(), obj_cols),\n",
        "    (StandardScaler(), num_cols),\n",
        "    remainder='passthrough'\n",
        ")\n",
        "\n",
        "trans"
      ]
    },
    {
      "cell_type": "markdown",
      "metadata": {
        "id": "W7UG7RjtaCiv"
      },
      "source": [
        "## 2.4 Train-Test Split"
      ]
    },
    {
      "cell_type": "code",
      "execution_count": null,
      "metadata": {
        "id": "9VTlgQrBZ_D9"
      },
      "outputs": [],
      "source": [
        "X = df2.drop(columns=['HeartDisease'])\n",
        "y =  df2['HeartDisease']\n",
        "\n",
        "X_train, X_test, y_train, y_test = train_test_split(X, y, test_size=0.25, random_state=42)"
      ]
    },
    {
      "cell_type": "markdown",
      "metadata": {
        "id": "nwFH8lTYNyiz"
      },
      "source": [
        "The test set contains 73,600 observations."
      ]
    },
    {
      "cell_type": "markdown",
      "metadata": {
        "id": "N6EWiDSS_YPp"
      },
      "source": [
        "# 3 Modeling"
      ]
    },
    {
      "cell_type": "markdown",
      "metadata": {
        "id": "hQX4za92E8XV"
      },
      "source": [
        "## Helpers"
      ]
    },
    {
      "cell_type": "code",
      "execution_count": null,
      "metadata": {
        "cellView": "form",
        "id": "dzv6qubCEuIs"
      },
      "outputs": [],
      "source": [
        "#@title\n",
        "def make_confusion_matrix(cf,\n",
        "                          group_names=None,\n",
        "                          categories='auto',\n",
        "                          count=True,\n",
        "                          percent=True,\n",
        "                          cbar=True,\n",
        "                          xyticks=True,\n",
        "                          xyplotlabels=True,\n",
        "                          sum_stats=True,\n",
        "                          figsize=None,\n",
        "                          cmap='Blues',\n",
        "                          title=None):\n",
        "    '''\n",
        "    This function will make a pretty plot of an sklearn Confusion Matrix cm using a Seaborn heatmap visualization.\n",
        "\n",
        "    Arguments\n",
        "    ---------\n",
        "    cf:            confusion matrix to be passed in\n",
        "\n",
        "    group_names:   List of strings that represent the labels row by row to be shown in each square.\n",
        "\n",
        "    categories:    List of strings containing the categories to be displayed on the x,y axis. Default is 'auto'\n",
        "\n",
        "    count:         If True, show the raw number in the confusion matrix. Default is True.\n",
        "\n",
        "    normalize:     If True, show the proportions for each category. Default is True.\n",
        "\n",
        "    cbar:          If True, show the color bar. The cbar values are based off the values in the confusion matrix.\n",
        "                   Default is True.\n",
        "\n",
        "    xyticks:       If True, show x and y ticks. Default is True.\n",
        "\n",
        "    xyplotlabels:  If True, show 'True Label' and 'Predicted Label' on the figure. Default is True.\n",
        "\n",
        "    sum_stats:     If True, display summary statistics below the figure. Default is True.\n",
        "\n",
        "    figsize:       Tuple representing the figure size. Default will be the matplotlib rcParams value.\n",
        "\n",
        "    cmap:          Colormap of the values displayed from matplotlib.pyplot.cm. Default is 'Blues'\n",
        "                   See http://matplotlib.org/examples/color/colormaps_reference.html\n",
        "                   \n",
        "    title:         Title for the heatmap. Default is None.\n",
        "\n",
        "    '''\n",
        "\n",
        "\n",
        "    # CODE TO GENERATE TEXT INSIDE EACH SQUARE\n",
        "    blanks = ['' for i in range(cf.size)]\n",
        "\n",
        "    if group_names and len(group_names)==cf.size:\n",
        "        group_labels = [\"{}\\n\".format(value) for value in group_names]\n",
        "    else:\n",
        "        group_labels = blanks\n",
        "\n",
        "    if count:\n",
        "        group_counts = [\"{0:0.0f}\\n\".format(value) for value in cf.flatten()]\n",
        "    else:\n",
        "        group_counts = blanks\n",
        "\n",
        "    if percent:\n",
        "        group_percentages = [\"{0:.2%}\".format(value) for value in cf.flatten()/np.sum(cf)]\n",
        "    else:\n",
        "        group_percentages = blanks\n",
        "\n",
        "    box_labels = [f\"{v1}{v2}{v3}\".strip() for v1, v2, v3 in zip(group_labels,group_counts,group_percentages)]\n",
        "    box_labels = np.asarray(box_labels).reshape(cf.shape[0],cf.shape[1])\n",
        "\n",
        "\n",
        "    # CODE TO GENERATE SUMMARY STATISTICS & TEXT FOR SUMMARY STATS\n",
        "    if sum_stats:\n",
        "        #Accuracy is sum of diagonal divided by total observations\n",
        "        accuracy  = np.trace(cf) / float(np.sum(cf))\n",
        "\n",
        "        #if it is a binary confusion matrix, show some more stats\n",
        "        if len(cf)==2:\n",
        "            #Metrics for Binary Confusion Matrices\n",
        "            precision = cf[1,1] / sum(cf[:,1])\n",
        "            recall    = cf[1,1] / sum(cf[1,:])\n",
        "            f1_score  = 2*precision*recall / (precision + recall)\n",
        "            stats_text = \"\\n\\nAccuracy={:0.3f}\\nPrecision={:0.3f}\\nRecall={:0.3f}\\nF1 Score={:0.3f}\".format(\n",
        "                accuracy,precision,recall,f1_score)\n",
        "        else:\n",
        "            stats_text = \"\\n\\nAccuracy={:0.3f}\".format(accuracy)\n",
        "    else:\n",
        "        stats_text = \"\"\n",
        "\n",
        "\n",
        "    # SET FIGURE PARAMETERS ACCORDING TO OTHER ARGUMENTS\n",
        "    if figsize==None:\n",
        "        #Get default figure size if not set\n",
        "        figsize = plt.rcParams.get('figure.figsize')\n",
        "\n",
        "    if xyticks==False:\n",
        "        #Do not show categories if xyticks is False\n",
        "        categories=False\n",
        "\n",
        "\n",
        "    # MAKE THE HEATMAP VISUALIZATION\n",
        "    plt.figure(figsize=figsize)\n",
        "    sns.heatmap(cf,annot=box_labels,fmt=\"\",cmap=cmap,cbar=cbar,xticklabels=categories,yticklabels=categories)\n",
        "\n",
        "    if xyplotlabels:\n",
        "        plt.ylabel('True label')\n",
        "        plt.xlabel('Predicted label' + stats_text)\n",
        "    else:\n",
        "        plt.xlabel(stats_text)\n",
        "    \n",
        "    if title:\n",
        "        plt.title(title)"
      ]
    },
    {
      "cell_type": "code",
      "execution_count": null,
      "metadata": {
        "id": "Y4dIvPiqG_jW"
      },
      "outputs": [],
      "source": [
        "# Let's make function to make using different algorithms easy.\n",
        "def try_model(transformation, sampler, model, X_train, y_train, X_test, y_test):\n",
        "    model_pipeline = Pipeline(steps=[('transform', transformation),\n",
        "                                     ('sample', sampler),\n",
        "                                     ('model', model)])\n",
        "\n",
        "    model_pipeline.fit(X_train, y_train)\n",
        "    y_pred = model_pipeline.predict(X_test)\n",
        "\n",
        "    print(f'Training Accuracy : {model_pipeline.score(X_train, y_train)}')\n",
        "    print(f'Test Accuracy : {model_pipeline.score(X_test, y_test)}')\n",
        "\n",
        "    return y_pred, classification_report(y_test, y_pred)"
      ]
    },
    {
      "cell_type": "code",
      "execution_count": null,
      "metadata": {
        "id": "Q7_bUP2fJ026"
      },
      "outputs": [],
      "source": [
        "def f_importances(coef, names, top=-1):\n",
        "    imp = coef\n",
        "    imp, names = zip(*sorted(list(zip(imp, names))))\n",
        "\n",
        "    # Show all features\n",
        "    if top == -1:\n",
        "        top = len(names)\n",
        "\n",
        "    plt.figure(figsize=(16, 8), dpi=80)\n",
        "    sns.barplot(x=list(imp[::-1][0:top]), y=list(names[::-1][0:top]), palette='RdYlGn')\n",
        "    plt.yticks(range(top), names[::-1][0:top])\n",
        "    plt.title(\"Feature Importance\");\n",
        "    plt.show()"
      ]
    },
    {
      "cell_type": "code",
      "execution_count": null,
      "metadata": {
        "id": "1XMeSDR_wRCg"
      },
      "outputs": [],
      "source": [
        "def plot_roc_auc(model, X_test, y_test, y_pred=None):\n",
        "  if(y_pred is None):\n",
        "    y_pred =  model.decision_function(X_test)\n",
        "\n",
        "  fpr, tpr, thresholds = roc_curve(y_test, y_pred)\n",
        "\n",
        "  roc_auc = auc(fpr, tpr)\n",
        "\n",
        "  plt.title('Receiver Operating Characteristic')\n",
        "  plt.plot(fpr, tpr, 'b', label = 'AUC = %0.2f' % roc_auc)\n",
        "  plt.legend(loc = 'lower right')\n",
        "  plt.plot([0, 1], [0, 1],'r--')\n",
        "  plt.axis('tight')\n",
        "  plt.ylabel('True Positive Rate')\n",
        "  plt.xlabel('False Positive Rate')\n",
        "  return fpr, tpr, thresholds"
      ]
    },
    {
      "cell_type": "code",
      "execution_count": null,
      "metadata": {
        "id": "2w3vCzR2k-iz"
      },
      "outputs": [],
      "source": [
        "model_metrics = {\n",
        "           'Model':[],\n",
        "           'Sampling Method':[],\n",
        "           'Heart Disease Precision':[], \n",
        "           'No Heart Disease Precision':[],\n",
        "           'Heart Disease Recall':[],\n",
        "           'No Heart Disease Recall':[],\n",
        "           'Heart Disease F1':[],\n",
        "           'No Heart Disease F1':[],\n",
        "           'Accuracy':[]}"
      ]
    },
    {
      "cell_type": "markdown",
      "metadata": {
        "id": "E9YzxzLJ_q4V"
      },
      "source": [
        "## 3.1 Logistic Regression"
      ]
    },
    {
      "cell_type": "markdown",
      "metadata": {
        "id": "B1k-6nT2FZhi"
      },
      "source": [
        "### 3.1.1 Model"
      ]
    },
    {
      "cell_type": "code",
      "execution_count": null,
      "metadata": {
        "colab": {
          "base_uri": "https://localhost:8080/"
        },
        "id": "KE0J_n0DAExl",
        "outputId": "a9ead669-7e0e-41de-f79c-a2638ab1291b"
      },
      "outputs": [
        {
          "output_type": "stream",
          "name": "stdout",
          "text": [
            "Training Accuracy : 0.7240954524662478\n",
            "Test Accuracy : 0.7260906781157864\n"
          ]
        }
      ],
      "source": [
        "y_pred, report = try_model(trans,\n",
        "                           SMOTE(random_state = 42),\n",
        "                           LogisticRegression(C = 1000),\n",
        "                           X_train,\n",
        "                           y_train,\n",
        "                           X_test,\n",
        "                           y_test)"
      ]
    },
    {
      "cell_type": "markdown",
      "metadata": {
        "id": "BIJ8ePgcEmyT"
      },
      "source": [
        "### 3.1.2 Evaluation"
      ]
    },
    {
      "cell_type": "markdown",
      "metadata": {
        "id": "Ytx4bHtqFSBR"
      },
      "source": [
        "#### 3.1.2.1 Classification Report"
      ]
    },
    {
      "cell_type": "code",
      "execution_count": null,
      "metadata": {
        "colab": {
          "base_uri": "https://localhost:8080/"
        },
        "id": "-QzcC3A-A_3v",
        "outputId": "f2813067-413e-4892-de8d-c1632025ace6"
      },
      "outputs": [
        {
          "output_type": "stream",
          "name": "stdout",
          "text": [
            "              precision    recall  f1-score   support\n",
            "\n",
            "          No       0.98      0.72      0.83     68052\n",
            "         Yes       0.19      0.78      0.30      5549\n",
            "\n",
            "    accuracy                           0.73     73601\n",
            "   macro avg       0.58      0.75      0.56     73601\n",
            "weighted avg       0.92      0.73      0.79     73601\n",
            "\n"
          ]
        }
      ],
      "source": [
        "print(report)"
      ]
    },
    {
      "cell_type": "code",
      "execution_count": null,
      "metadata": {
        "id": "ox4GUBLemK-9"
      },
      "outputs": [],
      "source": [
        "model_metrics['Model'].append(\"Logistic Regression\")\n",
        "model_metrics['Sampling Method'].append(\"SMOTE\")\n",
        "model_metrics['Heart Disease Precision'].append(0.19)\n",
        "model_metrics['No Heart Disease Precision'].append(0.98)\n",
        "model_metrics['Heart Disease Recall'].append(0.78)\n",
        "model_metrics['No Heart Disease Recall'].append(0.72)\n",
        "model_metrics['Heart Disease F1'].append(0.30)\n",
        "model_metrics['No Heart Disease F1'].append(0.83)\n",
        "model_metrics['Accuracy'].append(0.73)"
      ]
    },
    {
      "cell_type": "markdown",
      "metadata": {
        "id": "bSSkKZpVFgZi"
      },
      "source": [
        "#### 3.1.2.2 Confusion Matrix"
      ]
    },
    {
      "cell_type": "code",
      "execution_count": null,
      "metadata": {
        "colab": {
          "base_uri": "https://localhost:8080/",
          "height": 337
        },
        "id": "hE6n347fFkiy",
        "outputId": "80cf6ec4-0561-433a-9d02-6118149e3cfc"
      },
      "outputs": [
        {
          "output_type": "display_data",
          "data": {
            "text/plain": [
              "<Figure size 432x288 with 2 Axes>"
            ],
            "image/png": "[encoded data removed]"
          },
          "metadata": {}
        }
      ],
      "source": [
        "cm = confusion_matrix(y_test, y_pred)\n",
        "make_confusion_matrix(cm)"
      ]
    },
    {
      "cell_type": "markdown",
      "metadata": {
        "id": "0y8o_3VvIKLG"
      },
      "source": [
        "## 3.2 Decision Tree"
      ]
    },
    {
      "cell_type": "markdown",
      "metadata": {
        "id": "vrP2Hv8gI4T7"
      },
      "source": [
        "### 3.2.1 Model"
      ]
    },
    {
      "cell_type": "code",
      "execution_count": null,
      "metadata": {
        "colab": {
          "base_uri": "https://localhost:8080/"
        },
        "id": "dSdojit7INbA",
        "outputId": "ff47efdc-37d4-4a42-9c20-e45bfaf8eb7b"
      },
      "outputs": [
        {
          "output_type": "stream",
          "name": "stdout",
          "text": [
            "Training Accuracy : 0.8049329486732397\n",
            "Test Accuracy : 0.8016467167565658\n"
          ]
        }
      ],
      "source": [
        "dt = DecisionTreeClassifier(max_features=17, max_depth=10)\n",
        "\n",
        "y_pred, report = try_model(trans,\n",
        "                           SMOTE(random_state = 42),\n",
        "                           dt,\n",
        "                           X_train,\n",
        "                           y_train,\n",
        "                           X_test,\n",
        "                           y_test)"
      ]
    },
    {
      "cell_type": "markdown",
      "metadata": {
        "id": "-VEeeeWOI_jS"
      },
      "source": [
        "### 3.2.2 Evaluation"
      ]
    },
    {
      "cell_type": "markdown",
      "metadata": {
        "id": "KesA7S2dI_jS"
      },
      "source": [
        "#### 3.2.2.1 Classification Report"
      ]
    },
    {
      "cell_type": "code",
      "execution_count": null,
      "metadata": {
        "colab": {
          "base_uri": "https://localhost:8080/"
        },
        "id": "Hj6DUbCSI_jS",
        "outputId": "3cc0759f-2de1-4518-f680-2f9a92102393"
      },
      "outputs": [
        {
          "output_type": "stream",
          "name": "stdout",
          "text": [
            "              precision    recall  f1-score   support\n",
            "\n",
            "          No       0.96      0.82      0.88     68052\n",
            "         Yes       0.22      0.63      0.32      5549\n",
            "\n",
            "    accuracy                           0.80     73601\n",
            "   macro avg       0.59      0.72      0.60     73601\n",
            "weighted avg       0.91      0.80      0.84     73601\n",
            "\n"
          ]
        }
      ],
      "source": [
        "print(report)"
      ]
    },
    {
      "cell_type": "code",
      "execution_count": null,
      "metadata": {
        "id": "impuISV3m9wg"
      },
      "outputs": [],
      "source": [
        "model_metrics['Model'].append(\"Decision Tree\")\n",
        "model_metrics['Sampling Method'].append(\"SMOTE\")\n",
        "model_metrics['Heart Disease Precision'].append(0.22)\n",
        "model_metrics['No Heart Disease Precision'].append(0.96)\n",
        "model_metrics['Heart Disease Recall'].append(0.63)\n",
        "model_metrics['No Heart Disease Recall'].append(0.82)\n",
        "model_metrics['Heart Disease F1'].append(0.32)\n",
        "model_metrics['No Heart Disease F1'].append(0.88)\n",
        "model_metrics['Accuracy'].append(0.80)"
      ]
    },
    {
      "cell_type": "markdown",
      "metadata": {
        "id": "rgyBOHadI_jT"
      },
      "source": [
        "#### 3.2.2.2 Confusion Matrix"
      ]
    },
    {
      "cell_type": "code",
      "execution_count": null,
      "metadata": {
        "colab": {
          "base_uri": "https://localhost:8080/",
          "height": 337
        },
        "id": "Op9XifkgI_jT",
        "outputId": "da159bb6-1043-405a-ae4a-26c3ccd24b7c"
      },
      "outputs": [
        {
          "output_type": "display_data",
          "data": {
            "text/plain": [
              "<Figure size 432x288 with 2 Axes>"
            ],
            "image/png": "[encoded data removed]"
          },
          "metadata": {}
        }
      ],
      "source": [
        "cm = confusion_matrix(y_test, y_pred)\n",
        "make_confusion_matrix(cm)"
      ]
    },
    {
      "cell_type": "markdown",
      "metadata": {
        "id": "GYcVhUT7PdWi"
      },
      "source": [
        "### 3.2.3 Feature Importances"
      ]
    },
    {
      "cell_type": "code",
      "execution_count": null,
      "metadata": {
        "colab": {
          "base_uri": "https://localhost:8080/",
          "height": 508
        },
        "id": "Va5v18lUJfNU",
        "outputId": "0b44f2d2-d985-45b1-f19b-5469c6595c1f"
      },
      "outputs": [
        {
          "output_type": "display_data",
          "data": {
            "text/plain": [
              "<Figure size 1280x640 with 1 Axes>"
            ],
            "image/png": "[encoded data removed]"
          },
          "metadata": {}
        }
      ],
      "source": [
        "features_names = df2.columns.drop('HeartDisease').to_list()\n",
        "f_importances(abs(dt.feature_importances_), features_names, top=16)"
      ]
    },
    {
      "cell_type": "markdown",
      "metadata": {
        "id": "S5yEdz9LPpHS"
      },
      "source": [
        "## 3.3 Random Forest"
      ]
    },
    {
      "cell_type": "markdown",
      "metadata": {
        "id": "FuqXk9BEQOTW"
      },
      "source": [
        "### 3.3.1 Model"
      ]
    },
    {
      "cell_type": "code",
      "execution_count": null,
      "metadata": {
        "colab": {
          "base_uri": "https://localhost:8080/"
        },
        "id": "vQNoi1ibQgH1",
        "outputId": "c8a42bc9-90d9-4ea5-a89d-5574253565ea"
      },
      "outputs": [
        {
          "output_type": "stream",
          "name": "stdout",
          "text": [
            "Training Accuracy : 0.8110515803823353\n",
            "Test Accuracy : 0.8083042349968071\n"
          ]
        }
      ],
      "source": [
        "rf = RandomForestClassifier(max_features=17, max_depth=10)\n",
        "\n",
        "y_pred, report = try_model(trans,\n",
        "                           SMOTE(random_state = 42),\n",
        "                           rf,\n",
        "                           X_train,\n",
        "                           y_train,\n",
        "                           X_test,\n",
        "                           y_test)"
      ]
    },
    {
      "cell_type": "markdown",
      "metadata": {
        "id": "3F5jXZk1QOTf"
      },
      "source": [
        "### 3.3.2 Evaluation"
      ]
    },
    {
      "cell_type": "markdown",
      "metadata": {
        "id": "kD2dp7H3QOTf"
      },
      "source": [
        "#### 3.3.2.1 Classification Report"
      ]
    },
    {
      "cell_type": "code",
      "execution_count": null,
      "metadata": {
        "colab": {
          "base_uri": "https://localhost:8080/"
        },
        "id": "vSNJFjZcQhB8",
        "outputId": "5f9d883a-e8cf-4b4d-d744-5bc871de285b"
      },
      "outputs": [
        {
          "output_type": "stream",
          "name": "stdout",
          "text": [
            "              precision    recall  f1-score   support\n",
            "\n",
            "          No       0.96      0.82      0.89     68052\n",
            "         Yes       0.22      0.63      0.33      5549\n",
            "\n",
            "    accuracy                           0.81     73601\n",
            "   macro avg       0.59      0.72      0.61     73601\n",
            "weighted avg       0.91      0.81      0.85     73601\n",
            "\n"
          ]
        }
      ],
      "source": [
        "print(report)"
      ]
    },
    {
      "cell_type": "code",
      "execution_count": null,
      "metadata": {
        "id": "YNDxGv_8npoV"
      },
      "outputs": [],
      "source": [
        "model_metrics['Model'].append(\"Random Forest\")\n",
        "model_metrics['Sampling Method'].append(\"SMOTE\")\n",
        "model_metrics['Heart Disease Precision'].append(0.22)\n",
        "model_metrics['No Heart Disease Precision'].append(0.96)\n",
        "model_metrics['Heart Disease Recall'].append(0.63)\n",
        "model_metrics['No Heart Disease Recall'].append(0.82)\n",
        "model_metrics['Heart Disease F1'].append(0.33)\n",
        "model_metrics['No Heart Disease F1'].append(0.89)\n",
        "model_metrics['Accuracy'].append(0.81)"
      ]
    },
    {
      "cell_type": "markdown",
      "metadata": {
        "id": "i3SxrrwyQOTf"
      },
      "source": [
        "#### 3.3.2.2 Confusion Matrix"
      ]
    },
    {
      "cell_type": "code",
      "execution_count": null,
      "metadata": {
        "colab": {
          "base_uri": "https://localhost:8080/",
          "height": 337
        },
        "id": "YpGIAkQnQhiH",
        "outputId": "18125b80-d828-499f-c72e-7a0095c36f14"
      },
      "outputs": [
        {
          "output_type": "display_data",
          "data": {
            "text/plain": [
              "<Figure size 432x288 with 2 Axes>"
            ],
            "image/png": "[encoded data removed]"
          },
          "metadata": {}
        }
      ],
      "source": [
        "cm = confusion_matrix(y_test, y_pred)\n",
        "make_confusion_matrix(cm)"
      ]
    },
    {
      "cell_type": "markdown",
      "metadata": {
        "id": "nqsJ77noQQAO"
      },
      "source": [
        "### 3.3.3 Feature Importances"
      ]
    },
    {
      "cell_type": "code",
      "execution_count": null,
      "metadata": {
        "colab": {
          "base_uri": "https://localhost:8080/",
          "height": 508
        },
        "id": "Q-kvYyNqQiBe",
        "outputId": "4633ab7f-c52a-45e9-f918-0e0653fbb1f5"
      },
      "outputs": [
        {
          "output_type": "display_data",
          "data": {
            "text/plain": [
              "<Figure size 1280x640 with 1 Axes>"
            ],
            "image/png": "[encoded data removed]"
          },
          "metadata": {}
        }
      ],
      "source": [
        "f_importances(abs(rf.feature_importances_), features_names, top=16)"
      ]
    },
    {
      "cell_type": "markdown",
      "metadata": {
        "id": "h6zgbnOMCHPF"
      },
      "source": [
        "## 3.4 KNN"
      ]
    },
    {
      "cell_type": "markdown",
      "metadata": {
        "id": "Z-6y7FBDZ4RG"
      },
      "source": [
        "### 3.4.1 Hyperparameter Tuning"
      ]
    },
    {
      "cell_type": "code",
      "execution_count": null,
      "metadata": {
        "id": "OvfgBgJ0tvW2"
      },
      "outputs": [],
      "source": [
        "err = []\n",
        "k = list(range(1, 21))\n",
        "\n",
        "for i in k:\n",
        "\n",
        "  neigh_undersample = Pipeline(steps=[('transform', trans),\n",
        "                                      ('sample', RandomUnderSampler(random_state = 42)),\n",
        "                                      ('KNN', KNeighborsClassifier(n_neighbors=i))])\n",
        "\n",
        "  res = cross_val_score(neigh_undersample, X_train.iloc[:20000], y_train.iloc[:20000], scoring='f1_micro', cv=5)\n",
        "\n",
        "  err.append(1 - res.mean())"
      ]
    },
    {
      "cell_type": "code",
      "execution_count": null,
      "metadata": {
        "colab": {
          "base_uri": "https://localhost:8080/",
          "height": 429
        },
        "id": "1lxIbM-oyFbC",
        "outputId": "e758b3e8-2699-4123-a207-6489a1547629"
      },
      "outputs": [
        {
          "output_type": "display_data",
          "data": {
            "text/plain": [
              "<Figure size 1280x480 with 1 Axes>"
            ],
            "image/png": "[encoded data removed]"
          },
          "metadata": {}
        }
      ],
      "source": [
        "plt.figure(figsize=(16, 6), dpi=80)\n",
        "fig = sns.lineplot(x=k, y=err, palette=colors1);\n",
        "fig.set_title(\"KNN Validation F1 Error as K Increases\")\n",
        "fig.set_xlabel(\"Number of Neighbors\")\n",
        "fig.set_ylabel(\"Validation Error\")\n",
        "fig.set_xticks(k);"
      ]
    },
    {
      "cell_type": "markdown",
      "metadata": {
        "id": "Q7ZZe8OiaBwL"
      },
      "source": [
        "The error fluctuates and it does look like it is less with even K. However to avoid ties we will set the number of neighbors to 19.  "
      ]
    },
    {
      "cell_type": "markdown",
      "metadata": {
        "id": "g1cl9wpnGJB-"
      },
      "source": [
        "### 3.4.2 Model"
      ]
    },
    {
      "cell_type": "code",
      "execution_count": null,
      "metadata": {
        "colab": {
          "base_uri": "https://localhost:8080/"
        },
        "id": "8_h0kWXSt1on",
        "outputId": "53bf9fc0-8a4e-4da1-b3fe-d19ebd646757"
      },
      "outputs": [
        {
          "output_type": "stream",
          "name": "stdout",
          "text": [
            "Training Accuracy : 0.734339971286362\n",
            "Test Accuracy : 0.7326123286368392\n"
          ]
        }
      ],
      "source": [
        "y_pred, report = try_model(trans,\n",
        "                           RandomUnderSampler(random_state = 42),\n",
        "                           KNeighborsClassifier(n_neighbors=19),\n",
        "                           X_train,\n",
        "                           y_train,\n",
        "                           X_test,\n",
        "                           y_test)"
      ]
    },
    {
      "cell_type": "markdown",
      "metadata": {
        "id": "n8-X7--qcPoe"
      },
      "source": [
        "### 3.4.3 Evaluation"
      ]
    },
    {
      "cell_type": "markdown",
      "metadata": {
        "id": "JiomRWqkcduV"
      },
      "source": [
        "#### 3.4.3.1 Classification Report"
      ]
    },
    {
      "cell_type": "code",
      "execution_count": null,
      "metadata": {
        "colab": {
          "base_uri": "https://localhost:8080/"
        },
        "id": "lfLhHNq3car1",
        "outputId": "de988c1c-70d9-456a-f8fa-c5cca6b94f99"
      },
      "outputs": [
        {
          "output_type": "stream",
          "name": "stdout",
          "text": [
            "              precision    recall  f1-score   support\n",
            "\n",
            "          No       0.97      0.73      0.83     68052\n",
            "         Yes       0.19      0.76      0.30      5549\n",
            "\n",
            "    accuracy                           0.73     73601\n",
            "   macro avg       0.58      0.74      0.57     73601\n",
            "weighted avg       0.91      0.73      0.79     73601\n",
            "\n"
          ]
        }
      ],
      "source": [
        "print(report)"
      ]
    },
    {
      "cell_type": "code",
      "execution_count": null,
      "metadata": {
        "id": "QKxjc8cgn4gE"
      },
      "outputs": [],
      "source": [
        "model_metrics['Model'].append(\"KNN\")\n",
        "model_metrics['Sampling Method'].append(\"Random Undersampling\")\n",
        "model_metrics['Heart Disease Precision'].append(0.19)\n",
        "model_metrics['No Heart Disease Precision'].append(0.97)\n",
        "model_metrics['Heart Disease Recall'].append(0.76)\n",
        "model_metrics['No Heart Disease Recall'].append(0.73)\n",
        "model_metrics['Heart Disease F1'].append(0.30)\n",
        "model_metrics['No Heart Disease F1'].append(0.83)\n",
        "model_metrics['Accuracy'].append(0.73)"
      ]
    },
    {
      "cell_type": "markdown",
      "metadata": {
        "id": "tDG5YVf1cwGa"
      },
      "source": [
        "#### 3.4.3.2 Confusion Matrix"
      ]
    },
    {
      "cell_type": "code",
      "execution_count": null,
      "metadata": {
        "colab": {
          "base_uri": "https://localhost:8080/",
          "height": 337
        },
        "id": "PdNVx9zxcut4",
        "outputId": "af7b59b7-228f-482c-941b-efb544881c6f"
      },
      "outputs": [
        {
          "output_type": "display_data",
          "data": {
            "text/plain": [
              "<Figure size 432x288 with 2 Axes>"
            ],
            "image/png": "[encoded data removed]"
          },
          "metadata": {}
        }
      ],
      "source": [
        "cm = confusion_matrix(y_test, y_pred)\n",
        "make_confusion_matrix(cm)"
      ]
    },
    {
      "cell_type": "markdown",
      "metadata": {
        "id": "2GQsTM-4c-Er"
      },
      "source": [
        "The false positive rate is really high. However in our application (Heart disease prediction), it is much more desirable than false negatives."
      ]
    },
    {
      "cell_type": "markdown",
      "metadata": {
        "id": "iglzj4tdKNam"
      },
      "source": [
        "## 3.5 SVM"
      ]
    },
    {
      "cell_type": "markdown",
      "metadata": {
        "id": "IlpbTWzgkzhV"
      },
      "source": [
        "### 3.5.1 Hyperparameter Tuning"
      ]
    },
    {
      "cell_type": "code",
      "execution_count": null,
      "metadata": {
        "colab": {
          "base_uri": "https://localhost:8080/"
        },
        "id": "7zhTCkPvvU5W",
        "outputId": "692a0cd2-9cdb-4939-e2f8-52b72686f2f5"
      },
      "outputs": [
        {
          "output_type": "execute_result",
          "data": {
            "text/plain": [
              "RandomizedSearchCV(cv=5,\n",
              "                   estimator=Pipeline(steps=[('transform',\n",
              "                                              ColumnTransformer(remainder='passthrough',\n",
              "                                                                transformers=[('ordinalencoder',\n",
              "                                                                               OrdinalEncoder(),\n",
              "                                                                               Index(['Smoking', 'AlcoholDrinking', 'Stroke', 'DiffWalking', 'Sex',\n",
              "       'AgeCategory', 'Race', 'Diabetic', 'PhysicalActivity', 'GenHealth',\n",
              "       'Asthma', 'KidneyDisease', 'SkinCancer'],\n",
              "      dtype='object')),\n",
              "                                                                              ('standardsca...\n",
              "                                        {'SVM__C': <scipy.stats._distn_infrastructure.rv_frozen object at 0x7f2833c7ea50>,\n",
              "                                         'SVM__gamma': <scipy.stats._distn_infrastructure.rv_frozen object at 0x7f2833c7edd0>,\n",
              "                                         'SVM__kernel': ['rbf']},\n",
              "                                        {'SVM__C': <scipy.stats._distn_infrastructure.rv_frozen object at 0x7f2833c7ed90>,\n",
              "                                         'SVM__degree': [1, 2, 3, 4, 5, 6, 7, 8,\n",
              "                                                         9, 10],\n",
              "                                         'SVM__kernel': ['poly']}],\n",
              "                   random_state=42, scoring='f1_micro')"
            ]
          },
          "metadata": {},
          "execution_count": 225
        }
      ],
      "source": [
        "svm_undersample = Pipeline(steps=[('transform', trans),\n",
        "                                     ('sample', RandomUnderSampler(random_state = 42)),\n",
        "                                     ('SVM', SVC())])\n",
        "\n",
        "svm_dist1 = {\n",
        "    \"SVM__C\": scipy.stats.expon(scale=.1),\n",
        "    \"SVM__gamma\": scipy.stats.expon(scale=.01),\n",
        "    \"SVM__kernel\": [\"rbf\"],\n",
        "}\n",
        "\n",
        "svm_dist2 = {\n",
        "    \"SVM__C\": scipy.stats.expon(scale=1),\n",
        "    \"SVM__gamma\": scipy.stats.expon(scale=.01),\n",
        "    \"SVM__kernel\": [\"rbf\"],\n",
        "}\n",
        "\n",
        "svm_dist3 = {\n",
        "    \"SVM__C\": scipy.stats.expon(scale=10),\n",
        "    \"SVM__gamma\": scipy.stats.expon(scale=.01),\n",
        "    \"SVM__kernel\": [\"rbf\"],\n",
        "}\n",
        "\n",
        "svm_dist4 = {\n",
        "    \"SVM__C\": scipy.stats.expon(scale=100),\n",
        "    \"SVM__gamma\": scipy.stats.expon(scale=.01),\n",
        "    \"SVM__kernel\": [\"rbf\"],\n",
        "}\n",
        "\n",
        "svm_dist5 = {\n",
        "    \"SVM__C\": scipy.stats.expon(scale=1000),\n",
        "    \"SVM__gamma\": scipy.stats.expon(scale=.01),\n",
        "    \"SVM__kernel\": [\"rbf\"],\n",
        "}\n",
        "\n",
        "svm_dist6 = {\n",
        "    \"SVM__C\": scipy.stats.expon(scale=.1),\n",
        "    \"SVM__gamma\": scipy.stats.expon(scale=1),\n",
        "    \"SVM__kernel\": [\"rbf\"],\n",
        "}\n",
        "\n",
        "svm_dist7 = {\n",
        "    \"SVM__C\": scipy.stats.expon(scale=1),\n",
        "    \"SVM__gamma\": scipy.stats.expon(scale=1),\n",
        "    \"SVM__kernel\": [\"rbf\"],\n",
        "}\n",
        "\n",
        "svm_dist8 = {\n",
        "    \"SVM__C\": scipy.stats.expon(scale=10),\n",
        "    \"SVM__gamma\": scipy.stats.expon(scale=1),\n",
        "    \"SVM__kernel\": [\"rbf\"],\n",
        "}\n",
        "\n",
        "svm_dist9 = {\n",
        "    \"SVM__C\": scipy.stats.expon(scale=100),\n",
        "    \"SVM__gamma\": scipy.stats.expon(scale=1),\n",
        "    \"SVM__kernel\": [\"rbf\"],\n",
        "}\n",
        "\n",
        "svm_dist10 = {\n",
        "    \"SVM__C\": scipy.stats.expon(scale=1000),\n",
        "    \"SVM__gamma\": scipy.stats.expon(scale=1),\n",
        "    \"SVM__kernel\": [\"rbf\"],\n",
        "}\n",
        "\n",
        "svm_dist11 = {\n",
        "    \"SVM__C\": scipy.stats.expon(scale=.1),\n",
        "    \"SVM__gamma\": scipy.stats.expon(scale=10),\n",
        "    \"SVM__kernel\": [\"rbf\"],\n",
        "}\n",
        "\n",
        "svm_dist12 = {\n",
        "    \"SVM__C\": scipy.stats.expon(scale=1),\n",
        "    \"SVM__gamma\": scipy.stats.expon(scale=10),\n",
        "    \"SVM__kernel\": [\"rbf\"],\n",
        "}\n",
        "\n",
        "svm_dist13 = {\n",
        "    \"SVM__C\": scipy.stats.expon(scale=10),\n",
        "    \"SVM__gamma\": scipy.stats.expon(scale=10),\n",
        "    \"SVM__kernel\": [\"rbf\"],\n",
        "}\n",
        "\n",
        "svm_dist14 = {\n",
        "    \"SVM__C\": scipy.stats.expon(scale=100),\n",
        "    \"SVM__gamma\": scipy.stats.expon(scale=10),\n",
        "    \"SVM__kernel\": [\"rbf\"],\n",
        "}\n",
        "\n",
        "svm_dist15 = {\n",
        "    \"SVM__C\": scipy.stats.expon(scale=1000),\n",
        "    \"SVM__gamma\": scipy.stats.expon(scale=10),\n",
        "    \"SVM__kernel\": [\"rbf\"],\n",
        "}\n",
        "\n",
        "svm_dist16 = {\n",
        "    \"SVM__C\": scipy.stats.expon(scale=10),\n",
        "    \"SVM__degree\": [1, 2, 3, 4, 5, 6, 7, 8, 9, 10],\n",
        "    \"SVM__kernel\": [\"poly\"],\n",
        "}\n",
        "\n",
        "distributions = [svm_dist1, svm_dist2, svm_dist3, svm_dist4, svm_dist5,\n",
        "                svm_dist6, svm_dist7, svm_dist8, svm_dist9, svm_dist10,\n",
        "                svm_dist11, svm_dist12, svm_dist13, svm_dist14, svm_dist15,\n",
        "                svm_dist16]\n",
        "\n",
        "clf = RandomizedSearchCV(svm_undersample, distributions, random_state=42, scoring='f1_micro', cv=5)\n",
        "\n",
        "clf.fit(X_train[:10000], y_train[:10000])"
      ]
    },
    {
      "cell_type": "code",
      "execution_count": null,
      "metadata": {
        "colab": {
          "base_uri": "https://localhost:8080/"
        },
        "id": "vjMeLJi9vsI9",
        "outputId": "d069108c-4bfd-4cb9-9711-4f80e2961e0b"
      },
      "outputs": [
        {
          "output_type": "execute_result",
          "data": {
            "text/plain": [
              "{'SVM__C': 0.051059393679958126,\n",
              " 'SVM__gamma': 0.4778961126377176,\n",
              " 'SVM__kernel': 'rbf'}"
            ]
          },
          "metadata": {},
          "execution_count": 226
        }
      ],
      "source": [
        "clf.best_params_"
      ]
    },
    {
      "cell_type": "markdown",
      "metadata": {
        "id": "LIP-6ZBskzhd"
      },
      "source": [
        "### 3.5.2 Model"
      ]
    },
    {
      "cell_type": "code",
      "execution_count": null,
      "metadata": {
        "colab": {
          "base_uri": "https://localhost:8080/"
        },
        "id": "Ge7WqwX1v1jl",
        "outputId": "fa291c91-42f3-4db8-e718-4ad8d5bf5e58"
      },
      "outputs": [
        {
          "output_type": "stream",
          "name": "stdout",
          "text": [
            "Training Accuracy : 0.586971979293572\n",
            "Test Accuracy : 0.5874512574557411\n"
          ]
        }
      ],
      "source": [
        "svm = SVC(C=0.05, gamma=0.477)\n",
        "\n",
        "y_pred, report = try_model(trans,\n",
        "                           RandomUnderSampler(random_state = 42),\n",
        "                           svm,\n",
        "                           X_train,\n",
        "                           y_train,\n",
        "                           X_test,\n",
        "                           y_test)"
      ]
    },
    {
      "cell_type": "markdown",
      "metadata": {
        "id": "_LGhgI25kzhe"
      },
      "source": [
        "### 3.5.3 Evaluation"
      ]
    },
    {
      "cell_type": "markdown",
      "metadata": {
        "id": "aALP7FN8kzhe"
      },
      "source": [
        "#### 3.5.3.1 Classification Report"
      ]
    },
    {
      "cell_type": "code",
      "execution_count": null,
      "metadata": {
        "colab": {
          "base_uri": "https://localhost:8080/"
        },
        "id": "AOpyTDztv_6a",
        "outputId": "c55759c3-6d4e-4958-d717-3d58ca6ecaf7"
      },
      "outputs": [
        {
          "output_type": "stream",
          "name": "stdout",
          "text": [
            "              precision    recall  f1-score   support\n",
            "\n",
            "          No       0.98      0.56      0.72     68052\n",
            "         Yes       0.14      0.87      0.24      5549\n",
            "\n",
            "    accuracy                           0.59     73601\n",
            "   macro avg       0.56      0.72      0.48     73601\n",
            "weighted avg       0.92      0.59      0.68     73601\n",
            "\n"
          ]
        }
      ],
      "source": [
        "print(report)"
      ]
    },
    {
      "cell_type": "code",
      "source": [
        "model_metrics['Model'].append(\"SVM\")\n",
        "model_metrics['Sampling Method'].append(\"Random Undersampling\")\n",
        "model_metrics['Heart Disease Precision'].append(0.14)\n",
        "model_metrics['No Heart Disease Precision'].append(0.98)\n",
        "model_metrics['Heart Disease Recall'].append(0.87)\n",
        "model_metrics['No Heart Disease Recall'].append(0.56)\n",
        "model_metrics['Heart Disease F1'].append(0.24)\n",
        "model_metrics['No Heart Disease F1'].append(0.72)\n",
        "model_metrics['Accuracy'].append(0.59)"
      ],
      "metadata": {
        "id": "ELqdjrhZRLEI"
      },
      "execution_count": null,
      "outputs": []
    },
    {
      "cell_type": "markdown",
      "metadata": {
        "id": "Hr5aU7pskzhe"
      },
      "source": [
        "#### 3.5.3.2 Confusion Matrix"
      ]
    },
    {
      "cell_type": "code",
      "execution_count": null,
      "metadata": {
        "colab": {
          "base_uri": "https://localhost:8080/",
          "height": 337
        },
        "id": "y5NaZEdywDSg",
        "outputId": "495b9e58-e7c3-49fc-9686-a24cfb0f06ef"
      },
      "outputs": [
        {
          "output_type": "display_data",
          "data": {
            "text/plain": [
              "<Figure size 432x288 with 2 Axes>"
            ],
            "image/png": "[encoded data removed]"
          },
          "metadata": {}
        }
      ],
      "source": [
        "cm = confusion_matrix(y_test, y_pred)\n",
        "make_confusion_matrix(cm)"
      ]
    },
    {
      "cell_type": "markdown",
      "metadata": {
        "id": "df3_RtiQwJCU"
      },
      "source": [
        "#### 3.5.3.3 ROC Curve"
      ]
    },
    {
      "cell_type": "code",
      "execution_count": null,
      "metadata": {
        "colab": {
          "base_uri": "https://localhost:8080/",
          "height": 295
        },
        "id": "wWud3qD5wNMj",
        "outputId": "8bfe183e-f792-4034-b122-18892685930d"
      },
      "outputs": [
        {
          "output_type": "display_data",
          "data": {
            "text/plain": [
              "<Figure size 432x288 with 1 Axes>"
            ],
            "image/png": "[encoded data removed]"
          },
          "metadata": {}
        }
      ],
      "source": [
        "svm_pipeline = Pipeline(steps=[('transform', trans),\n",
        "                               ('sample', RandomUnderSampler(random_state = 42)),\n",
        "                               ('model', svm)])\n",
        "\n",
        "fpr, tpr, thresholds = plot_roc_auc(svm_pipeline, X_test, y_test.map({'No':0, \n",
        "                                                                      'Yes':1}))"
      ]
    },
    {
      "cell_type": "code",
      "execution_count": null,
      "metadata": {
        "colab": {
          "base_uri": "https://localhost:8080/",
          "height": 424
        },
        "id": "FaDqGltiXzQT",
        "outputId": "cc21295d-5720-4537-d48d-77bc058b4448"
      },
      "outputs": [
        {
          "output_type": "execute_result",
          "data": {
            "text/plain": [
              "       Threshold      TPR       FPR  Distance\n",
              "4559    0.666470  0.49991  0.154308  0.707107\n",
              "4558    0.667108  0.49991  0.154073  0.707107\n",
              "4560    0.666463  0.50009  0.154308  0.707107\n",
              "4561    0.666432  0.50009  0.154338  0.707107\n",
              "4562    0.666372  0.50027  0.154338  0.707107\n",
              "...          ...      ...       ...       ...\n",
              "0       2.245288  0.00000  0.000000  1.000000\n",
              "2       1.203195  0.00000  0.000103  1.000000\n",
              "1       1.245288  0.00000  0.000015  1.000000\n",
              "11740  -1.578765  1.00000  0.999897  1.000000\n",
              "11741  -1.642730  1.00000  1.000000  1.000000\n",
              "\n",
              "[11742 rows x 4 columns]"
            ],
            "text/html": [
              "\n",
              "  <div id=\"df-34cba480-9085-4260-93ab-a533d3d0f1c0\">\n",
              "    <div class=\"colab-df-container\">\n",
              "      <div>\n",
              "<style scoped>\n",
              "    .dataframe tbody tr th:only-of-type {\n",
              "        vertical-align: middle;\n",
              "    }\n",
              "\n",
              "    .dataframe tbody tr th {\n",
              "        vertical-align: top;\n",
              "    }\n",
              "\n",
              "    .dataframe thead th {\n",
              "        text-align: right;\n",
              "    }\n",
              "</style>\n",
              "<table border=\"1\" class=\"dataframe\">\n",
              "  <thead>\n",
              "    <tr style=\"text-align: right;\">\n",
              "      <th></th>\n",
              "      <th>Threshold</th>\n",
              "      <th>TPR</th>\n",
              "      <th>FPR</th>\n",
              "      <th>Distance</th>\n",
              "    </tr>\n",
              "  </thead>\n",
              "  <tbody>\n",
              "    <tr>\n",
              "      <th>4559</th>\n",
              "      <td>0.666470</td>\n",
              "      <td>0.49991</td>\n",
              "      <td>0.154308</td>\n",
              "      <td>0.707107</td>\n",
              "    </tr>\n",
              "    <tr>\n",
              "      <th>4558</th>\n",
              "      <td>0.667108</td>\n",
              "      <td>0.49991</td>\n",
              "      <td>0.154073</td>\n",
              "      <td>0.707107</td>\n",
              "    </tr>\n",
              "    <tr>\n",
              "      <th>4560</th>\n",
              "      <td>0.666463</td>\n",
              "      <td>0.50009</td>\n",
              "      <td>0.154308</td>\n",
              "      <td>0.707107</td>\n",
              "    </tr>\n",
              "    <tr>\n",
              "      <th>4561</th>\n",
              "      <td>0.666432</td>\n",
              "      <td>0.50009</td>\n",
              "      <td>0.154338</td>\n",
              "      <td>0.707107</td>\n",
              "    </tr>\n",
              "    <tr>\n",
              "      <th>4562</th>\n",
              "      <td>0.666372</td>\n",
              "      <td>0.50027</td>\n",
              "      <td>0.154338</td>\n",
              "      <td>0.707107</td>\n",
              "    </tr>\n",
              "    <tr>\n",
              "      <th>...</th>\n",
              "      <td>...</td>\n",
              "      <td>...</td>\n",
              "      <td>...</td>\n",
              "      <td>...</td>\n",
              "    </tr>\n",
              "    <tr>\n",
              "      <th>0</th>\n",
              "      <td>2.245288</td>\n",
              "      <td>0.00000</td>\n",
              "      <td>0.000000</td>\n",
              "      <td>1.000000</td>\n",
              "    </tr>\n",
              "    <tr>\n",
              "      <th>2</th>\n",
              "      <td>1.203195</td>\n",
              "      <td>0.00000</td>\n",
              "      <td>0.000103</td>\n",
              "      <td>1.000000</td>\n",
              "    </tr>\n",
              "    <tr>\n",
              "      <th>1</th>\n",
              "      <td>1.245288</td>\n",
              "      <td>0.00000</td>\n",
              "      <td>0.000015</td>\n",
              "      <td>1.000000</td>\n",
              "    </tr>\n",
              "    <tr>\n",
              "      <th>11740</th>\n",
              "      <td>-1.578765</td>\n",
              "      <td>1.00000</td>\n",
              "      <td>0.999897</td>\n",
              "      <td>1.000000</td>\n",
              "    </tr>\n",
              "    <tr>\n",
              "      <th>11741</th>\n",
              "      <td>-1.642730</td>\n",
              "      <td>1.00000</td>\n",
              "      <td>1.000000</td>\n",
              "      <td>1.000000</td>\n",
              "    </tr>\n",
              "  </tbody>\n",
              "</table>\n",
              "<p>11742 rows × 4 columns</p>\n",
              "</div>\n",
              "      <button class=\"colab-df-convert\" onclick=\"convertToInteractive('df-34cba480-9085-4260-93ab-a533d3d0f1c0')\"\n",
              "              title=\"Convert this dataframe to an interactive table.\"\n",
              "              style=\"display:none;\">\n",
              "        \n",
              "  <svg xmlns=\"http://www.w3.org/2000/svg\" height=\"24px\"viewBox=\"0 0 24 24\"\n",
              "       width=\"24px\">\n",
              "    <path d=\"M0 0h24v24H0V0z\" fill=\"none\"/>\n",
              "    <path d=\"M18.56 5.44l.94 2.06.94-2.06 2.06-.94-2.06-.94-.94-2.06-.94 2.06-2.06.94zm-11 1L8.5 8.5l.94-2.06 2.06-.94-2.06-.94L8.5 2.5l-.94 2.06-2.06.94zm10 10l.94 2.06.94-2.06 2.06-.94-2.06-.94-.94-2.06-.94 2.06-2.06.94z\"/><path d=\"M17.41 7.96l-1.37-1.37c-.4-.4-.92-.59-1.43-.59-.52 0-1.04.2-1.43.59L10.3 9.45l-7.72 7.72c-.78.78-.78 2.05 0 2.83L4 21.41c.39.39.9.59 1.41.59.51 0 1.02-.2 1.41-.59l7.78-7.78 2.81-2.81c.8-.78.8-2.07 0-2.86zM5.41 20L4 18.59l7.72-7.72 1.47 1.35L5.41 20z\"/>\n",
              "  </svg>\n",
              "      </button>\n",
              "      \n",
              "  <style>\n",
              "    .colab-df-container {\n",
              "      display:flex;\n",
              "      flex-wrap:wrap;\n",
              "      gap: 12px;\n",
              "    }\n",
              "\n",
              "    .colab-df-convert {\n",
              "      background-color: #E8F0FE;\n",
              "      border: none;\n",
              "      border-radius: 50%;\n",
              "      cursor: pointer;\n",
              "      display: none;\n",
              "      fill: #1967D2;\n",
              "      height: 32px;\n",
              "      padding: 0 0 0 0;\n",
              "      width: 32px;\n",
              "    }\n",
              "\n",
              "    .colab-df-convert:hover {\n",
              "      background-color: #E2EBFA;\n",
              "      box-shadow: 0px 1px 2px rgba(60, 64, 67, 0.3), 0px 1px 3px 1px rgba(60, 64, 67, 0.15);\n",
              "      fill: #174EA6;\n",
              "    }\n",
              "\n",
              "    [theme=dark] .colab-df-convert {\n",
              "      background-color: #3B4455;\n",
              "      fill: #D2E3FC;\n",
              "    }\n",
              "\n",
              "    [theme=dark] .colab-df-convert:hover {\n",
              "      background-color: #434B5C;\n",
              "      box-shadow: 0px 1px 3px 1px rgba(0, 0, 0, 0.15);\n",
              "      filter: drop-shadow(0px 1px 2px rgba(0, 0, 0, 0.3));\n",
              "      fill: #FFFFFF;\n",
              "    }\n",
              "  </style>\n",
              "\n",
              "      <script>\n",
              "        const buttonEl =\n",
              "          document.querySelector('#df-34cba480-9085-4260-93ab-a533d3d0f1c0 button.colab-df-convert');\n",
              "        buttonEl.style.display =\n",
              "          google.colab.kernel.accessAllowed ? 'block' : 'none';\n",
              "\n",
              "        async function convertToInteractive(key) {\n",
              "          const element = document.querySelector('#df-34cba480-9085-4260-93ab-a533d3d0f1c0');\n",
              "          const dataTable =\n",
              "            await google.colab.kernel.invokeFunction('convertToInteractive',\n",
              "                                                     [key], {});\n",
              "          if (!dataTable) return;\n",
              "\n",
              "          const docLinkHtml = 'Like what you see? Visit the ' +\n",
              "            '<a target=\"_blank\" href=https://colab.research.google.com/notebooks/data_table.ipynb>data table notebook</a>'\n",
              "            + ' to learn more about interactive tables.';\n",
              "          element.innerHTML = '';\n",
              "          dataTable['output_type'] = 'display_data';\n",
              "          await google.colab.output.renderOutput(dataTable, element);\n",
              "          const docLink = document.createElement('div');\n",
              "          docLink.innerHTML = docLinkHtml;\n",
              "          element.appendChild(docLink);\n",
              "        }\n",
              "      </script>\n",
              "    </div>\n",
              "  </div>\n",
              "  "
            ]
          },
          "metadata": {},
          "execution_count": 232
        }
      ],
      "source": [
        "top_left = np.sqrt((1 - tpr)**2 + tpr**2)\n",
        "threshold_df = pd.DataFrame({\"Threshold\":thresholds, \"TPR\":tpr, \"FPR\":fpr, \"Distance\":top_left})\n",
        "threshold_df = threshold_df.sort_values(\"Distance\")\n",
        "threshold_df"
      ]
    },
    {
      "cell_type": "markdown",
      "metadata": {
        "id": "hC4E3Dvs6gfY"
      },
      "source": [
        "The optimal threshold for classification seems to be around 0.66. Meaning, any sample decision function that is greater than or equal 0.66 is classified as 1 (heart disease), and otherwise 0 (normal)."
      ]
    },
    {
      "cell_type": "markdown",
      "metadata": {
        "id": "4CX63cd2wrBJ"
      },
      "source": [
        "## 3.6 AdaBoost"
      ]
    },
    {
      "cell_type": "markdown",
      "metadata": {
        "id": "d4M-7xK40dm8"
      },
      "source": [
        "### 3.6.1 Model"
      ]
    },
    {
      "cell_type": "code",
      "execution_count": null,
      "metadata": {
        "colab": {
          "base_uri": "https://localhost:8080/"
        },
        "id": "yVPn4CmfxQH6",
        "outputId": "690301f7-8525-41af-931f-525cd27770bd"
      },
      "outputs": [
        {
          "output_type": "stream",
          "name": "stdout",
          "text": [
            "Training Accuracy : 0.7571795417593218\n",
            "Test Accuracy : 0.712571840056521\n"
          ]
        }
      ],
      "source": [
        "y_pred, report = try_model(trans,\n",
        "                           RandomUnderSampler(random_state = 42),\n",
        "                           AdaBoostClassifier(base_estimator=DecisionTreeClassifier()),\n",
        "                           X_train,\n",
        "                           y_train,\n",
        "                           X_test,\n",
        "                           y_test)"
      ]
    },
    {
      "cell_type": "markdown",
      "metadata": {
        "id": "euGNQoeB0ZkF"
      },
      "source": [
        "### 3.6.2 Evaluation"
      ]
    },
    {
      "cell_type": "markdown",
      "metadata": {
        "id": "8lHaga540j-M"
      },
      "source": [
        "#### 3.6.2.1 Classification Report"
      ]
    },
    {
      "cell_type": "code",
      "execution_count": null,
      "metadata": {
        "colab": {
          "base_uri": "https://localhost:8080/"
        },
        "id": "SS1_t0Qs0DBY",
        "outputId": "3ed54e82-a058-49ac-8f7a-2f4aafd72303"
      },
      "outputs": [
        {
          "output_type": "stream",
          "name": "stdout",
          "text": [
            "              precision    recall  f1-score   support\n",
            "\n",
            "          No       0.97      0.71      0.82     68052\n",
            "         Yes       0.16      0.68      0.26      5549\n",
            "\n",
            "    accuracy                           0.71     73601\n",
            "   macro avg       0.56      0.70      0.54     73601\n",
            "weighted avg       0.90      0.71      0.78     73601\n",
            "\n"
          ]
        }
      ],
      "source": [
        "print(report)"
      ]
    },
    {
      "cell_type": "code",
      "source": [
        "model_metrics['Model'].append(\"AdaBoost\")\n",
        "model_metrics['Sampling Method'].append(\"Random Undersampling\")\n",
        "model_metrics['Heart Disease Precision'].append(0.17)\n",
        "model_metrics['No Heart Disease Precision'].append(0.97)\n",
        "model_metrics['Heart Disease Recall'].append(0.73)\n",
        "model_metrics['No Heart Disease Recall'].append(0.70)\n",
        "model_metrics['Heart Disease F1'].append(0.81)\n",
        "model_metrics['No Heart Disease F1'].append(0.27)\n",
        "model_metrics['Accuracy'].append(0.70)"
      ],
      "metadata": {
        "id": "K8XKUOx7RcML"
      },
      "execution_count": null,
      "outputs": []
    },
    {
      "cell_type": "markdown",
      "metadata": {
        "id": "2tR4N3MH0OMf"
      },
      "source": [
        "#### 3.6.2.2 Confusion Matrix"
      ]
    },
    {
      "cell_type": "code",
      "execution_count": null,
      "metadata": {
        "colab": {
          "base_uri": "https://localhost:8080/",
          "height": 337
        },
        "id": "zPSsF6XU0I2U",
        "outputId": "f5335e57-8ec5-4f79-80b6-774a919122c2"
      },
      "outputs": [
        {
          "output_type": "display_data",
          "data": {
            "text/plain": [
              "<Figure size 432x288 with 2 Axes>"
            ],
            "image/png": "[encoded data removed]"
          },
          "metadata": {}
        }
      ],
      "source": [
        "cm = confusion_matrix(y_test, y_pred)\n",
        "make_confusion_matrix(cm)"
      ]
    },
    {
      "cell_type": "markdown",
      "metadata": {
        "id": "W-92_Imc1HFC"
      },
      "source": [
        "## 3.7 XGBoost"
      ]
    },
    {
      "cell_type": "markdown",
      "metadata": {
        "id": "xsx8wS-B0wIX"
      },
      "source": [
        "### 3.7.1 Model"
      ]
    },
    {
      "cell_type": "code",
      "execution_count": null,
      "metadata": {
        "colab": {
          "base_uri": "https://localhost:8080/"
        },
        "id": "4eiJBbrryuwO",
        "outputId": "4db4fbbf-881d-42b9-97f1-7bca87115a22"
      },
      "outputs": [
        {
          "output_type": "stream",
          "name": "stdout",
          "text": [
            "Training Accuracy : 0.7348019257159162\n",
            "Test Accuracy : 0.7342291544951834\n"
          ]
        }
      ],
      "source": [
        "y_pred, report = try_model(trans,\n",
        "                           RandomUnderSampler(random_state = 42),\n",
        "                           XGBClassifier(),\n",
        "                           X_train,\n",
        "                           y_train,\n",
        "                           X_test,\n",
        "                           y_test)"
      ]
    },
    {
      "cell_type": "markdown",
      "metadata": {
        "id": "1mxWyNaL0wIY"
      },
      "source": [
        "### 3.7.2 Evaluation"
      ]
    },
    {
      "cell_type": "markdown",
      "metadata": {
        "id": "kL8mjgWg0wIY"
      },
      "source": [
        "#### 3.7.2.1 Classification Report"
      ]
    },
    {
      "cell_type": "code",
      "execution_count": null,
      "metadata": {
        "colab": {
          "base_uri": "https://localhost:8080/"
        },
        "id": "lVh3GzkD0F1V",
        "outputId": "d1475827-ef27-47fc-bbef-dd2790e62091"
      },
      "outputs": [
        {
          "output_type": "stream",
          "name": "stdout",
          "text": [
            "              precision    recall  f1-score   support\n",
            "\n",
            "          No       0.98      0.73      0.84     68052\n",
            "         Yes       0.19      0.80      0.31      5549\n",
            "\n",
            "    accuracy                           0.73     73601\n",
            "   macro avg       0.59      0.76      0.57     73601\n",
            "weighted avg       0.92      0.73      0.80     73601\n",
            "\n"
          ]
        }
      ],
      "source": [
        "print(report)"
      ]
    },
    {
      "cell_type": "code",
      "source": [
        "model_metrics['Model'].append(\"XGBoost\")\n",
        "model_metrics['Sampling Method'].append(\"Random Undersampling\")\n",
        "model_metrics['Heart Disease Precision'].append(0.19)\n",
        "model_metrics['No Heart Disease Precision'].append(0.98)\n",
        "model_metrics['Heart Disease Recall'].append(0.80)\n",
        "model_metrics['No Heart Disease Recall'].append(0.73)\n",
        "model_metrics['Heart Disease F1'].append(0.31)\n",
        "model_metrics['No Heart Disease F1'].append(0.84)\n",
        "model_metrics['Accuracy'].append(0.73)"
      ],
      "metadata": {
        "id": "EY8XvcArRmi4"
      },
      "execution_count": null,
      "outputs": []
    },
    {
      "cell_type": "markdown",
      "metadata": {
        "id": "kwXzg_Zm0wIY"
      },
      "source": [
        "#### 3.7.2.2 Confusion Matrix"
      ]
    },
    {
      "cell_type": "code",
      "execution_count": null,
      "metadata": {
        "colab": {
          "base_uri": "https://localhost:8080/",
          "height": 337
        },
        "id": "WpKJsucb0JXs",
        "outputId": "1d569334-e5dc-4dd0-9de9-3501c9d20312"
      },
      "outputs": [
        {
          "output_type": "display_data",
          "data": {
            "text/plain": [
              "<Figure size 432x288 with 2 Axes>"
            ],
            "image/png": "[encoded data removed]"
          },
          "metadata": {}
        }
      ],
      "source": [
        "cm = confusion_matrix(y_test, y_pred)\n",
        "make_confusion_matrix(cm)"
      ]
    },
    {
      "cell_type": "markdown",
      "metadata": {
        "id": "TV914rH21NOs"
      },
      "source": [
        "## 3.8 CatBoost"
      ]
    },
    {
      "cell_type": "markdown",
      "metadata": {
        "id": "Kg0XspZz06Cn"
      },
      "source": [
        "### 3.8.1 Model"
      ]
    },
    {
      "cell_type": "code",
      "execution_count": null,
      "metadata": {
        "id": "nMhLTH2Sz8Qw",
        "colab": {
          "base_uri": "https://localhost:8080/"
        },
        "outputId": "b0ae7af6-70f6-4311-81ad-efff734fc919"
      },
      "outputs": [
        {
          "output_type": "stream",
          "name": "stdout",
          "text": [
            "Learning rate set to 0.134264\n",
            "0:\tlearn: 0.6211977\ttotal: 134ms\tremaining: 2m 13s\n",
            "1:\tlearn: 0.5815377\ttotal: 236ms\tremaining: 1m 57s\n",
            "2:\tlearn: 0.5377967\ttotal: 338ms\tremaining: 1m 52s\n",
            "3:\tlearn: 0.5099531\ttotal: 443ms\tremaining: 1m 50s\n",
            "4:\tlearn: 0.4860950\ttotal: 551ms\tremaining: 1m 49s\n",
            "5:\tlearn: 0.4717401\ttotal: 665ms\tremaining: 1m 50s\n",
            "6:\tlearn: 0.4492315\ttotal: 773ms\tremaining: 1m 49s\n",
            "7:\tlearn: 0.4404596\ttotal: 883ms\tremaining: 1m 49s\n",
            "8:\tlearn: 0.4296124\ttotal: 996ms\tremaining: 1m 49s\n",
            "9:\tlearn: 0.4220085\ttotal: 1.1s\tremaining: 1m 49s\n",
            "10:\tlearn: 0.4064600\ttotal: 1.21s\tremaining: 1m 48s\n",
            "11:\tlearn: 0.3998478\ttotal: 1.32s\tremaining: 1m 48s\n",
            "12:\tlearn: 0.3796837\ttotal: 1.42s\tremaining: 1m 47s\n",
            "13:\tlearn: 0.3649183\ttotal: 1.53s\tremaining: 1m 47s\n",
            "14:\tlearn: 0.3605114\ttotal: 1.65s\tremaining: 1m 48s\n",
            "15:\tlearn: 0.3531263\ttotal: 1.76s\tremaining: 1m 48s\n",
            "16:\tlearn: 0.3494957\ttotal: 1.87s\tremaining: 1m 48s\n",
            "17:\tlearn: 0.3436542\ttotal: 1.97s\tremaining: 1m 47s\n",
            "18:\tlearn: 0.3276607\ttotal: 2.08s\tremaining: 1m 47s\n",
            "19:\tlearn: 0.3191561\ttotal: 2.18s\tremaining: 1m 47s\n",
            "20:\tlearn: 0.3130146\ttotal: 2.3s\tremaining: 1m 47s\n",
            "21:\tlearn: 0.3051419\ttotal: 2.41s\tremaining: 1m 47s\n",
            "22:\tlearn: 0.3011423\ttotal: 2.51s\tremaining: 1m 46s\n",
            "23:\tlearn: 0.2850771\ttotal: 2.62s\tremaining: 1m 46s\n",
            "24:\tlearn: 0.2816208\ttotal: 2.74s\tremaining: 1m 46s\n",
            "25:\tlearn: 0.2793552\ttotal: 2.85s\tremaining: 1m 46s\n",
            "26:\tlearn: 0.2769686\ttotal: 2.95s\tremaining: 1m 46s\n",
            "27:\tlearn: 0.2738217\ttotal: 3.04s\tremaining: 1m 45s\n",
            "28:\tlearn: 0.2710415\ttotal: 3.15s\tremaining: 1m 45s\n",
            "29:\tlearn: 0.2667360\ttotal: 3.26s\tremaining: 1m 45s\n",
            "30:\tlearn: 0.2633333\ttotal: 3.36s\tremaining: 1m 45s\n",
            "31:\tlearn: 0.2625410\ttotal: 3.46s\tremaining: 1m 44s\n",
            "32:\tlearn: 0.2609968\ttotal: 3.58s\tremaining: 1m 44s\n",
            "33:\tlearn: 0.2603187\ttotal: 3.67s\tremaining: 1m 44s\n",
            "34:\tlearn: 0.2566693\ttotal: 3.79s\tremaining: 1m 44s\n",
            "35:\tlearn: 0.2559293\ttotal: 3.88s\tremaining: 1m 43s\n",
            "36:\tlearn: 0.2548598\ttotal: 3.99s\tremaining: 1m 43s\n",
            "37:\tlearn: 0.2515362\ttotal: 4.1s\tremaining: 1m 43s\n",
            "38:\tlearn: 0.2510394\ttotal: 4.2s\tremaining: 1m 43s\n",
            "39:\tlearn: 0.2496122\ttotal: 4.3s\tremaining: 1m 43s\n",
            "40:\tlearn: 0.2481555\ttotal: 4.39s\tremaining: 1m 42s\n",
            "41:\tlearn: 0.2414765\ttotal: 4.51s\tremaining: 1m 42s\n",
            "42:\tlearn: 0.2401279\ttotal: 4.61s\tremaining: 1m 42s\n",
            "43:\tlearn: 0.2396453\ttotal: 4.71s\tremaining: 1m 42s\n",
            "44:\tlearn: 0.2390458\ttotal: 4.84s\tremaining: 1m 42s\n",
            "45:\tlearn: 0.2386608\ttotal: 4.94s\tremaining: 1m 42s\n",
            "46:\tlearn: 0.2380603\ttotal: 5.04s\tremaining: 1m 42s\n",
            "47:\tlearn: 0.2370643\ttotal: 5.16s\tremaining: 1m 42s\n",
            "48:\tlearn: 0.2366581\ttotal: 5.26s\tremaining: 1m 42s\n",
            "49:\tlearn: 0.2354263\ttotal: 5.38s\tremaining: 1m 42s\n",
            "50:\tlearn: 0.2351700\ttotal: 5.47s\tremaining: 1m 41s\n",
            "51:\tlearn: 0.2348041\ttotal: 5.57s\tremaining: 1m 41s\n",
            "52:\tlearn: 0.2344947\ttotal: 5.67s\tremaining: 1m 41s\n",
            "53:\tlearn: 0.2342086\ttotal: 5.78s\tremaining: 1m 41s\n",
            "54:\tlearn: 0.2327594\ttotal: 5.89s\tremaining: 1m 41s\n",
            "55:\tlearn: 0.2315963\ttotal: 5.99s\tremaining: 1m 40s\n",
            "56:\tlearn: 0.2311533\ttotal: 6.08s\tremaining: 1m 40s\n",
            "57:\tlearn: 0.2307138\ttotal: 6.18s\tremaining: 1m 40s\n",
            "58:\tlearn: 0.2293994\ttotal: 6.28s\tremaining: 1m 40s\n",
            "59:\tlearn: 0.2291163\ttotal: 6.36s\tremaining: 1m 39s\n",
            "60:\tlearn: 0.2287146\ttotal: 6.47s\tremaining: 1m 39s\n",
            "61:\tlearn: 0.2275459\ttotal: 6.57s\tremaining: 1m 39s\n",
            "62:\tlearn: 0.2273370\ttotal: 6.66s\tremaining: 1m 39s\n",
            "63:\tlearn: 0.2266357\ttotal: 6.78s\tremaining: 1m 39s\n",
            "64:\tlearn: 0.2256464\ttotal: 6.89s\tremaining: 1m 39s\n",
            "65:\tlearn: 0.2251131\ttotal: 7s\tremaining: 1m 39s\n",
            "66:\tlearn: 0.2245778\ttotal: 7.1s\tremaining: 1m 38s\n",
            "67:\tlearn: 0.2237252\ttotal: 7.2s\tremaining: 1m 38s\n",
            "68:\tlearn: 0.2235337\ttotal: 7.3s\tremaining: 1m 38s\n",
            "69:\tlearn: 0.2231248\ttotal: 7.4s\tremaining: 1m 38s\n",
            "70:\tlearn: 0.2229606\ttotal: 7.5s\tremaining: 1m 38s\n",
            "71:\tlearn: 0.2226029\ttotal: 7.61s\tremaining: 1m 38s\n",
            "72:\tlearn: 0.2220187\ttotal: 7.72s\tremaining: 1m 38s\n",
            "73:\tlearn: 0.2218606\ttotal: 7.84s\tremaining: 1m 38s\n",
            "74:\tlearn: 0.2207443\ttotal: 7.95s\tremaining: 1m 38s\n",
            "75:\tlearn: 0.2196634\ttotal: 8.05s\tremaining: 1m 37s\n",
            "76:\tlearn: 0.2187600\ttotal: 8.16s\tremaining: 1m 37s\n",
            "77:\tlearn: 0.2185562\ttotal: 8.26s\tremaining: 1m 37s\n",
            "78:\tlearn: 0.2183838\ttotal: 8.37s\tremaining: 1m 37s\n",
            "79:\tlearn: 0.2179211\ttotal: 8.47s\tremaining: 1m 37s\n",
            "80:\tlearn: 0.2175888\ttotal: 8.58s\tremaining: 1m 37s\n",
            "81:\tlearn: 0.2174651\ttotal: 8.68s\tremaining: 1m 37s\n",
            "82:\tlearn: 0.2167665\ttotal: 8.79s\tremaining: 1m 37s\n",
            "83:\tlearn: 0.2163222\ttotal: 8.9s\tremaining: 1m 37s\n",
            "84:\tlearn: 0.2152692\ttotal: 9.01s\tremaining: 1m 37s\n",
            "85:\tlearn: 0.2144702\ttotal: 9.11s\tremaining: 1m 36s\n",
            "86:\tlearn: 0.2139685\ttotal: 9.21s\tremaining: 1m 36s\n",
            "87:\tlearn: 0.2134470\ttotal: 9.31s\tremaining: 1m 36s\n",
            "88:\tlearn: 0.2126423\ttotal: 9.41s\tremaining: 1m 36s\n",
            "89:\tlearn: 0.2120218\ttotal: 9.51s\tremaining: 1m 36s\n",
            "90:\tlearn: 0.2119184\ttotal: 9.62s\tremaining: 1m 36s\n",
            "91:\tlearn: 0.2117570\ttotal: 9.72s\tremaining: 1m 35s\n",
            "92:\tlearn: 0.2105924\ttotal: 9.82s\tremaining: 1m 35s\n",
            "93:\tlearn: 0.2103389\ttotal: 9.94s\tremaining: 1m 35s\n",
            "94:\tlearn: 0.2100690\ttotal: 10s\tremaining: 1m 35s\n",
            "95:\tlearn: 0.2098871\ttotal: 10.1s\tremaining: 1m 35s\n",
            "96:\tlearn: 0.2094671\ttotal: 10.2s\tremaining: 1m 35s\n",
            "97:\tlearn: 0.2083747\ttotal: 10.4s\tremaining: 1m 35s\n",
            "98:\tlearn: 0.2077519\ttotal: 10.5s\tremaining: 1m 35s\n",
            "99:\tlearn: 0.2074477\ttotal: 10.6s\tremaining: 1m 35s\n",
            "100:\tlearn: 0.2072208\ttotal: 10.7s\tremaining: 1m 35s\n",
            "101:\tlearn: 0.2059865\ttotal: 10.8s\tremaining: 1m 34s\n",
            "102:\tlearn: 0.2054682\ttotal: 10.9s\tremaining: 1m 34s\n",
            "103:\tlearn: 0.2051804\ttotal: 11s\tremaining: 1m 34s\n",
            "104:\tlearn: 0.2047991\ttotal: 11.1s\tremaining: 1m 34s\n",
            "105:\tlearn: 0.2044514\ttotal: 11.2s\tremaining: 1m 34s\n",
            "106:\tlearn: 0.2040428\ttotal: 11.3s\tremaining: 1m 34s\n",
            "107:\tlearn: 0.2039044\ttotal: 11.4s\tremaining: 1m 34s\n",
            "108:\tlearn: 0.2034685\ttotal: 11.5s\tremaining: 1m 34s\n",
            "109:\tlearn: 0.2033486\ttotal: 11.6s\tremaining: 1m 34s\n",
            "110:\tlearn: 0.2028960\ttotal: 11.7s\tremaining: 1m 34s\n",
            "111:\tlearn: 0.2027546\ttotal: 11.8s\tremaining: 1m 33s\n",
            "112:\tlearn: 0.2025949\ttotal: 12s\tremaining: 1m 33s\n",
            "113:\tlearn: 0.2024620\ttotal: 12.1s\tremaining: 1m 33s\n",
            "114:\tlearn: 0.2020873\ttotal: 12.2s\tremaining: 1m 33s\n",
            "115:\tlearn: 0.2017117\ttotal: 12.3s\tremaining: 1m 33s\n",
            "116:\tlearn: 0.2016096\ttotal: 12.4s\tremaining: 1m 33s\n",
            "117:\tlearn: 0.2012870\ttotal: 12.4s\tremaining: 1m 33s\n",
            "118:\tlearn: 0.2010782\ttotal: 12.5s\tremaining: 1m 32s\n",
            "119:\tlearn: 0.2006952\ttotal: 12.6s\tremaining: 1m 32s\n",
            "120:\tlearn: 0.2005852\ttotal: 12.7s\tremaining: 1m 32s\n",
            "121:\tlearn: 0.2001308\ttotal: 12.8s\tremaining: 1m 32s\n",
            "122:\tlearn: 0.1998828\ttotal: 13s\tremaining: 1m 32s\n",
            "123:\tlearn: 0.1997366\ttotal: 13.1s\tremaining: 1m 32s\n",
            "124:\tlearn: 0.1995889\ttotal: 13.2s\tremaining: 1m 32s\n",
            "125:\tlearn: 0.1994086\ttotal: 13.3s\tremaining: 1m 31s\n",
            "126:\tlearn: 0.1992873\ttotal: 13.3s\tremaining: 1m 31s\n",
            "127:\tlearn: 0.1988834\ttotal: 13.5s\tremaining: 1m 31s\n",
            "128:\tlearn: 0.1987635\ttotal: 13.6s\tremaining: 1m 31s\n",
            "129:\tlearn: 0.1987044\ttotal: 13.7s\tremaining: 1m 31s\n",
            "130:\tlearn: 0.1983882\ttotal: 13.8s\tremaining: 1m 31s\n",
            "131:\tlearn: 0.1982917\ttotal: 13.9s\tremaining: 1m 31s\n",
            "132:\tlearn: 0.1981175\ttotal: 14s\tremaining: 1m 31s\n",
            "133:\tlearn: 0.1980072\ttotal: 14.1s\tremaining: 1m 30s\n",
            "134:\tlearn: 0.1977543\ttotal: 14.2s\tremaining: 1m 30s\n",
            "135:\tlearn: 0.1976703\ttotal: 14.3s\tremaining: 1m 30s\n",
            "136:\tlearn: 0.1973618\ttotal: 14.4s\tremaining: 1m 30s\n",
            "137:\tlearn: 0.1968333\ttotal: 14.5s\tremaining: 1m 30s\n",
            "138:\tlearn: 0.1965088\ttotal: 14.6s\tremaining: 1m 30s\n",
            "139:\tlearn: 0.1964231\ttotal: 14.7s\tremaining: 1m 30s\n",
            "140:\tlearn: 0.1960727\ttotal: 14.8s\tremaining: 1m 30s\n",
            "141:\tlearn: 0.1958937\ttotal: 14.9s\tremaining: 1m 30s\n",
            "142:\tlearn: 0.1956486\ttotal: 15s\tremaining: 1m 30s\n",
            "143:\tlearn: 0.1953988\ttotal: 15.1s\tremaining: 1m 30s\n",
            "144:\tlearn: 0.1953161\ttotal: 15.3s\tremaining: 1m 29s\n",
            "145:\tlearn: 0.1951574\ttotal: 15.4s\tremaining: 1m 29s\n",
            "146:\tlearn: 0.1950841\ttotal: 15.5s\tremaining: 1m 29s\n",
            "147:\tlearn: 0.1950227\ttotal: 15.6s\tremaining: 1m 29s\n",
            "148:\tlearn: 0.1948608\ttotal: 15.7s\tremaining: 1m 29s\n",
            "149:\tlearn: 0.1947965\ttotal: 15.8s\tremaining: 1m 29s\n",
            "150:\tlearn: 0.1946433\ttotal: 15.9s\tremaining: 1m 29s\n",
            "151:\tlearn: 0.1945256\ttotal: 16s\tremaining: 1m 29s\n",
            "152:\tlearn: 0.1941008\ttotal: 16.1s\tremaining: 1m 29s\n",
            "153:\tlearn: 0.1939768\ttotal: 16.2s\tremaining: 1m 28s\n",
            "154:\tlearn: 0.1939050\ttotal: 16.3s\tremaining: 1m 28s\n",
            "155:\tlearn: 0.1937119\ttotal: 16.4s\tremaining: 1m 28s\n",
            "156:\tlearn: 0.1936189\ttotal: 16.5s\tremaining: 1m 28s\n",
            "157:\tlearn: 0.1934081\ttotal: 16.6s\tremaining: 1m 28s\n",
            "158:\tlearn: 0.1932334\ttotal: 16.7s\tremaining: 1m 28s\n",
            "159:\tlearn: 0.1931619\ttotal: 16.8s\tremaining: 1m 28s\n",
            "160:\tlearn: 0.1929447\ttotal: 16.9s\tremaining: 1m 27s\n",
            "161:\tlearn: 0.1926962\ttotal: 17s\tremaining: 1m 27s\n",
            "162:\tlearn: 0.1925875\ttotal: 17.1s\tremaining: 1m 27s\n",
            "163:\tlearn: 0.1924538\ttotal: 17.2s\tremaining: 1m 27s\n",
            "164:\tlearn: 0.1923747\ttotal: 17.3s\tremaining: 1m 27s\n",
            "165:\tlearn: 0.1923000\ttotal: 17.4s\tremaining: 1m 27s\n",
            "166:\tlearn: 0.1921054\ttotal: 17.5s\tremaining: 1m 27s\n",
            "167:\tlearn: 0.1919359\ttotal: 17.6s\tremaining: 1m 26s\n",
            "168:\tlearn: 0.1918387\ttotal: 17.7s\tremaining: 1m 26s\n",
            "169:\tlearn: 0.1917385\ttotal: 17.8s\tremaining: 1m 26s\n",
            "170:\tlearn: 0.1916667\ttotal: 17.9s\tremaining: 1m 26s\n",
            "171:\tlearn: 0.1914079\ttotal: 18s\tremaining: 1m 26s\n",
            "172:\tlearn: 0.1913456\ttotal: 18.1s\tremaining: 1m 26s\n",
            "173:\tlearn: 0.1913021\ttotal: 18.1s\tremaining: 1m 26s\n",
            "174:\tlearn: 0.1910652\ttotal: 18.3s\tremaining: 1m 26s\n",
            "175:\tlearn: 0.1910011\ttotal: 18.3s\tremaining: 1m 25s\n",
            "176:\tlearn: 0.1909149\ttotal: 18.4s\tremaining: 1m 25s\n",
            "177:\tlearn: 0.1906313\ttotal: 18.5s\tremaining: 1m 25s\n",
            "178:\tlearn: 0.1905895\ttotal: 18.6s\tremaining: 1m 25s\n",
            "179:\tlearn: 0.1904876\ttotal: 18.7s\tremaining: 1m 25s\n",
            "180:\tlearn: 0.1904211\ttotal: 18.8s\tremaining: 1m 25s\n",
            "181:\tlearn: 0.1901533\ttotal: 18.9s\tremaining: 1m 25s\n",
            "182:\tlearn: 0.1900998\ttotal: 19s\tremaining: 1m 24s\n",
            "183:\tlearn: 0.1900176\ttotal: 19.1s\tremaining: 1m 24s\n",
            "184:\tlearn: 0.1899390\ttotal: 19.3s\tremaining: 1m 24s\n",
            "185:\tlearn: 0.1898090\ttotal: 19.4s\tremaining: 1m 24s\n",
            "186:\tlearn: 0.1897405\ttotal: 19.4s\tremaining: 1m 24s\n",
            "187:\tlearn: 0.1892124\ttotal: 19.6s\tremaining: 1m 24s\n",
            "188:\tlearn: 0.1891492\ttotal: 19.7s\tremaining: 1m 24s\n",
            "189:\tlearn: 0.1888972\ttotal: 19.8s\tremaining: 1m 24s\n",
            "190:\tlearn: 0.1885675\ttotal: 19.9s\tremaining: 1m 24s\n",
            "191:\tlearn: 0.1885082\ttotal: 20s\tremaining: 1m 23s\n",
            "192:\tlearn: 0.1883374\ttotal: 20.1s\tremaining: 1m 23s\n",
            "193:\tlearn: 0.1881980\ttotal: 20.2s\tremaining: 1m 23s\n",
            "194:\tlearn: 0.1880417\ttotal: 20.3s\tremaining: 1m 23s\n",
            "195:\tlearn: 0.1879753\ttotal: 20.4s\tremaining: 1m 23s\n",
            "196:\tlearn: 0.1879169\ttotal: 20.4s\tremaining: 1m 23s\n",
            "197:\tlearn: 0.1878653\ttotal: 20.5s\tremaining: 1m 23s\n",
            "198:\tlearn: 0.1877864\ttotal: 20.7s\tremaining: 1m 23s\n",
            "199:\tlearn: 0.1877359\ttotal: 20.8s\tremaining: 1m 23s\n",
            "200:\tlearn: 0.1876647\ttotal: 20.9s\tremaining: 1m 22s\n",
            "201:\tlearn: 0.1875846\ttotal: 21s\tremaining: 1m 22s\n",
            "202:\tlearn: 0.1874957\ttotal: 21.1s\tremaining: 1m 22s\n",
            "203:\tlearn: 0.1874501\ttotal: 21.2s\tremaining: 1m 22s\n",
            "204:\tlearn: 0.1872257\ttotal: 21.3s\tremaining: 1m 22s\n",
            "205:\tlearn: 0.1871635\ttotal: 21.4s\tremaining: 1m 22s\n",
            "206:\tlearn: 0.1870359\ttotal: 21.5s\tremaining: 1m 22s\n",
            "207:\tlearn: 0.1868348\ttotal: 21.6s\tremaining: 1m 22s\n",
            "208:\tlearn: 0.1867801\ttotal: 21.7s\tremaining: 1m 22s\n",
            "209:\tlearn: 0.1866476\ttotal: 21.8s\tremaining: 1m 22s\n",
            "210:\tlearn: 0.1866084\ttotal: 21.9s\tremaining: 1m 21s\n",
            "211:\tlearn: 0.1864688\ttotal: 22s\tremaining: 1m 21s\n",
            "212:\tlearn: 0.1863324\ttotal: 22.1s\tremaining: 1m 21s\n",
            "213:\tlearn: 0.1862421\ttotal: 22.2s\tremaining: 1m 21s\n",
            "214:\tlearn: 0.1861767\ttotal: 22.3s\tremaining: 1m 21s\n",
            "215:\tlearn: 0.1861010\ttotal: 22.4s\tremaining: 1m 21s\n",
            "216:\tlearn: 0.1860626\ttotal: 22.5s\tremaining: 1m 21s\n",
            "217:\tlearn: 0.1860171\ttotal: 22.6s\tremaining: 1m 21s\n",
            "218:\tlearn: 0.1859850\ttotal: 22.7s\tremaining: 1m 20s\n",
            "219:\tlearn: 0.1858852\ttotal: 22.8s\tremaining: 1m 20s\n",
            "220:\tlearn: 0.1858411\ttotal: 22.9s\tremaining: 1m 20s\n",
            "221:\tlearn: 0.1856350\ttotal: 23s\tremaining: 1m 20s\n",
            "222:\tlearn: 0.1855824\ttotal: 23.1s\tremaining: 1m 20s\n",
            "223:\tlearn: 0.1854116\ttotal: 23.2s\tremaining: 1m 20s\n",
            "224:\tlearn: 0.1853890\ttotal: 23.3s\tremaining: 1m 20s\n",
            "225:\tlearn: 0.1853352\ttotal: 23.4s\tremaining: 1m 20s\n",
            "226:\tlearn: 0.1851981\ttotal: 23.5s\tremaining: 1m 19s\n",
            "227:\tlearn: 0.1849669\ttotal: 23.6s\tremaining: 1m 19s\n",
            "228:\tlearn: 0.1849076\ttotal: 23.7s\tremaining: 1m 19s\n",
            "229:\tlearn: 0.1848622\ttotal: 23.8s\tremaining: 1m 19s\n",
            "230:\tlearn: 0.1848283\ttotal: 23.9s\tremaining: 1m 19s\n",
            "231:\tlearn: 0.1847671\ttotal: 24s\tremaining: 1m 19s\n",
            "232:\tlearn: 0.1846913\ttotal: 24.1s\tremaining: 1m 19s\n",
            "233:\tlearn: 0.1846354\ttotal: 24.2s\tremaining: 1m 19s\n",
            "234:\tlearn: 0.1845843\ttotal: 24.3s\tremaining: 1m 19s\n",
            "235:\tlearn: 0.1845350\ttotal: 24.4s\tremaining: 1m 18s\n",
            "236:\tlearn: 0.1845033\ttotal: 24.5s\tremaining: 1m 18s\n",
            "237:\tlearn: 0.1844556\ttotal: 24.6s\tremaining: 1m 18s\n",
            "238:\tlearn: 0.1844076\ttotal: 24.7s\tremaining: 1m 18s\n",
            "239:\tlearn: 0.1843459\ttotal: 24.8s\tremaining: 1m 18s\n",
            "240:\tlearn: 0.1842309\ttotal: 24.9s\tremaining: 1m 18s\n",
            "241:\tlearn: 0.1841516\ttotal: 25s\tremaining: 1m 18s\n",
            "242:\tlearn: 0.1841072\ttotal: 25.1s\tremaining: 1m 18s\n",
            "243:\tlearn: 0.1839943\ttotal: 25.2s\tremaining: 1m 18s\n",
            "244:\tlearn: 0.1838949\ttotal: 25.3s\tremaining: 1m 17s\n",
            "245:\tlearn: 0.1837065\ttotal: 25.4s\tremaining: 1m 17s\n",
            "246:\tlearn: 0.1836388\ttotal: 25.5s\tremaining: 1m 17s\n",
            "247:\tlearn: 0.1835385\ttotal: 25.6s\tremaining: 1m 17s\n",
            "248:\tlearn: 0.1834777\ttotal: 25.7s\tremaining: 1m 17s\n",
            "249:\tlearn: 0.1834363\ttotal: 25.8s\tremaining: 1m 17s\n",
            "250:\tlearn: 0.1833697\ttotal: 25.9s\tremaining: 1m 17s\n",
            "251:\tlearn: 0.1833256\ttotal: 26s\tremaining: 1m 17s\n",
            "252:\tlearn: 0.1832952\ttotal: 26.1s\tremaining: 1m 17s\n",
            "253:\tlearn: 0.1832506\ttotal: 26.2s\tremaining: 1m 17s\n",
            "254:\tlearn: 0.1832098\ttotal: 26.3s\tremaining: 1m 16s\n",
            "255:\tlearn: 0.1831065\ttotal: 26.4s\tremaining: 1m 16s\n",
            "256:\tlearn: 0.1830484\ttotal: 26.5s\tremaining: 1m 16s\n",
            "257:\tlearn: 0.1829395\ttotal: 26.6s\tremaining: 1m 16s\n",
            "258:\tlearn: 0.1828480\ttotal: 26.7s\tremaining: 1m 16s\n",
            "259:\tlearn: 0.1827825\ttotal: 26.9s\tremaining: 1m 16s\n",
            "260:\tlearn: 0.1827454\ttotal: 27s\tremaining: 1m 16s\n",
            "261:\tlearn: 0.1826310\ttotal: 27.1s\tremaining: 1m 16s\n",
            "262:\tlearn: 0.1825912\ttotal: 27.2s\tremaining: 1m 16s\n",
            "263:\tlearn: 0.1825565\ttotal: 27.3s\tremaining: 1m 16s\n",
            "264:\tlearn: 0.1825311\ttotal: 27.4s\tremaining: 1m 15s\n",
            "265:\tlearn: 0.1824594\ttotal: 27.5s\tremaining: 1m 15s\n",
            "266:\tlearn: 0.1824157\ttotal: 27.6s\tremaining: 1m 15s\n",
            "267:\tlearn: 0.1823863\ttotal: 27.7s\tremaining: 1m 15s\n",
            "268:\tlearn: 0.1823527\ttotal: 27.8s\tremaining: 1m 15s\n",
            "269:\tlearn: 0.1823010\ttotal: 27.9s\tremaining: 1m 15s\n",
            "270:\tlearn: 0.1822437\ttotal: 28s\tremaining: 1m 15s\n",
            "271:\tlearn: 0.1822079\ttotal: 28.1s\tremaining: 1m 15s\n",
            "272:\tlearn: 0.1821065\ttotal: 28.2s\tremaining: 1m 15s\n",
            "273:\tlearn: 0.1820858\ttotal: 28.3s\tremaining: 1m 14s\n",
            "274:\tlearn: 0.1820405\ttotal: 28.4s\tremaining: 1m 14s\n",
            "275:\tlearn: 0.1820106\ttotal: 28.5s\tremaining: 1m 14s\n",
            "276:\tlearn: 0.1819738\ttotal: 28.6s\tremaining: 1m 14s\n",
            "277:\tlearn: 0.1818425\ttotal: 28.7s\tremaining: 1m 14s\n",
            "278:\tlearn: 0.1818066\ttotal: 28.8s\tremaining: 1m 14s\n",
            "279:\tlearn: 0.1817758\ttotal: 28.9s\tremaining: 1m 14s\n",
            "280:\tlearn: 0.1817430\ttotal: 29s\tremaining: 1m 14s\n",
            "281:\tlearn: 0.1817134\ttotal: 29.1s\tremaining: 1m 14s\n",
            "282:\tlearn: 0.1816915\ttotal: 29.2s\tremaining: 1m 13s\n",
            "283:\tlearn: 0.1816092\ttotal: 29.3s\tremaining: 1m 13s\n",
            "284:\tlearn: 0.1815143\ttotal: 29.4s\tremaining: 1m 13s\n",
            "285:\tlearn: 0.1814560\ttotal: 29.5s\tremaining: 1m 13s\n",
            "286:\tlearn: 0.1814302\ttotal: 29.6s\tremaining: 1m 13s\n",
            "287:\tlearn: 0.1813937\ttotal: 29.7s\tremaining: 1m 13s\n",
            "288:\tlearn: 0.1813565\ttotal: 29.8s\tremaining: 1m 13s\n",
            "289:\tlearn: 0.1811882\ttotal: 29.9s\tremaining: 1m 13s\n",
            "290:\tlearn: 0.1811432\ttotal: 30s\tremaining: 1m 13s\n",
            "291:\tlearn: 0.1810793\ttotal: 30.1s\tremaining: 1m 12s\n",
            "292:\tlearn: 0.1810542\ttotal: 30.2s\tremaining: 1m 12s\n",
            "293:\tlearn: 0.1810222\ttotal: 30.3s\tremaining: 1m 12s\n",
            "294:\tlearn: 0.1810080\ttotal: 30.4s\tremaining: 1m 12s\n",
            "295:\tlearn: 0.1809824\ttotal: 30.5s\tremaining: 1m 12s\n",
            "296:\tlearn: 0.1809415\ttotal: 30.6s\tremaining: 1m 12s\n",
            "297:\tlearn: 0.1809065\ttotal: 30.7s\tremaining: 1m 12s\n",
            "298:\tlearn: 0.1808126\ttotal: 30.8s\tremaining: 1m 12s\n",
            "299:\tlearn: 0.1807905\ttotal: 30.9s\tremaining: 1m 12s\n",
            "300:\tlearn: 0.1807457\ttotal: 31s\tremaining: 1m 11s\n",
            "301:\tlearn: 0.1807104\ttotal: 31.1s\tremaining: 1m 11s\n",
            "302:\tlearn: 0.1806526\ttotal: 31.2s\tremaining: 1m 11s\n",
            "303:\tlearn: 0.1806051\ttotal: 31.3s\tremaining: 1m 11s\n",
            "304:\tlearn: 0.1804915\ttotal: 31.4s\tremaining: 1m 11s\n",
            "305:\tlearn: 0.1804524\ttotal: 31.5s\tremaining: 1m 11s\n",
            "306:\tlearn: 0.1804218\ttotal: 31.6s\tremaining: 1m 11s\n",
            "307:\tlearn: 0.1803664\ttotal: 31.7s\tremaining: 1m 11s\n",
            "308:\tlearn: 0.1803158\ttotal: 31.8s\tremaining: 1m 11s\n",
            "309:\tlearn: 0.1802773\ttotal: 31.9s\tremaining: 1m 11s\n",
            "310:\tlearn: 0.1801988\ttotal: 32s\tremaining: 1m 10s\n",
            "311:\tlearn: 0.1801694\ttotal: 32.1s\tremaining: 1m 10s\n",
            "312:\tlearn: 0.1800364\ttotal: 32.2s\tremaining: 1m 10s\n",
            "313:\tlearn: 0.1799419\ttotal: 32.3s\tremaining: 1m 10s\n",
            "314:\tlearn: 0.1799074\ttotal: 32.4s\tremaining: 1m 10s\n",
            "315:\tlearn: 0.1798844\ttotal: 32.5s\tremaining: 1m 10s\n",
            "316:\tlearn: 0.1798534\ttotal: 32.6s\tremaining: 1m 10s\n",
            "317:\tlearn: 0.1798111\ttotal: 32.7s\tremaining: 1m 10s\n",
            "318:\tlearn: 0.1797544\ttotal: 32.8s\tremaining: 1m 9s\n",
            "319:\tlearn: 0.1797127\ttotal: 32.9s\tremaining: 1m 9s\n",
            "320:\tlearn: 0.1796496\ttotal: 33s\tremaining: 1m 9s\n",
            "321:\tlearn: 0.1796083\ttotal: 33.1s\tremaining: 1m 9s\n",
            "322:\tlearn: 0.1795678\ttotal: 33.2s\tremaining: 1m 9s\n",
            "323:\tlearn: 0.1794903\ttotal: 33.3s\tremaining: 1m 9s\n",
            "324:\tlearn: 0.1793670\ttotal: 33.4s\tremaining: 1m 9s\n",
            "325:\tlearn: 0.1792672\ttotal: 33.5s\tremaining: 1m 9s\n",
            "326:\tlearn: 0.1792418\ttotal: 33.6s\tremaining: 1m 9s\n",
            "327:\tlearn: 0.1792200\ttotal: 33.7s\tremaining: 1m 9s\n",
            "328:\tlearn: 0.1791390\ttotal: 33.8s\tremaining: 1m 9s\n",
            "329:\tlearn: 0.1791068\ttotal: 33.9s\tremaining: 1m 8s\n",
            "330:\tlearn: 0.1790520\ttotal: 34.1s\tremaining: 1m 8s\n",
            "331:\tlearn: 0.1790007\ttotal: 34.2s\tremaining: 1m 8s\n",
            "332:\tlearn: 0.1789362\ttotal: 34.3s\tremaining: 1m 8s\n",
            "333:\tlearn: 0.1788601\ttotal: 34.4s\tremaining: 1m 8s\n",
            "334:\tlearn: 0.1788287\ttotal: 34.5s\tremaining: 1m 8s\n",
            "335:\tlearn: 0.1787821\ttotal: 34.6s\tremaining: 1m 8s\n",
            "336:\tlearn: 0.1787539\ttotal: 34.7s\tremaining: 1m 8s\n",
            "337:\tlearn: 0.1787201\ttotal: 34.8s\tremaining: 1m 8s\n",
            "338:\tlearn: 0.1786782\ttotal: 34.9s\tremaining: 1m 8s\n",
            "339:\tlearn: 0.1786394\ttotal: 35s\tremaining: 1m 8s\n",
            "340:\tlearn: 0.1786227\ttotal: 35.1s\tremaining: 1m 7s\n",
            "341:\tlearn: 0.1785923\ttotal: 35.2s\tremaining: 1m 7s\n",
            "342:\tlearn: 0.1785595\ttotal: 35.3s\tremaining: 1m 7s\n",
            "343:\tlearn: 0.1785120\ttotal: 35.4s\tremaining: 1m 7s\n",
            "344:\tlearn: 0.1784083\ttotal: 35.5s\tremaining: 1m 7s\n",
            "345:\tlearn: 0.1782616\ttotal: 35.6s\tremaining: 1m 7s\n",
            "346:\tlearn: 0.1781918\ttotal: 35.7s\tremaining: 1m 7s\n",
            "347:\tlearn: 0.1781566\ttotal: 35.8s\tremaining: 1m 7s\n",
            "348:\tlearn: 0.1781350\ttotal: 35.9s\tremaining: 1m 6s\n",
            "349:\tlearn: 0.1781197\ttotal: 36s\tremaining: 1m 6s\n",
            "350:\tlearn: 0.1780851\ttotal: 36.1s\tremaining: 1m 6s\n",
            "351:\tlearn: 0.1780611\ttotal: 36.2s\tremaining: 1m 6s\n",
            "352:\tlearn: 0.1780314\ttotal: 36.3s\tremaining: 1m 6s\n",
            "353:\tlearn: 0.1780019\ttotal: 36.4s\tremaining: 1m 6s\n",
            "354:\tlearn: 0.1779743\ttotal: 36.5s\tremaining: 1m 6s\n",
            "355:\tlearn: 0.1779515\ttotal: 36.6s\tremaining: 1m 6s\n",
            "356:\tlearn: 0.1779216\ttotal: 36.7s\tremaining: 1m 6s\n",
            "357:\tlearn: 0.1778974\ttotal: 36.8s\tremaining: 1m 5s\n",
            "358:\tlearn: 0.1778672\ttotal: 36.9s\tremaining: 1m 5s\n",
            "359:\tlearn: 0.1778471\ttotal: 37s\tremaining: 1m 5s\n",
            "360:\tlearn: 0.1777729\ttotal: 37.1s\tremaining: 1m 5s\n",
            "361:\tlearn: 0.1777418\ttotal: 37.2s\tremaining: 1m 5s\n",
            "362:\tlearn: 0.1777127\ttotal: 37.3s\tremaining: 1m 5s\n",
            "363:\tlearn: 0.1776193\ttotal: 37.4s\tremaining: 1m 5s\n",
            "364:\tlearn: 0.1775746\ttotal: 37.5s\tremaining: 1m 5s\n",
            "365:\tlearn: 0.1775120\ttotal: 37.6s\tremaining: 1m 5s\n",
            "366:\tlearn: 0.1774874\ttotal: 37.7s\tremaining: 1m 4s\n",
            "367:\tlearn: 0.1774204\ttotal: 37.8s\tremaining: 1m 4s\n",
            "368:\tlearn: 0.1773925\ttotal: 37.9s\tremaining: 1m 4s\n",
            "369:\tlearn: 0.1773270\ttotal: 38s\tremaining: 1m 4s\n",
            "370:\tlearn: 0.1772942\ttotal: 38.1s\tremaining: 1m 4s\n",
            "371:\tlearn: 0.1772735\ttotal: 38.1s\tremaining: 1m 4s\n",
            "372:\tlearn: 0.1772479\ttotal: 38.2s\tremaining: 1m 4s\n",
            "373:\tlearn: 0.1772200\ttotal: 38.3s\tremaining: 1m 4s\n",
            "374:\tlearn: 0.1772091\ttotal: 38.4s\tremaining: 1m 4s\n",
            "375:\tlearn: 0.1771410\ttotal: 38.5s\tremaining: 1m 3s\n",
            "376:\tlearn: 0.1771086\ttotal: 38.6s\tremaining: 1m 3s\n",
            "377:\tlearn: 0.1770907\ttotal: 38.7s\tremaining: 1m 3s\n",
            "378:\tlearn: 0.1770554\ttotal: 38.8s\tremaining: 1m 3s\n",
            "379:\tlearn: 0.1770260\ttotal: 38.9s\tremaining: 1m 3s\n",
            "380:\tlearn: 0.1770047\ttotal: 39s\tremaining: 1m 3s\n",
            "381:\tlearn: 0.1769924\ttotal: 39.1s\tremaining: 1m 3s\n",
            "382:\tlearn: 0.1769704\ttotal: 39.2s\tremaining: 1m 3s\n",
            "383:\tlearn: 0.1768664\ttotal: 39.3s\tremaining: 1m 3s\n",
            "384:\tlearn: 0.1768382\ttotal: 39.5s\tremaining: 1m 3s\n",
            "385:\tlearn: 0.1767920\ttotal: 39.6s\tremaining: 1m 2s\n",
            "386:\tlearn: 0.1767542\ttotal: 39.7s\tremaining: 1m 2s\n",
            "387:\tlearn: 0.1767298\ttotal: 39.8s\tremaining: 1m 2s\n",
            "388:\tlearn: 0.1767186\ttotal: 39.9s\tremaining: 1m 2s\n",
            "389:\tlearn: 0.1766904\ttotal: 40s\tremaining: 1m 2s\n",
            "390:\tlearn: 0.1766727\ttotal: 40.1s\tremaining: 1m 2s\n",
            "391:\tlearn: 0.1766336\ttotal: 40.2s\tremaining: 1m 2s\n",
            "392:\tlearn: 0.1765866\ttotal: 40.3s\tremaining: 1m 2s\n",
            "393:\tlearn: 0.1765540\ttotal: 40.4s\tremaining: 1m 2s\n",
            "394:\tlearn: 0.1765245\ttotal: 40.5s\tremaining: 1m 2s\n",
            "395:\tlearn: 0.1764943\ttotal: 40.6s\tremaining: 1m 1s\n",
            "396:\tlearn: 0.1764654\ttotal: 40.7s\tremaining: 1m 1s\n",
            "397:\tlearn: 0.1763541\ttotal: 40.8s\tremaining: 1m 1s\n",
            "398:\tlearn: 0.1762946\ttotal: 40.9s\tremaining: 1m 1s\n",
            "399:\tlearn: 0.1761786\ttotal: 41s\tremaining: 1m 1s\n",
            "400:\tlearn: 0.1761470\ttotal: 41.1s\tremaining: 1m 1s\n",
            "401:\tlearn: 0.1761099\ttotal: 41.2s\tremaining: 1m 1s\n",
            "402:\tlearn: 0.1760490\ttotal: 41.3s\tremaining: 1m 1s\n",
            "403:\tlearn: 0.1760203\ttotal: 41.5s\tremaining: 1m 1s\n",
            "404:\tlearn: 0.1759874\ttotal: 41.6s\tremaining: 1m 1s\n",
            "405:\tlearn: 0.1759276\ttotal: 41.7s\tremaining: 1m 1s\n",
            "406:\tlearn: 0.1758991\ttotal: 41.8s\tremaining: 1m\n",
            "407:\tlearn: 0.1758668\ttotal: 41.9s\tremaining: 1m\n",
            "408:\tlearn: 0.1758477\ttotal: 42s\tremaining: 1m\n",
            "409:\tlearn: 0.1758194\ttotal: 42.1s\tremaining: 1m\n",
            "410:\tlearn: 0.1757992\ttotal: 42.2s\tremaining: 1m\n",
            "411:\tlearn: 0.1757908\ttotal: 42.3s\tremaining: 1m\n",
            "412:\tlearn: 0.1757696\ttotal: 42.4s\tremaining: 1m\n",
            "413:\tlearn: 0.1757441\ttotal: 42.5s\tremaining: 1m\n",
            "414:\tlearn: 0.1757234\ttotal: 42.6s\tremaining: 1m\n",
            "415:\tlearn: 0.1756865\ttotal: 42.8s\tremaining: 1m\n",
            "416:\tlearn: 0.1756005\ttotal: 42.9s\tremaining: 59.9s\n",
            "417:\tlearn: 0.1755782\ttotal: 43s\tremaining: 59.8s\n",
            "418:\tlearn: 0.1755676\ttotal: 43.1s\tremaining: 59.7s\n",
            "419:\tlearn: 0.1755443\ttotal: 43.2s\tremaining: 59.6s\n",
            "420:\tlearn: 0.1755288\ttotal: 43.3s\tremaining: 59.5s\n",
            "421:\tlearn: 0.1754768\ttotal: 43.4s\tremaining: 59.4s\n",
            "422:\tlearn: 0.1754220\ttotal: 43.5s\tremaining: 59.3s\n",
            "423:\tlearn: 0.1753937\ttotal: 43.6s\tremaining: 59.2s\n",
            "424:\tlearn: 0.1753540\ttotal: 43.7s\tremaining: 59.1s\n",
            "425:\tlearn: 0.1753301\ttotal: 43.8s\tremaining: 59s\n",
            "426:\tlearn: 0.1753095\ttotal: 43.9s\tremaining: 58.9s\n",
            "427:\tlearn: 0.1752917\ttotal: 44s\tremaining: 58.8s\n",
            "428:\tlearn: 0.1752571\ttotal: 44.1s\tremaining: 58.7s\n",
            "429:\tlearn: 0.1752467\ttotal: 44.2s\tremaining: 58.6s\n",
            "430:\tlearn: 0.1752306\ttotal: 44.3s\tremaining: 58.5s\n",
            "431:\tlearn: 0.1751953\ttotal: 44.4s\tremaining: 58.4s\n",
            "432:\tlearn: 0.1751234\ttotal: 44.6s\tremaining: 58.4s\n",
            "433:\tlearn: 0.1750941\ttotal: 44.7s\tremaining: 58.3s\n",
            "434:\tlearn: 0.1750699\ttotal: 44.8s\tremaining: 58.2s\n",
            "435:\tlearn: 0.1750376\ttotal: 44.9s\tremaining: 58s\n",
            "436:\tlearn: 0.1750214\ttotal: 45s\tremaining: 57.9s\n",
            "437:\tlearn: 0.1750029\ttotal: 45.1s\tremaining: 57.8s\n",
            "438:\tlearn: 0.1749901\ttotal: 45.2s\tremaining: 57.7s\n",
            "439:\tlearn: 0.1749769\ttotal: 45.3s\tremaining: 57.6s\n",
            "440:\tlearn: 0.1749384\ttotal: 45.4s\tremaining: 57.5s\n",
            "441:\tlearn: 0.1748866\ttotal: 45.5s\tremaining: 57.4s\n",
            "442:\tlearn: 0.1748467\ttotal: 45.6s\tremaining: 57.3s\n",
            "443:\tlearn: 0.1748327\ttotal: 45.7s\tremaining: 57.2s\n",
            "444:\tlearn: 0.1748094\ttotal: 45.8s\tremaining: 57.1s\n",
            "445:\tlearn: 0.1747757\ttotal: 45.9s\tremaining: 57s\n",
            "446:\tlearn: 0.1747540\ttotal: 46s\tremaining: 56.9s\n",
            "447:\tlearn: 0.1747234\ttotal: 46.1s\tremaining: 56.8s\n",
            "448:\tlearn: 0.1747077\ttotal: 46.2s\tremaining: 56.7s\n",
            "449:\tlearn: 0.1746838\ttotal: 46.3s\tremaining: 56.6s\n",
            "450:\tlearn: 0.1746602\ttotal: 46.4s\tremaining: 56.5s\n",
            "451:\tlearn: 0.1746395\ttotal: 46.5s\tremaining: 56.4s\n",
            "452:\tlearn: 0.1746310\ttotal: 46.7s\tremaining: 56.3s\n",
            "453:\tlearn: 0.1746065\ttotal: 46.8s\tremaining: 56.3s\n",
            "454:\tlearn: 0.1745900\ttotal: 46.9s\tremaining: 56.2s\n",
            "455:\tlearn: 0.1745662\ttotal: 47s\tremaining: 56.1s\n",
            "456:\tlearn: 0.1745431\ttotal: 47.1s\tremaining: 56s\n",
            "457:\tlearn: 0.1745213\ttotal: 47.2s\tremaining: 55.9s\n",
            "458:\tlearn: 0.1744937\ttotal: 47.3s\tremaining: 55.7s\n",
            "459:\tlearn: 0.1744662\ttotal: 47.4s\tremaining: 55.7s\n",
            "460:\tlearn: 0.1744387\ttotal: 47.5s\tremaining: 55.5s\n",
            "461:\tlearn: 0.1744137\ttotal: 47.6s\tremaining: 55.4s\n",
            "462:\tlearn: 0.1743562\ttotal: 47.7s\tremaining: 55.3s\n",
            "463:\tlearn: 0.1743209\ttotal: 47.8s\tremaining: 55.2s\n",
            "464:\tlearn: 0.1742989\ttotal: 47.9s\tremaining: 55.1s\n",
            "465:\tlearn: 0.1742671\ttotal: 48s\tremaining: 55s\n",
            "466:\tlearn: 0.1742449\ttotal: 48.1s\tremaining: 54.9s\n",
            "467:\tlearn: 0.1742372\ttotal: 48.2s\tremaining: 54.8s\n",
            "468:\tlearn: 0.1742227\ttotal: 48.3s\tremaining: 54.7s\n",
            "469:\tlearn: 0.1741652\ttotal: 48.4s\tremaining: 54.5s\n",
            "470:\tlearn: 0.1741454\ttotal: 48.5s\tremaining: 54.4s\n",
            "471:\tlearn: 0.1741179\ttotal: 48.6s\tremaining: 54.3s\n",
            "472:\tlearn: 0.1740991\ttotal: 48.7s\tremaining: 54.2s\n",
            "473:\tlearn: 0.1740365\ttotal: 48.8s\tremaining: 54.1s\n",
            "474:\tlearn: 0.1739991\ttotal: 48.9s\tremaining: 54s\n",
            "475:\tlearn: 0.1739090\ttotal: 49s\tremaining: 53.9s\n",
            "476:\tlearn: 0.1738886\ttotal: 49.1s\tremaining: 53.8s\n",
            "477:\tlearn: 0.1738386\ttotal: 49.2s\tremaining: 53.7s\n",
            "478:\tlearn: 0.1738127\ttotal: 49.3s\tremaining: 53.6s\n",
            "479:\tlearn: 0.1737737\ttotal: 49.4s\tremaining: 53.5s\n",
            "480:\tlearn: 0.1737188\ttotal: 49.5s\tremaining: 53.4s\n",
            "481:\tlearn: 0.1737006\ttotal: 49.6s\tremaining: 53.3s\n",
            "482:\tlearn: 0.1736747\ttotal: 49.7s\tremaining: 53.2s\n",
            "483:\tlearn: 0.1736460\ttotal: 49.8s\tremaining: 53.1s\n",
            "484:\tlearn: 0.1735912\ttotal: 49.9s\tremaining: 53s\n",
            "485:\tlearn: 0.1735489\ttotal: 50s\tremaining: 52.9s\n",
            "486:\tlearn: 0.1734949\ttotal: 50.1s\tremaining: 52.8s\n",
            "487:\tlearn: 0.1734733\ttotal: 50.2s\tremaining: 52.7s\n",
            "488:\tlearn: 0.1734263\ttotal: 50.3s\tremaining: 52.5s\n",
            "489:\tlearn: 0.1734148\ttotal: 50.4s\tremaining: 52.4s\n",
            "490:\tlearn: 0.1733943\ttotal: 50.5s\tremaining: 52.3s\n",
            "491:\tlearn: 0.1733590\ttotal: 50.6s\tremaining: 52.2s\n",
            "492:\tlearn: 0.1733387\ttotal: 50.7s\tremaining: 52.2s\n",
            "493:\tlearn: 0.1733115\ttotal: 50.8s\tremaining: 52.1s\n",
            "494:\tlearn: 0.1732882\ttotal: 50.9s\tremaining: 51.9s\n",
            "495:\tlearn: 0.1732730\ttotal: 51s\tremaining: 51.8s\n",
            "496:\tlearn: 0.1732472\ttotal: 51.1s\tremaining: 51.7s\n",
            "497:\tlearn: 0.1732265\ttotal: 51.2s\tremaining: 51.6s\n",
            "498:\tlearn: 0.1732131\ttotal: 51.3s\tremaining: 51.5s\n",
            "499:\tlearn: 0.1731886\ttotal: 51.4s\tremaining: 51.4s\n",
            "500:\tlearn: 0.1731657\ttotal: 51.5s\tremaining: 51.3s\n",
            "501:\tlearn: 0.1731396\ttotal: 51.6s\tremaining: 51.2s\n",
            "502:\tlearn: 0.1730934\ttotal: 51.8s\tremaining: 51.1s\n",
            "503:\tlearn: 0.1730704\ttotal: 51.9s\tremaining: 51s\n",
            "504:\tlearn: 0.1730354\ttotal: 52s\tremaining: 50.9s\n",
            "505:\tlearn: 0.1730106\ttotal: 52.1s\tremaining: 50.9s\n",
            "506:\tlearn: 0.1729862\ttotal: 52.2s\tremaining: 50.8s\n",
            "507:\tlearn: 0.1729615\ttotal: 52.3s\tremaining: 50.7s\n",
            "508:\tlearn: 0.1729259\ttotal: 52.4s\tremaining: 50.6s\n",
            "509:\tlearn: 0.1729071\ttotal: 52.5s\tremaining: 50.5s\n",
            "510:\tlearn: 0.1728884\ttotal: 52.6s\tremaining: 50.3s\n",
            "511:\tlearn: 0.1728519\ttotal: 52.7s\tremaining: 50.3s\n",
            "512:\tlearn: 0.1728283\ttotal: 52.8s\tremaining: 50.2s\n",
            "513:\tlearn: 0.1728023\ttotal: 52.9s\tremaining: 50.1s\n",
            "514:\tlearn: 0.1727771\ttotal: 53s\tremaining: 50s\n",
            "515:\tlearn: 0.1727484\ttotal: 53.2s\tremaining: 49.9s\n",
            "516:\tlearn: 0.1727227\ttotal: 53.3s\tremaining: 49.7s\n",
            "517:\tlearn: 0.1726917\ttotal: 53.3s\tremaining: 49.6s\n",
            "518:\tlearn: 0.1726818\ttotal: 53.4s\tremaining: 49.5s\n",
            "519:\tlearn: 0.1726710\ttotal: 53.5s\tremaining: 49.4s\n",
            "520:\tlearn: 0.1726030\ttotal: 53.7s\tremaining: 49.3s\n",
            "521:\tlearn: 0.1725806\ttotal: 53.8s\tremaining: 49.2s\n",
            "522:\tlearn: 0.1725551\ttotal: 53.9s\tremaining: 49.1s\n",
            "523:\tlearn: 0.1725191\ttotal: 54s\tremaining: 49s\n",
            "524:\tlearn: 0.1724958\ttotal: 54.1s\tremaining: 48.9s\n",
            "525:\tlearn: 0.1724782\ttotal: 54.2s\tremaining: 48.8s\n",
            "526:\tlearn: 0.1724592\ttotal: 54.3s\tremaining: 48.7s\n",
            "527:\tlearn: 0.1724357\ttotal: 54.4s\tremaining: 48.6s\n",
            "528:\tlearn: 0.1724176\ttotal: 54.5s\tremaining: 48.5s\n",
            "529:\tlearn: 0.1723909\ttotal: 54.6s\tremaining: 48.4s\n",
            "530:\tlearn: 0.1723641\ttotal: 54.7s\tremaining: 48.3s\n",
            "531:\tlearn: 0.1723279\ttotal: 54.8s\tremaining: 48.2s\n",
            "532:\tlearn: 0.1723000\ttotal: 54.9s\tremaining: 48.1s\n",
            "533:\tlearn: 0.1722632\ttotal: 55s\tremaining: 48s\n",
            "534:\tlearn: 0.1722378\ttotal: 55.1s\tremaining: 47.9s\n",
            "535:\tlearn: 0.1722089\ttotal: 55.2s\tremaining: 47.8s\n",
            "536:\tlearn: 0.1721990\ttotal: 55.3s\tremaining: 47.7s\n",
            "537:\tlearn: 0.1721850\ttotal: 55.4s\tremaining: 47.6s\n",
            "538:\tlearn: 0.1721627\ttotal: 55.5s\tremaining: 47.5s\n",
            "539:\tlearn: 0.1721326\ttotal: 55.6s\tremaining: 47.4s\n",
            "540:\tlearn: 0.1721019\ttotal: 55.7s\tremaining: 47.3s\n",
            "541:\tlearn: 0.1720775\ttotal: 55.8s\tremaining: 47.2s\n",
            "542:\tlearn: 0.1720404\ttotal: 55.9s\tremaining: 47.1s\n",
            "543:\tlearn: 0.1720109\ttotal: 56s\tremaining: 46.9s\n",
            "544:\tlearn: 0.1719763\ttotal: 56.1s\tremaining: 46.8s\n",
            "545:\tlearn: 0.1719505\ttotal: 56.2s\tremaining: 46.7s\n",
            "546:\tlearn: 0.1719353\ttotal: 56.3s\tremaining: 46.6s\n",
            "547:\tlearn: 0.1719144\ttotal: 56.4s\tremaining: 46.5s\n",
            "548:\tlearn: 0.1718845\ttotal: 56.5s\tremaining: 46.4s\n",
            "549:\tlearn: 0.1718709\ttotal: 56.6s\tremaining: 46.3s\n",
            "550:\tlearn: 0.1718556\ttotal: 56.7s\tremaining: 46.2s\n",
            "551:\tlearn: 0.1718155\ttotal: 56.8s\tremaining: 46.1s\n",
            "552:\tlearn: 0.1717878\ttotal: 56.9s\tremaining: 46s\n",
            "553:\tlearn: 0.1717593\ttotal: 57s\tremaining: 45.9s\n",
            "554:\tlearn: 0.1717315\ttotal: 57.1s\tremaining: 45.8s\n",
            "555:\tlearn: 0.1716722\ttotal: 57.2s\tremaining: 45.7s\n",
            "556:\tlearn: 0.1716012\ttotal: 57.3s\tremaining: 45.6s\n",
            "557:\tlearn: 0.1715841\ttotal: 57.4s\tremaining: 45.5s\n",
            "558:\tlearn: 0.1715496\ttotal: 57.5s\tremaining: 45.3s\n",
            "559:\tlearn: 0.1715339\ttotal: 57.6s\tremaining: 45.2s\n",
            "560:\tlearn: 0.1715142\ttotal: 57.7s\tremaining: 45.1s\n",
            "561:\tlearn: 0.1714950\ttotal: 57.8s\tremaining: 45s\n",
            "562:\tlearn: 0.1714764\ttotal: 57.9s\tremaining: 44.9s\n",
            "563:\tlearn: 0.1714574\ttotal: 58s\tremaining: 44.8s\n",
            "564:\tlearn: 0.1714408\ttotal: 58.1s\tremaining: 44.7s\n",
            "565:\tlearn: 0.1714307\ttotal: 58.2s\tremaining: 44.6s\n",
            "566:\tlearn: 0.1714188\ttotal: 58.3s\tremaining: 44.5s\n",
            "567:\tlearn: 0.1714000\ttotal: 58.4s\tremaining: 44.4s\n",
            "568:\tlearn: 0.1713819\ttotal: 58.5s\tremaining: 44.3s\n",
            "569:\tlearn: 0.1713574\ttotal: 58.5s\tremaining: 44.2s\n",
            "570:\tlearn: 0.1713259\ttotal: 58.6s\tremaining: 44.1s\n",
            "571:\tlearn: 0.1712964\ttotal: 58.7s\tremaining: 43.9s\n",
            "572:\tlearn: 0.1712648\ttotal: 58.8s\tremaining: 43.8s\n",
            "573:\tlearn: 0.1712480\ttotal: 58.9s\tremaining: 43.7s\n",
            "574:\tlearn: 0.1712016\ttotal: 59s\tremaining: 43.6s\n",
            "575:\tlearn: 0.1711568\ttotal: 59.1s\tremaining: 43.5s\n",
            "576:\tlearn: 0.1711416\ttotal: 59.2s\tremaining: 43.4s\n",
            "577:\tlearn: 0.1711298\ttotal: 59.3s\tremaining: 43.3s\n",
            "578:\tlearn: 0.1710816\ttotal: 59.4s\tremaining: 43.2s\n",
            "579:\tlearn: 0.1710609\ttotal: 59.5s\tremaining: 43.1s\n",
            "580:\tlearn: 0.1710439\ttotal: 59.6s\tremaining: 43s\n",
            "581:\tlearn: 0.1710233\ttotal: 59.7s\tremaining: 42.9s\n",
            "582:\tlearn: 0.1709956\ttotal: 59.9s\tremaining: 42.8s\n",
            "583:\tlearn: 0.1709666\ttotal: 60s\tremaining: 42.7s\n",
            "584:\tlearn: 0.1709447\ttotal: 1m\tremaining: 42.6s\n",
            "585:\tlearn: 0.1709243\ttotal: 1m\tremaining: 42.5s\n",
            "586:\tlearn: 0.1709124\ttotal: 1m\tremaining: 42.4s\n",
            "587:\tlearn: 0.1708850\ttotal: 1m\tremaining: 42.3s\n",
            "588:\tlearn: 0.1708387\ttotal: 1m\tremaining: 42.2s\n",
            "589:\tlearn: 0.1708141\ttotal: 1m\tremaining: 42.1s\n",
            "590:\tlearn: 0.1707984\ttotal: 1m\tremaining: 42s\n",
            "591:\tlearn: 0.1707579\ttotal: 1m\tremaining: 41.9s\n",
            "592:\tlearn: 0.1707485\ttotal: 1m\tremaining: 41.8s\n",
            "593:\tlearn: 0.1707306\ttotal: 1m 1s\tremaining: 41.7s\n",
            "594:\tlearn: 0.1707122\ttotal: 1m 1s\tremaining: 41.6s\n",
            "595:\tlearn: 0.1706893\ttotal: 1m 1s\tremaining: 41.5s\n",
            "596:\tlearn: 0.1706720\ttotal: 1m 1s\tremaining: 41.4s\n",
            "597:\tlearn: 0.1706556\ttotal: 1m 1s\tremaining: 41.3s\n",
            "598:\tlearn: 0.1706205\ttotal: 1m 1s\tremaining: 41.2s\n",
            "599:\tlearn: 0.1705969\ttotal: 1m 1s\tremaining: 41.1s\n",
            "600:\tlearn: 0.1705729\ttotal: 1m 1s\tremaining: 41s\n",
            "601:\tlearn: 0.1705534\ttotal: 1m 1s\tremaining: 40.9s\n",
            "602:\tlearn: 0.1705358\ttotal: 1m 1s\tremaining: 40.8s\n",
            "603:\tlearn: 0.1705131\ttotal: 1m 2s\tremaining: 40.7s\n",
            "604:\tlearn: 0.1704625\ttotal: 1m 2s\tremaining: 40.6s\n",
            "605:\tlearn: 0.1704425\ttotal: 1m 2s\tremaining: 40.5s\n",
            "606:\tlearn: 0.1704228\ttotal: 1m 2s\tremaining: 40.4s\n",
            "607:\tlearn: 0.1704000\ttotal: 1m 2s\tremaining: 40.2s\n",
            "608:\tlearn: 0.1703611\ttotal: 1m 2s\tremaining: 40.1s\n",
            "609:\tlearn: 0.1703440\ttotal: 1m 2s\tremaining: 40s\n",
            "610:\tlearn: 0.1703213\ttotal: 1m 2s\tremaining: 39.9s\n",
            "611:\tlearn: 0.1703027\ttotal: 1m 2s\tremaining: 39.8s\n",
            "612:\tlearn: 0.1702656\ttotal: 1m 2s\tremaining: 39.7s\n",
            "613:\tlearn: 0.1702053\ttotal: 1m 3s\tremaining: 39.6s\n",
            "614:\tlearn: 0.1701581\ttotal: 1m 3s\tremaining: 39.5s\n",
            "615:\tlearn: 0.1701312\ttotal: 1m 3s\tremaining: 39.5s\n",
            "616:\tlearn: 0.1701220\ttotal: 1m 3s\tremaining: 39.3s\n",
            "617:\tlearn: 0.1701058\ttotal: 1m 3s\tremaining: 39.2s\n",
            "618:\tlearn: 0.1700863\ttotal: 1m 3s\tremaining: 39.1s\n",
            "619:\tlearn: 0.1700677\ttotal: 1m 3s\tremaining: 39s\n",
            "620:\tlearn: 0.1700595\ttotal: 1m 3s\tremaining: 38.9s\n",
            "621:\tlearn: 0.1700421\ttotal: 1m 3s\tremaining: 38.8s\n",
            "622:\tlearn: 0.1700306\ttotal: 1m 3s\tremaining: 38.7s\n",
            "623:\tlearn: 0.1700131\ttotal: 1m 4s\tremaining: 38.6s\n",
            "624:\tlearn: 0.1700024\ttotal: 1m 4s\tremaining: 38.5s\n",
            "625:\tlearn: 0.1699473\ttotal: 1m 4s\tremaining: 38.4s\n",
            "626:\tlearn: 0.1699340\ttotal: 1m 4s\tremaining: 38.3s\n",
            "627:\tlearn: 0.1699154\ttotal: 1m 4s\tremaining: 38.2s\n",
            "628:\tlearn: 0.1698975\ttotal: 1m 4s\tremaining: 38.1s\n",
            "629:\tlearn: 0.1698795\ttotal: 1m 4s\tremaining: 38s\n",
            "630:\tlearn: 0.1698622\ttotal: 1m 4s\tremaining: 37.8s\n",
            "631:\tlearn: 0.1698344\ttotal: 1m 4s\tremaining: 37.7s\n",
            "632:\tlearn: 0.1698090\ttotal: 1m 4s\tremaining: 37.6s\n",
            "633:\tlearn: 0.1697948\ttotal: 1m 5s\tremaining: 37.5s\n",
            "634:\tlearn: 0.1697734\ttotal: 1m 5s\tremaining: 37.4s\n",
            "635:\tlearn: 0.1697481\ttotal: 1m 5s\tremaining: 37.3s\n",
            "636:\tlearn: 0.1697360\ttotal: 1m 5s\tremaining: 37.2s\n",
            "637:\tlearn: 0.1697186\ttotal: 1m 5s\tremaining: 37.1s\n",
            "638:\tlearn: 0.1697027\ttotal: 1m 5s\tremaining: 37s\n",
            "639:\tlearn: 0.1696896\ttotal: 1m 5s\tremaining: 36.9s\n",
            "640:\tlearn: 0.1696666\ttotal: 1m 5s\tremaining: 36.8s\n",
            "641:\tlearn: 0.1696530\ttotal: 1m 5s\tremaining: 36.7s\n",
            "642:\tlearn: 0.1696370\ttotal: 1m 5s\tremaining: 36.6s\n",
            "643:\tlearn: 0.1696099\ttotal: 1m 6s\tremaining: 36.5s\n",
            "644:\tlearn: 0.1695879\ttotal: 1m 6s\tremaining: 36.4s\n",
            "645:\tlearn: 0.1695625\ttotal: 1m 6s\tremaining: 36.3s\n",
            "646:\tlearn: 0.1695456\ttotal: 1m 6s\tremaining: 36.2s\n",
            "647:\tlearn: 0.1695300\ttotal: 1m 6s\tremaining: 36.1s\n",
            "648:\tlearn: 0.1694741\ttotal: 1m 6s\tremaining: 36s\n",
            "649:\tlearn: 0.1694557\ttotal: 1m 6s\tremaining: 35.9s\n",
            "650:\tlearn: 0.1694436\ttotal: 1m 6s\tremaining: 35.8s\n",
            "651:\tlearn: 0.1694233\ttotal: 1m 6s\tremaining: 35.7s\n",
            "652:\tlearn: 0.1694052\ttotal: 1m 6s\tremaining: 35.6s\n",
            "653:\tlearn: 0.1693991\ttotal: 1m 7s\tremaining: 35.5s\n",
            "654:\tlearn: 0.1693580\ttotal: 1m 7s\tremaining: 35.4s\n",
            "655:\tlearn: 0.1692866\ttotal: 1m 7s\tremaining: 35.3s\n",
            "656:\tlearn: 0.1692749\ttotal: 1m 7s\tremaining: 35.2s\n",
            "657:\tlearn: 0.1692385\ttotal: 1m 7s\tremaining: 35.1s\n",
            "658:\tlearn: 0.1692209\ttotal: 1m 7s\tremaining: 35s\n",
            "659:\tlearn: 0.1692072\ttotal: 1m 7s\tremaining: 34.9s\n",
            "660:\tlearn: 0.1691848\ttotal: 1m 7s\tremaining: 34.8s\n",
            "661:\tlearn: 0.1691666\ttotal: 1m 7s\tremaining: 34.7s\n",
            "662:\tlearn: 0.1691547\ttotal: 1m 7s\tremaining: 34.6s\n",
            "663:\tlearn: 0.1691347\ttotal: 1m 8s\tremaining: 34.5s\n",
            "664:\tlearn: 0.1691188\ttotal: 1m 8s\tremaining: 34.4s\n",
            "665:\tlearn: 0.1691050\ttotal: 1m 8s\tremaining: 34.3s\n",
            "666:\tlearn: 0.1690928\ttotal: 1m 8s\tremaining: 34.1s\n",
            "667:\tlearn: 0.1690712\ttotal: 1m 8s\tremaining: 34s\n",
            "668:\tlearn: 0.1690563\ttotal: 1m 8s\tremaining: 33.9s\n",
            "669:\tlearn: 0.1690437\ttotal: 1m 8s\tremaining: 33.8s\n",
            "670:\tlearn: 0.1690197\ttotal: 1m 8s\tremaining: 33.7s\n",
            "671:\tlearn: 0.1690069\ttotal: 1m 8s\tremaining: 33.6s\n",
            "672:\tlearn: 0.1689928\ttotal: 1m 8s\tremaining: 33.5s\n",
            "673:\tlearn: 0.1689673\ttotal: 1m 9s\tremaining: 33.4s\n",
            "674:\tlearn: 0.1689429\ttotal: 1m 9s\tremaining: 33.3s\n",
            "675:\tlearn: 0.1689134\ttotal: 1m 9s\tremaining: 33.2s\n",
            "676:\tlearn: 0.1688995\ttotal: 1m 9s\tremaining: 33.1s\n",
            "677:\tlearn: 0.1688914\ttotal: 1m 9s\tremaining: 33s\n",
            "678:\tlearn: 0.1688673\ttotal: 1m 9s\tremaining: 32.9s\n",
            "679:\tlearn: 0.1688470\ttotal: 1m 9s\tremaining: 32.8s\n",
            "680:\tlearn: 0.1688302\ttotal: 1m 9s\tremaining: 32.7s\n",
            "681:\tlearn: 0.1687962\ttotal: 1m 9s\tremaining: 32.6s\n",
            "682:\tlearn: 0.1687772\ttotal: 1m 9s\tremaining: 32.5s\n",
            "683:\tlearn: 0.1687614\ttotal: 1m 10s\tremaining: 32.4s\n",
            "684:\tlearn: 0.1687471\ttotal: 1m 10s\tremaining: 32.2s\n",
            "685:\tlearn: 0.1687284\ttotal: 1m 10s\tremaining: 32.1s\n",
            "686:\tlearn: 0.1687024\ttotal: 1m 10s\tremaining: 32s\n",
            "687:\tlearn: 0.1686889\ttotal: 1m 10s\tremaining: 31.9s\n",
            "688:\tlearn: 0.1686759\ttotal: 1m 10s\tremaining: 31.8s\n",
            "689:\tlearn: 0.1686550\ttotal: 1m 10s\tremaining: 31.7s\n",
            "690:\tlearn: 0.1686362\ttotal: 1m 10s\tremaining: 31.6s\n",
            "691:\tlearn: 0.1686201\ttotal: 1m 10s\tremaining: 31.5s\n",
            "692:\tlearn: 0.1686044\ttotal: 1m 10s\tremaining: 31.4s\n",
            "693:\tlearn: 0.1685775\ttotal: 1m 10s\tremaining: 31.3s\n",
            "694:\tlearn: 0.1685578\ttotal: 1m 11s\tremaining: 31.2s\n",
            "695:\tlearn: 0.1685390\ttotal: 1m 11s\tremaining: 31.1s\n",
            "696:\tlearn: 0.1685015\ttotal: 1m 11s\tremaining: 31s\n",
            "697:\tlearn: 0.1684881\ttotal: 1m 11s\tremaining: 30.9s\n",
            "698:\tlearn: 0.1684696\ttotal: 1m 11s\tremaining: 30.8s\n",
            "699:\tlearn: 0.1684518\ttotal: 1m 11s\tremaining: 30.7s\n",
            "700:\tlearn: 0.1684247\ttotal: 1m 11s\tremaining: 30.6s\n",
            "701:\tlearn: 0.1684080\ttotal: 1m 11s\tremaining: 30.5s\n",
            "702:\tlearn: 0.1683830\ttotal: 1m 11s\tremaining: 30.4s\n",
            "703:\tlearn: 0.1683651\ttotal: 1m 11s\tremaining: 30.3s\n",
            "704:\tlearn: 0.1683465\ttotal: 1m 12s\tremaining: 30.2s\n",
            "705:\tlearn: 0.1683304\ttotal: 1m 12s\tremaining: 30.1s\n",
            "706:\tlearn: 0.1683141\ttotal: 1m 12s\tremaining: 30s\n",
            "707:\tlearn: 0.1682832\ttotal: 1m 12s\tremaining: 29.8s\n",
            "708:\tlearn: 0.1682682\ttotal: 1m 12s\tremaining: 29.7s\n",
            "709:\tlearn: 0.1682547\ttotal: 1m 12s\tremaining: 29.6s\n",
            "710:\tlearn: 0.1682475\ttotal: 1m 12s\tremaining: 29.5s\n",
            "711:\tlearn: 0.1682334\ttotal: 1m 12s\tremaining: 29.4s\n",
            "712:\tlearn: 0.1681700\ttotal: 1m 12s\tremaining: 29.3s\n",
            "713:\tlearn: 0.1681568\ttotal: 1m 12s\tremaining: 29.2s\n",
            "714:\tlearn: 0.1681326\ttotal: 1m 13s\tremaining: 29.1s\n",
            "715:\tlearn: 0.1681130\ttotal: 1m 13s\tremaining: 29s\n",
            "716:\tlearn: 0.1681015\ttotal: 1m 13s\tremaining: 28.9s\n",
            "717:\tlearn: 0.1680892\ttotal: 1m 13s\tremaining: 28.8s\n",
            "718:\tlearn: 0.1680613\ttotal: 1m 13s\tremaining: 28.7s\n",
            "719:\tlearn: 0.1680250\ttotal: 1m 13s\tremaining: 28.6s\n",
            "720:\tlearn: 0.1680081\ttotal: 1m 13s\tremaining: 28.5s\n",
            "721:\tlearn: 0.1679972\ttotal: 1m 13s\tremaining: 28.4s\n",
            "722:\tlearn: 0.1679876\ttotal: 1m 13s\tremaining: 28.3s\n",
            "723:\tlearn: 0.1679713\ttotal: 1m 13s\tremaining: 28.2s\n",
            "724:\tlearn: 0.1679566\ttotal: 1m 14s\tremaining: 28.1s\n",
            "725:\tlearn: 0.1679225\ttotal: 1m 14s\tremaining: 28s\n",
            "726:\tlearn: 0.1679023\ttotal: 1m 14s\tremaining: 27.9s\n",
            "727:\tlearn: 0.1678861\ttotal: 1m 14s\tremaining: 27.8s\n",
            "728:\tlearn: 0.1678649\ttotal: 1m 14s\tremaining: 27.7s\n",
            "729:\tlearn: 0.1678383\ttotal: 1m 14s\tremaining: 27.6s\n",
            "730:\tlearn: 0.1678274\ttotal: 1m 14s\tremaining: 27.5s\n",
            "731:\tlearn: 0.1678003\ttotal: 1m 14s\tremaining: 27.4s\n",
            "732:\tlearn: 0.1677805\ttotal: 1m 14s\tremaining: 27.3s\n",
            "733:\tlearn: 0.1677674\ttotal: 1m 14s\tremaining: 27.2s\n",
            "734:\tlearn: 0.1677582\ttotal: 1m 15s\tremaining: 27.1s\n",
            "735:\tlearn: 0.1677307\ttotal: 1m 15s\tremaining: 27s\n",
            "736:\tlearn: 0.1677204\ttotal: 1m 15s\tremaining: 26.9s\n",
            "737:\tlearn: 0.1677084\ttotal: 1m 15s\tremaining: 26.8s\n",
            "738:\tlearn: 0.1676908\ttotal: 1m 15s\tremaining: 26.7s\n",
            "739:\tlearn: 0.1676574\ttotal: 1m 15s\tremaining: 26.6s\n",
            "740:\tlearn: 0.1676322\ttotal: 1m 15s\tremaining: 26.4s\n",
            "741:\tlearn: 0.1676063\ttotal: 1m 15s\tremaining: 26.3s\n",
            "742:\tlearn: 0.1675792\ttotal: 1m 15s\tremaining: 26.2s\n",
            "743:\tlearn: 0.1675511\ttotal: 1m 15s\tremaining: 26.1s\n",
            "744:\tlearn: 0.1675276\ttotal: 1m 16s\tremaining: 26s\n",
            "745:\tlearn: 0.1674972\ttotal: 1m 16s\tremaining: 25.9s\n",
            "746:\tlearn: 0.1674697\ttotal: 1m 16s\tremaining: 25.8s\n",
            "747:\tlearn: 0.1674042\ttotal: 1m 16s\tremaining: 25.7s\n",
            "748:\tlearn: 0.1673825\ttotal: 1m 16s\tremaining: 25.6s\n",
            "749:\tlearn: 0.1673607\ttotal: 1m 16s\tremaining: 25.5s\n",
            "750:\tlearn: 0.1673456\ttotal: 1m 16s\tremaining: 25.4s\n",
            "751:\tlearn: 0.1673262\ttotal: 1m 16s\tremaining: 25.3s\n",
            "752:\tlearn: 0.1673109\ttotal: 1m 16s\tremaining: 25.2s\n",
            "753:\tlearn: 0.1672940\ttotal: 1m 17s\tremaining: 25.1s\n",
            "754:\tlearn: 0.1672769\ttotal: 1m 17s\tremaining: 25.1s\n",
            "755:\tlearn: 0.1672600\ttotal: 1m 17s\tremaining: 24.9s\n",
            "756:\tlearn: 0.1672457\ttotal: 1m 17s\tremaining: 24.8s\n",
            "757:\tlearn: 0.1672329\ttotal: 1m 17s\tremaining: 24.7s\n",
            "758:\tlearn: 0.1672205\ttotal: 1m 17s\tremaining: 24.6s\n",
            "759:\tlearn: 0.1672089\ttotal: 1m 17s\tremaining: 24.5s\n",
            "760:\tlearn: 0.1671873\ttotal: 1m 17s\tremaining: 24.4s\n",
            "761:\tlearn: 0.1671746\ttotal: 1m 17s\tremaining: 24.3s\n",
            "762:\tlearn: 0.1671641\ttotal: 1m 18s\tremaining: 24.2s\n",
            "763:\tlearn: 0.1671285\ttotal: 1m 18s\tremaining: 24.1s\n",
            "764:\tlearn: 0.1671106\ttotal: 1m 18s\tremaining: 24s\n",
            "765:\tlearn: 0.1671051\ttotal: 1m 18s\tremaining: 23.9s\n",
            "766:\tlearn: 0.1670828\ttotal: 1m 18s\tremaining: 23.8s\n",
            "767:\tlearn: 0.1670696\ttotal: 1m 18s\tremaining: 23.7s\n",
            "768:\tlearn: 0.1670519\ttotal: 1m 18s\tremaining: 23.6s\n",
            "769:\tlearn: 0.1670273\ttotal: 1m 18s\tremaining: 23.5s\n",
            "770:\tlearn: 0.1670124\ttotal: 1m 18s\tremaining: 23.4s\n",
            "771:\tlearn: 0.1669917\ttotal: 1m 18s\tremaining: 23.3s\n",
            "772:\tlearn: 0.1669522\ttotal: 1m 18s\tremaining: 23.2s\n",
            "773:\tlearn: 0.1669405\ttotal: 1m 19s\tremaining: 23.1s\n",
            "774:\tlearn: 0.1669211\ttotal: 1m 19s\tremaining: 23s\n",
            "775:\tlearn: 0.1669108\ttotal: 1m 19s\tremaining: 22.9s\n",
            "776:\tlearn: 0.1668909\ttotal: 1m 19s\tremaining: 22.8s\n",
            "777:\tlearn: 0.1668692\ttotal: 1m 19s\tremaining: 22.7s\n",
            "778:\tlearn: 0.1668463\ttotal: 1m 19s\tremaining: 22.6s\n",
            "779:\tlearn: 0.1668332\ttotal: 1m 19s\tremaining: 22.5s\n",
            "780:\tlearn: 0.1668111\ttotal: 1m 19s\tremaining: 22.4s\n",
            "781:\tlearn: 0.1668045\ttotal: 1m 19s\tremaining: 22.3s\n",
            "782:\tlearn: 0.1667876\ttotal: 1m 19s\tremaining: 22.2s\n",
            "783:\tlearn: 0.1667722\ttotal: 1m 20s\tremaining: 22.1s\n",
            "784:\tlearn: 0.1667563\ttotal: 1m 20s\tremaining: 22s\n",
            "785:\tlearn: 0.1667352\ttotal: 1m 20s\tremaining: 21.9s\n",
            "786:\tlearn: 0.1667173\ttotal: 1m 20s\tremaining: 21.9s\n",
            "787:\tlearn: 0.1667028\ttotal: 1m 21s\tremaining: 21.8s\n",
            "788:\tlearn: 0.1666798\ttotal: 1m 21s\tremaining: 21.7s\n",
            "789:\tlearn: 0.1666503\ttotal: 1m 21s\tremaining: 21.7s\n",
            "790:\tlearn: 0.1666348\ttotal: 1m 21s\tremaining: 21.6s\n",
            "791:\tlearn: 0.1666215\ttotal: 1m 21s\tremaining: 21.5s\n",
            "792:\tlearn: 0.1666047\ttotal: 1m 22s\tremaining: 21.4s\n",
            "793:\tlearn: 0.1665846\ttotal: 1m 22s\tremaining: 21.4s\n",
            "794:\tlearn: 0.1665666\ttotal: 1m 22s\tremaining: 21.3s\n",
            "795:\tlearn: 0.1665513\ttotal: 1m 22s\tremaining: 21.2s\n",
            "796:\tlearn: 0.1665368\ttotal: 1m 22s\tremaining: 21.1s\n",
            "797:\tlearn: 0.1665269\ttotal: 1m 22s\tremaining: 21s\n",
            "798:\tlearn: 0.1665025\ttotal: 1m 22s\tremaining: 20.9s\n",
            "799:\tlearn: 0.1664878\ttotal: 1m 23s\tremaining: 20.8s\n",
            "800:\tlearn: 0.1664771\ttotal: 1m 23s\tremaining: 20.6s\n",
            "801:\tlearn: 0.1664633\ttotal: 1m 23s\tremaining: 20.5s\n",
            "802:\tlearn: 0.1664345\ttotal: 1m 23s\tremaining: 20.5s\n",
            "803:\tlearn: 0.1664259\ttotal: 1m 23s\tremaining: 20.3s\n",
            "804:\tlearn: 0.1664092\ttotal: 1m 23s\tremaining: 20.2s\n",
            "805:\tlearn: 0.1663780\ttotal: 1m 23s\tremaining: 20.1s\n",
            "806:\tlearn: 0.1663656\ttotal: 1m 23s\tremaining: 20s\n",
            "807:\tlearn: 0.1663565\ttotal: 1m 23s\tremaining: 19.9s\n",
            "808:\tlearn: 0.1663427\ttotal: 1m 23s\tremaining: 19.8s\n",
            "809:\tlearn: 0.1663307\ttotal: 1m 24s\tremaining: 19.7s\n",
            "810:\tlearn: 0.1662993\ttotal: 1m 24s\tremaining: 19.6s\n",
            "811:\tlearn: 0.1662821\ttotal: 1m 24s\tremaining: 19.5s\n",
            "812:\tlearn: 0.1662711\ttotal: 1m 24s\tremaining: 19.4s\n",
            "813:\tlearn: 0.1662552\ttotal: 1m 24s\tremaining: 19.3s\n",
            "814:\tlearn: 0.1662313\ttotal: 1m 24s\tremaining: 19.2s\n",
            "815:\tlearn: 0.1662205\ttotal: 1m 24s\tremaining: 19.1s\n",
            "816:\tlearn: 0.1661694\ttotal: 1m 24s\tremaining: 19s\n",
            "817:\tlearn: 0.1661605\ttotal: 1m 24s\tremaining: 18.9s\n",
            "818:\tlearn: 0.1661508\ttotal: 1m 24s\tremaining: 18.8s\n",
            "819:\tlearn: 0.1661198\ttotal: 1m 25s\tremaining: 18.7s\n",
            "820:\tlearn: 0.1661060\ttotal: 1m 25s\tremaining: 18.6s\n",
            "821:\tlearn: 0.1660903\ttotal: 1m 25s\tremaining: 18.5s\n",
            "822:\tlearn: 0.1660683\ttotal: 1m 25s\tremaining: 18.4s\n",
            "823:\tlearn: 0.1660516\ttotal: 1m 25s\tremaining: 18.3s\n",
            "824:\tlearn: 0.1660381\ttotal: 1m 25s\tremaining: 18.1s\n",
            "825:\tlearn: 0.1660122\ttotal: 1m 25s\tremaining: 18s\n",
            "826:\tlearn: 0.1659987\ttotal: 1m 25s\tremaining: 17.9s\n",
            "827:\tlearn: 0.1659777\ttotal: 1m 25s\tremaining: 17.8s\n",
            "828:\tlearn: 0.1659500\ttotal: 1m 25s\tremaining: 17.7s\n",
            "829:\tlearn: 0.1659354\ttotal: 1m 26s\tremaining: 17.6s\n",
            "830:\tlearn: 0.1659248\ttotal: 1m 26s\tremaining: 17.5s\n",
            "831:\tlearn: 0.1658754\ttotal: 1m 26s\tremaining: 17.4s\n",
            "832:\tlearn: 0.1658564\ttotal: 1m 26s\tremaining: 17.3s\n",
            "833:\tlearn: 0.1658428\ttotal: 1m 26s\tremaining: 17.2s\n",
            "834:\tlearn: 0.1658143\ttotal: 1m 26s\tremaining: 17.1s\n",
            "835:\tlearn: 0.1658059\ttotal: 1m 26s\tremaining: 17s\n",
            "836:\tlearn: 0.1657914\ttotal: 1m 26s\tremaining: 16.9s\n",
            "837:\tlearn: 0.1657744\ttotal: 1m 26s\tremaining: 16.8s\n",
            "838:\tlearn: 0.1657521\ttotal: 1m 26s\tremaining: 16.7s\n",
            "839:\tlearn: 0.1657246\ttotal: 1m 27s\tremaining: 16.6s\n",
            "840:\tlearn: 0.1657086\ttotal: 1m 27s\tremaining: 16.5s\n",
            "841:\tlearn: 0.1656863\ttotal: 1m 27s\tremaining: 16.4s\n",
            "842:\tlearn: 0.1656501\ttotal: 1m 27s\tremaining: 16.3s\n",
            "843:\tlearn: 0.1656393\ttotal: 1m 27s\tremaining: 16.2s\n",
            "844:\tlearn: 0.1656195\ttotal: 1m 27s\tremaining: 16.1s\n",
            "845:\tlearn: 0.1656059\ttotal: 1m 27s\tremaining: 16s\n",
            "846:\tlearn: 0.1655621\ttotal: 1m 27s\tremaining: 15.9s\n",
            "847:\tlearn: 0.1655450\ttotal: 1m 27s\tremaining: 15.7s\n",
            "848:\tlearn: 0.1655089\ttotal: 1m 27s\tremaining: 15.6s\n",
            "849:\tlearn: 0.1654940\ttotal: 1m 28s\tremaining: 15.5s\n",
            "850:\tlearn: 0.1654762\ttotal: 1m 28s\tremaining: 15.4s\n",
            "851:\tlearn: 0.1654610\ttotal: 1m 28s\tremaining: 15.3s\n",
            "852:\tlearn: 0.1654494\ttotal: 1m 28s\tremaining: 15.2s\n",
            "853:\tlearn: 0.1654398\ttotal: 1m 28s\tremaining: 15.1s\n",
            "854:\tlearn: 0.1654286\ttotal: 1m 28s\tremaining: 15s\n",
            "855:\tlearn: 0.1654164\ttotal: 1m 28s\tremaining: 14.9s\n",
            "856:\tlearn: 0.1654078\ttotal: 1m 28s\tremaining: 14.8s\n",
            "857:\tlearn: 0.1653705\ttotal: 1m 28s\tremaining: 14.7s\n",
            "858:\tlearn: 0.1653412\ttotal: 1m 29s\tremaining: 14.6s\n",
            "859:\tlearn: 0.1653111\ttotal: 1m 29s\tremaining: 14.5s\n",
            "860:\tlearn: 0.1652954\ttotal: 1m 29s\tremaining: 14.4s\n",
            "861:\tlearn: 0.1652820\ttotal: 1m 29s\tremaining: 14.3s\n",
            "862:\tlearn: 0.1652460\ttotal: 1m 29s\tremaining: 14.2s\n",
            "863:\tlearn: 0.1652296\ttotal: 1m 29s\tremaining: 14.1s\n",
            "864:\tlearn: 0.1652121\ttotal: 1m 29s\tremaining: 14s\n",
            "865:\tlearn: 0.1652023\ttotal: 1m 29s\tremaining: 13.9s\n",
            "866:\tlearn: 0.1651827\ttotal: 1m 29s\tremaining: 13.8s\n",
            "867:\tlearn: 0.1651691\ttotal: 1m 29s\tremaining: 13.7s\n",
            "868:\tlearn: 0.1651540\ttotal: 1m 30s\tremaining: 13.6s\n",
            "869:\tlearn: 0.1651376\ttotal: 1m 30s\tremaining: 13.5s\n",
            "870:\tlearn: 0.1651264\ttotal: 1m 30s\tremaining: 13.4s\n",
            "871:\tlearn: 0.1651137\ttotal: 1m 30s\tremaining: 13.3s\n",
            "872:\tlearn: 0.1651051\ttotal: 1m 30s\tremaining: 13.2s\n",
            "873:\tlearn: 0.1650900\ttotal: 1m 30s\tremaining: 13.1s\n",
            "874:\tlearn: 0.1650797\ttotal: 1m 30s\tremaining: 13s\n",
            "875:\tlearn: 0.1650729\ttotal: 1m 30s\tremaining: 12.9s\n",
            "876:\tlearn: 0.1650425\ttotal: 1m 30s\tremaining: 12.7s\n",
            "877:\tlearn: 0.1650220\ttotal: 1m 31s\tremaining: 12.6s\n",
            "878:\tlearn: 0.1649992\ttotal: 1m 31s\tremaining: 12.5s\n",
            "879:\tlearn: 0.1649808\ttotal: 1m 31s\tremaining: 12.4s\n",
            "880:\tlearn: 0.1649721\ttotal: 1m 31s\tremaining: 12.3s\n",
            "881:\tlearn: 0.1649575\ttotal: 1m 31s\tremaining: 12.2s\n",
            "882:\tlearn: 0.1649410\ttotal: 1m 31s\tremaining: 12.1s\n",
            "883:\tlearn: 0.1649294\ttotal: 1m 31s\tremaining: 12s\n",
            "884:\tlearn: 0.1649171\ttotal: 1m 31s\tremaining: 11.9s\n",
            "885:\tlearn: 0.1649016\ttotal: 1m 31s\tremaining: 11.8s\n",
            "886:\tlearn: 0.1648845\ttotal: 1m 31s\tremaining: 11.7s\n",
            "887:\tlearn: 0.1648709\ttotal: 1m 32s\tremaining: 11.6s\n",
            "888:\tlearn: 0.1648584\ttotal: 1m 32s\tremaining: 11.5s\n",
            "889:\tlearn: 0.1648416\ttotal: 1m 32s\tremaining: 11.4s\n",
            "890:\tlearn: 0.1648235\ttotal: 1m 32s\tremaining: 11.3s\n",
            "891:\tlearn: 0.1648071\ttotal: 1m 32s\tremaining: 11.2s\n",
            "892:\tlearn: 0.1647914\ttotal: 1m 32s\tremaining: 11.1s\n",
            "893:\tlearn: 0.1647778\ttotal: 1m 32s\tremaining: 11s\n",
            "894:\tlearn: 0.1647670\ttotal: 1m 32s\tremaining: 10.9s\n",
            "895:\tlearn: 0.1647525\ttotal: 1m 32s\tremaining: 10.8s\n",
            "896:\tlearn: 0.1647364\ttotal: 1m 32s\tremaining: 10.7s\n",
            "897:\tlearn: 0.1647273\ttotal: 1m 32s\tremaining: 10.6s\n",
            "898:\tlearn: 0.1647221\ttotal: 1m 33s\tremaining: 10.5s\n",
            "899:\tlearn: 0.1647096\ttotal: 1m 33s\tremaining: 10.4s\n",
            "900:\tlearn: 0.1646911\ttotal: 1m 33s\tremaining: 10.3s\n",
            "901:\tlearn: 0.1646773\ttotal: 1m 33s\tremaining: 10.1s\n",
            "902:\tlearn: 0.1646711\ttotal: 1m 33s\tremaining: 10s\n",
            "903:\tlearn: 0.1646594\ttotal: 1m 33s\tremaining: 9.94s\n",
            "904:\tlearn: 0.1646431\ttotal: 1m 33s\tremaining: 9.84s\n",
            "905:\tlearn: 0.1646217\ttotal: 1m 33s\tremaining: 9.73s\n",
            "906:\tlearn: 0.1646126\ttotal: 1m 33s\tremaining: 9.63s\n",
            "907:\tlearn: 0.1645954\ttotal: 1m 34s\tremaining: 9.52s\n",
            "908:\tlearn: 0.1645782\ttotal: 1m 34s\tremaining: 9.42s\n",
            "909:\tlearn: 0.1645610\ttotal: 1m 34s\tremaining: 9.32s\n",
            "910:\tlearn: 0.1645526\ttotal: 1m 34s\tremaining: 9.21s\n",
            "911:\tlearn: 0.1645340\ttotal: 1m 34s\tremaining: 9.11s\n",
            "912:\tlearn: 0.1645177\ttotal: 1m 34s\tremaining: 9.01s\n",
            "913:\tlearn: 0.1645083\ttotal: 1m 34s\tremaining: 8.9s\n",
            "914:\tlearn: 0.1644891\ttotal: 1m 34s\tremaining: 8.8s\n",
            "915:\tlearn: 0.1644704\ttotal: 1m 34s\tremaining: 8.7s\n",
            "916:\tlearn: 0.1644520\ttotal: 1m 34s\tremaining: 8.59s\n",
            "917:\tlearn: 0.1644236\ttotal: 1m 35s\tremaining: 8.49s\n",
            "918:\tlearn: 0.1644095\ttotal: 1m 35s\tremaining: 8.39s\n",
            "919:\tlearn: 0.1643996\ttotal: 1m 35s\tremaining: 8.28s\n",
            "920:\tlearn: 0.1643924\ttotal: 1m 35s\tremaining: 8.18s\n",
            "921:\tlearn: 0.1643797\ttotal: 1m 35s\tremaining: 8.08s\n",
            "922:\tlearn: 0.1643614\ttotal: 1m 35s\tremaining: 7.97s\n",
            "923:\tlearn: 0.1643449\ttotal: 1m 35s\tremaining: 7.87s\n",
            "924:\tlearn: 0.1643325\ttotal: 1m 35s\tremaining: 7.77s\n",
            "925:\tlearn: 0.1643174\ttotal: 1m 35s\tremaining: 7.66s\n",
            "926:\tlearn: 0.1643005\ttotal: 1m 35s\tremaining: 7.56s\n",
            "927:\tlearn: 0.1642720\ttotal: 1m 36s\tremaining: 7.45s\n",
            "928:\tlearn: 0.1642516\ttotal: 1m 36s\tremaining: 7.35s\n",
            "929:\tlearn: 0.1642360\ttotal: 1m 36s\tremaining: 7.25s\n",
            "930:\tlearn: 0.1642114\ttotal: 1m 36s\tremaining: 7.14s\n",
            "931:\tlearn: 0.1641977\ttotal: 1m 36s\tremaining: 7.04s\n",
            "932:\tlearn: 0.1641838\ttotal: 1m 36s\tremaining: 6.94s\n",
            "933:\tlearn: 0.1641709\ttotal: 1m 36s\tremaining: 6.83s\n",
            "934:\tlearn: 0.1641527\ttotal: 1m 36s\tremaining: 6.73s\n",
            "935:\tlearn: 0.1641433\ttotal: 1m 36s\tremaining: 6.63s\n",
            "936:\tlearn: 0.1641268\ttotal: 1m 37s\tremaining: 6.52s\n",
            "937:\tlearn: 0.1641149\ttotal: 1m 37s\tremaining: 6.42s\n",
            "938:\tlearn: 0.1640931\ttotal: 1m 37s\tremaining: 6.32s\n",
            "939:\tlearn: 0.1640743\ttotal: 1m 37s\tremaining: 6.21s\n",
            "940:\tlearn: 0.1640391\ttotal: 1m 37s\tremaining: 6.11s\n",
            "941:\tlearn: 0.1640184\ttotal: 1m 37s\tremaining: 6s\n",
            "942:\tlearn: 0.1640041\ttotal: 1m 37s\tremaining: 5.9s\n",
            "943:\tlearn: 0.1639807\ttotal: 1m 37s\tremaining: 5.8s\n",
            "944:\tlearn: 0.1639448\ttotal: 1m 37s\tremaining: 5.7s\n",
            "945:\tlearn: 0.1639314\ttotal: 1m 37s\tremaining: 5.59s\n",
            "946:\tlearn: 0.1639164\ttotal: 1m 38s\tremaining: 5.49s\n",
            "947:\tlearn: 0.1639012\ttotal: 1m 38s\tremaining: 5.39s\n",
            "948:\tlearn: 0.1638873\ttotal: 1m 38s\tremaining: 5.28s\n",
            "949:\tlearn: 0.1638765\ttotal: 1m 38s\tremaining: 5.18s\n",
            "950:\tlearn: 0.1638641\ttotal: 1m 38s\tremaining: 5.08s\n",
            "951:\tlearn: 0.1638534\ttotal: 1m 38s\tremaining: 4.97s\n",
            "952:\tlearn: 0.1638436\ttotal: 1m 38s\tremaining: 4.87s\n",
            "953:\tlearn: 0.1638288\ttotal: 1m 38s\tremaining: 4.76s\n",
            "954:\tlearn: 0.1638105\ttotal: 1m 38s\tremaining: 4.66s\n",
            "955:\tlearn: 0.1637968\ttotal: 1m 39s\tremaining: 4.56s\n",
            "956:\tlearn: 0.1637863\ttotal: 1m 39s\tremaining: 4.45s\n",
            "957:\tlearn: 0.1637571\ttotal: 1m 39s\tremaining: 4.35s\n",
            "958:\tlearn: 0.1637418\ttotal: 1m 39s\tremaining: 4.25s\n",
            "959:\tlearn: 0.1637279\ttotal: 1m 39s\tremaining: 4.14s\n",
            "960:\tlearn: 0.1637060\ttotal: 1m 39s\tremaining: 4.04s\n",
            "961:\tlearn: 0.1636943\ttotal: 1m 39s\tremaining: 3.94s\n",
            "962:\tlearn: 0.1636647\ttotal: 1m 39s\tremaining: 3.83s\n",
            "963:\tlearn: 0.1636440\ttotal: 1m 39s\tremaining: 3.73s\n",
            "964:\tlearn: 0.1636283\ttotal: 1m 39s\tremaining: 3.63s\n",
            "965:\tlearn: 0.1636147\ttotal: 1m 40s\tremaining: 3.52s\n",
            "966:\tlearn: 0.1636053\ttotal: 1m 40s\tremaining: 3.42s\n",
            "967:\tlearn: 0.1635820\ttotal: 1m 40s\tremaining: 3.31s\n",
            "968:\tlearn: 0.1635640\ttotal: 1m 40s\tremaining: 3.21s\n",
            "969:\tlearn: 0.1635227\ttotal: 1m 40s\tremaining: 3.11s\n",
            "970:\tlearn: 0.1635057\ttotal: 1m 40s\tremaining: 3s\n",
            "971:\tlearn: 0.1634961\ttotal: 1m 40s\tremaining: 2.9s\n",
            "972:\tlearn: 0.1634790\ttotal: 1m 40s\tremaining: 2.8s\n",
            "973:\tlearn: 0.1634628\ttotal: 1m 40s\tremaining: 2.69s\n",
            "974:\tlearn: 0.1634453\ttotal: 1m 41s\tremaining: 2.59s\n",
            "975:\tlearn: 0.1634068\ttotal: 1m 41s\tremaining: 2.49s\n",
            "976:\tlearn: 0.1633858\ttotal: 1m 41s\tremaining: 2.38s\n",
            "977:\tlearn: 0.1633607\ttotal: 1m 41s\tremaining: 2.28s\n",
            "978:\tlearn: 0.1633444\ttotal: 1m 41s\tremaining: 2.18s\n",
            "979:\tlearn: 0.1633272\ttotal: 1m 41s\tremaining: 2.07s\n",
            "980:\tlearn: 0.1633150\ttotal: 1m 41s\tremaining: 1.97s\n",
            "981:\tlearn: 0.1633044\ttotal: 1m 41s\tremaining: 1.86s\n",
            "982:\tlearn: 0.1632781\ttotal: 1m 41s\tremaining: 1.76s\n",
            "983:\tlearn: 0.1632642\ttotal: 1m 41s\tremaining: 1.66s\n",
            "984:\tlearn: 0.1632459\ttotal: 1m 42s\tremaining: 1.55s\n",
            "985:\tlearn: 0.1632286\ttotal: 1m 42s\tremaining: 1.45s\n",
            "986:\tlearn: 0.1632088\ttotal: 1m 42s\tremaining: 1.35s\n",
            "987:\tlearn: 0.1631961\ttotal: 1m 42s\tremaining: 1.24s\n",
            "988:\tlearn: 0.1631847\ttotal: 1m 42s\tremaining: 1.14s\n",
            "989:\tlearn: 0.1631728\ttotal: 1m 42s\tremaining: 1.03s\n",
            "990:\tlearn: 0.1631544\ttotal: 1m 42s\tremaining: 932ms\n",
            "991:\tlearn: 0.1631454\ttotal: 1m 42s\tremaining: 829ms\n",
            "992:\tlearn: 0.1631345\ttotal: 1m 42s\tremaining: 725ms\n",
            "993:\tlearn: 0.1631169\ttotal: 1m 42s\tremaining: 621ms\n",
            "994:\tlearn: 0.1631059\ttotal: 1m 43s\tremaining: 518ms\n",
            "995:\tlearn: 0.1630970\ttotal: 1m 43s\tremaining: 414ms\n",
            "996:\tlearn: 0.1630886\ttotal: 1m 43s\tremaining: 311ms\n",
            "997:\tlearn: 0.1630712\ttotal: 1m 43s\tremaining: 207ms\n",
            "998:\tlearn: 0.1630585\ttotal: 1m 43s\tremaining: 104ms\n",
            "999:\tlearn: 0.1630398\ttotal: 1m 43s\tremaining: 0us\n",
            "Training Accuracy : 0.9088047608480034\n",
            "Test Accuracy : 0.8995122348881129\n"
          ]
        }
      ],
      "source": [
        "y_pred, report = try_model(trans,\n",
        "                           SMOTE(random_state = 42),\n",
        "                           CatBoostClassifier(),\n",
        "                           X_train,\n",
        "                           y_train,\n",
        "                           X_test,\n",
        "                           y_test)"
      ]
    },
    {
      "cell_type": "markdown",
      "metadata": {
        "id": "qHNjJwob06Cv"
      },
      "source": [
        "### 3.8.2 Evaluation"
      ]
    },
    {
      "cell_type": "markdown",
      "metadata": {
        "id": "BvOiJUm_06Cv"
      },
      "source": [
        "#### 3.8.2.1 Classification Report"
      ]
    },
    {
      "cell_type": "code",
      "execution_count": null,
      "metadata": {
        "id": "wWGQmb0t0Gdo",
        "colab": {
          "base_uri": "https://localhost:8080/"
        },
        "outputId": "dbd8dbee-51f1-4270-f32e-2b0e326807f4"
      },
      "outputs": [
        {
          "output_type": "stream",
          "name": "stdout",
          "text": [
            "              precision    recall  f1-score   support\n",
            "\n",
            "          No       0.94      0.96      0.95     68052\n",
            "         Yes       0.28      0.21      0.24      5549\n",
            "\n",
            "    accuracy                           0.90     73601\n",
            "   macro avg       0.61      0.58      0.59     73601\n",
            "weighted avg       0.89      0.90      0.89     73601\n",
            "\n"
          ]
        }
      ],
      "source": [
        "print(report)"
      ]
    },
    {
      "cell_type": "code",
      "source": [
        "model_metrics['Model'].append(\"CatBoost\")\n",
        "model_metrics['Sampling Method'].append(\"SMOTE\")\n",
        "model_metrics['Heart Disease Precision'].append(0.28)\n",
        "model_metrics['No Heart Disease Precision'].append(0.94)\n",
        "model_metrics['Heart Disease Recall'].append(0.21)\n",
        "model_metrics['No Heart Disease Recall'].append(0.96)\n",
        "model_metrics['Heart Disease F1'].append(0.24)\n",
        "model_metrics['No Heart Disease F1'].append(0.95)\n",
        "model_metrics['Accuracy'].append(0.90)"
      ],
      "metadata": {
        "id": "CmzdP4KsR24-"
      },
      "execution_count": null,
      "outputs": []
    },
    {
      "cell_type": "markdown",
      "metadata": {
        "id": "niOK_Ha-06Cv"
      },
      "source": [
        "#### 3.8.2.2 Confusion Matrix"
      ]
    },
    {
      "cell_type": "code",
      "execution_count": null,
      "metadata": {
        "id": "MZ-e8SmP0J5N",
        "colab": {
          "base_uri": "https://localhost:8080/",
          "height": 337
        },
        "outputId": "3e61645d-66bd-4028-ad97-ce2ab0329bfc"
      },
      "outputs": [
        {
          "output_type": "display_data",
          "data": {
            "text/plain": [
              "<Figure size 432x288 with 2 Axes>"
            ],
            "image/png": "[encoded data removed]"
          },
          "metadata": {}
        }
      ],
      "source": [
        "cm = confusion_matrix(y_test, y_pred)\n",
        "make_confusion_matrix(cm)"
      ]
    },
    {
      "cell_type": "markdown",
      "metadata": {
        "id": "k5WVhRul1dC1"
      },
      "source": [
        "## 3.9 Voting"
      ]
    },
    {
      "cell_type": "markdown",
      "metadata": {
        "id": "2dmEXxQ51dC1"
      },
      "source": [
        "### 3.5.1 Model"
      ]
    },
    {
      "cell_type": "code",
      "execution_count": null,
      "metadata": {
        "id": "k_ZyM-Xo1tx3",
        "colab": {
          "base_uri": "https://localhost:8080/"
        },
        "outputId": "af053f25-79e1-4185-d2ea-1353b5805c6e"
      },
      "outputs": [
        {
          "output_type": "stream",
          "name": "stdout",
          "text": [
            "Training Accuracy : 0.7210836907441542\n",
            "Test Accuracy : 0.7200173910680562\n"
          ]
        }
      ],
      "source": [
        "voting = VotingClassifier(estimators=[('lr', LogisticRegression(C=1000)),\n",
        "                                      ('dt', DecisionTreeClassifier(max_features=17,max_depth=10)),\n",
        "                                      ('knn', KNeighborsClassifier(n_neighbors=19)),\n",
        "                                      ('svm', SVC(C=0.05, gamma=0.477)), \n",
        "                                      ('xgb', XGBClassifier(learning_rate= 0.5, max_depth=1, random_state=42))],\n",
        "                                      voting='hard')\n",
        "\n",
        "y_pred, report = try_model(trans,\n",
        "                           RandomUnderSampler(random_state = 42),\n",
        "                           voting,\n",
        "                           X_train,\n",
        "                           y_train,\n",
        "                           X_test,\n",
        "                           y_test)"
      ]
    },
    {
      "cell_type": "markdown",
      "metadata": {
        "id": "4NXU81v51dC2"
      },
      "source": [
        "### 3.5.2 Evaluation"
      ]
    },
    {
      "cell_type": "markdown",
      "metadata": {
        "id": "qTlxt7Uz1dC2"
      },
      "source": [
        "#### 3.5.2.1 Classification Report"
      ]
    },
    {
      "cell_type": "code",
      "execution_count": null,
      "metadata": {
        "id": "frVF7XV12Pca",
        "colab": {
          "base_uri": "https://localhost:8080/"
        },
        "outputId": "43a6e05a-88ee-4983-e190-90ae706dc80a"
      },
      "outputs": [
        {
          "output_type": "stream",
          "name": "stdout",
          "text": [
            "              precision    recall  f1-score   support\n",
            "\n",
            "          No       0.98      0.71      0.82     68052\n",
            "         Yes       0.19      0.81      0.30      5549\n",
            "\n",
            "    accuracy                           0.72     73601\n",
            "   macro avg       0.58      0.76      0.56     73601\n",
            "weighted avg       0.92      0.72      0.79     73601\n",
            "\n"
          ]
        }
      ],
      "source": [
        "print(report)"
      ]
    },
    {
      "cell_type": "code",
      "source": [
        "model_metrics['Model'].append(\"Voting Classifier\")\n",
        "model_metrics['Sampling Method'].append(\"Random Undersampling\")\n",
        "model_metrics['Heart Disease Precision'].append(0.19)\n",
        "model_metrics['No Heart Disease Precision'].append(0.98)\n",
        "model_metrics['Heart Disease Recall'].append(0.81)\n",
        "model_metrics['No Heart Disease Recall'].append(0.71)\n",
        "model_metrics['Heart Disease F1'].append(0.30)\n",
        "model_metrics['No Heart Disease F1'].append(0.82)\n",
        "model_metrics['Accuracy'].append(0.72)"
      ],
      "metadata": {
        "id": "ppGlTBKDSCE3"
      },
      "execution_count": null,
      "outputs": []
    },
    {
      "cell_type": "markdown",
      "metadata": {
        "id": "2weVgEsi1dC2"
      },
      "source": [
        "#### 3.5.2.2 Confusion Matrix"
      ]
    },
    {
      "cell_type": "code",
      "execution_count": null,
      "metadata": {
        "id": "z_AzUih-2Sef",
        "colab": {
          "base_uri": "https://localhost:8080/",
          "height": 337
        },
        "outputId": "0cd08f5d-8b1a-49f5-8265-a213acf9693b"
      },
      "outputs": [
        {
          "output_type": "display_data",
          "data": {
            "text/plain": [
              "<Figure size 432x288 with 2 Axes>"
            ],
            "image/png": "[encoded data removed]"
          },
          "metadata": {}
        }
      ],
      "source": [
        "cm = confusion_matrix(y_test, y_pred)\n",
        "make_confusion_matrix(cm)"
      ]
    },
    {
      "cell_type": "markdown",
      "metadata": {
        "id": "qGQuNGG9kvmP"
      },
      "source": [
        "## 3.10 Model Comparison"
      ]
    },
    {
      "cell_type": "markdown",
      "source": [
        "In our application, reducing false negatives is paramount. It could be the difference between life and death. On the other hand, false positives are not as important, as further tests to the patient would reveal the misdiagnosis. Therefore, we are looking for high recall for the heart diesease class. Below is a comparison of the models side by side using varoius metrics. "
      ],
      "metadata": {
        "id": "GKjkTHaITYES"
      }
    },
    {
      "cell_type": "code",
      "source": [
        "comparison = pd.DataFrame(model_metrics)\n",
        "comparison = comparison.set_index('Model')\n",
        "comparison"
      ],
      "metadata": {
        "colab": {
          "base_uri": "https://localhost:8080/",
          "height": 563
        },
        "id": "Z-K9EVI3SXWv",
        "outputId": "3794bb9d-1618-48fd-ac00-5652d6a61263"
      },
      "execution_count": null,
      "outputs": [
        {
          "output_type": "execute_result",
          "data": {
            "text/plain": [
              "                          Sampling Method  Heart Disease Precision  \\\n",
              "Model                                                                \n",
              "Logistic Regression                 SMOTE                     0.19   \n",
              "Decision Tree                       SMOTE                     0.22   \n",
              "Random Forest                       SMOTE                     0.22   \n",
              "KNN                  Random Undersampling                     0.19   \n",
              "SVM                  Random Undersampling                     0.14   \n",
              "AdaBoost             Random Undersampling                     0.17   \n",
              "XGBoost              Random Undersampling                     0.19   \n",
              "CatBoost                            SMOTE                     0.28   \n",
              "Voting Classifier    Random Undersampling                     0.19   \n",
              "\n",
              "                     No Heart Disease Precision  Heart Disease Recall  \\\n",
              "Model                                                                   \n",
              "Logistic Regression                        0.98                  0.78   \n",
              "Decision Tree                              0.96                  0.63   \n",
              "Random Forest                              0.96                  0.63   \n",
              "KNN                                        0.97                  0.76   \n",
              "SVM                                        0.98                  0.87   \n",
              "AdaBoost                                   0.97                  0.73   \n",
              "XGBoost                                    0.98                  0.80   \n",
              "CatBoost                                   0.94                  0.21   \n",
              "Voting Classifier                          0.98                  0.81   \n",
              "\n",
              "                     No Heart Disease Recall  Heart Disease F1  \\\n",
              "Model                                                            \n",
              "Logistic Regression                     0.72              0.30   \n",
              "Decision Tree                           0.82              0.32   \n",
              "Random Forest                           0.82              0.33   \n",
              "KNN                                     0.73              0.30   \n",
              "SVM                                     0.56              0.24   \n",
              "AdaBoost                                0.70              0.81   \n",
              "XGBoost                                 0.73              0.31   \n",
              "CatBoost                                0.96              0.24   \n",
              "Voting Classifier                       0.71              0.30   \n",
              "\n",
              "                     No Heart Disease F1  Accuracy  \n",
              "Model                                               \n",
              "Logistic Regression                 0.83      0.73  \n",
              "Decision Tree                       0.88      0.80  \n",
              "Random Forest                       0.89      0.81  \n",
              "KNN                                 0.83      0.73  \n",
              "SVM                                 0.72      0.59  \n",
              "AdaBoost                            0.27      0.70  \n",
              "XGBoost                             0.84      0.73  \n",
              "CatBoost                            0.95      0.90  \n",
              "Voting Classifier                   0.82      0.72  "
            ],
            "text/html": [
              "\n",
              "  <div id=\"df-3014138e-d142-48a9-837d-c53056fe9d56\">\n",
              "    <div class=\"colab-df-container\">\n",
              "      <div>\n",
              "<style scoped>\n",
              "    .dataframe tbody tr th:only-of-type {\n",
              "        vertical-align: middle;\n",
              "    }\n",
              "\n",
              "    .dataframe tbody tr th {\n",
              "        vertical-align: top;\n",
              "    }\n",
              "\n",
              "    .dataframe thead th {\n",
              "        text-align: right;\n",
              "    }\n",
              "</style>\n",
              "<table border=\"1\" class=\"dataframe\">\n",
              "  <thead>\n",
              "    <tr style=\"text-align: right;\">\n",
              "      <th></th>\n",
              "      <th>Sampling Method</th>\n",
              "      <th>Heart Disease Precision</th>\n",
              "      <th>No Heart Disease Precision</th>\n",
              "      <th>Heart Disease Recall</th>\n",
              "      <th>No Heart Disease Recall</th>\n",
              "      <th>Heart Disease F1</th>\n",
              "      <th>No Heart Disease F1</th>\n",
              "      <th>Accuracy</th>\n",
              "    </tr>\n",
              "    <tr>\n",
              "      <th>Model</th>\n",
              "      <th></th>\n",
              "      <th></th>\n",
              "      <th></th>\n",
              "      <th></th>\n",
              "      <th></th>\n",
              "      <th></th>\n",
              "      <th></th>\n",
              "      <th></th>\n",
              "    </tr>\n",
              "  </thead>\n",
              "  <tbody>\n",
              "    <tr>\n",
              "      <th>Logistic Regression</th>\n",
              "      <td>SMOTE</td>\n",
              "      <td>0.19</td>\n",
              "      <td>0.98</td>\n",
              "      <td>0.78</td>\n",
              "      <td>0.72</td>\n",
              "      <td>0.30</td>\n",
              "      <td>0.83</td>\n",
              "      <td>0.73</td>\n",
              "    </tr>\n",
              "    <tr>\n",
              "      <th>Decision Tree</th>\n",
              "      <td>SMOTE</td>\n",
              "      <td>0.22</td>\n",
              "      <td>0.96</td>\n",
              "      <td>0.63</td>\n",
              "      <td>0.82</td>\n",
              "      <td>0.32</td>\n",
              "      <td>0.88</td>\n",
              "      <td>0.80</td>\n",
              "    </tr>\n",
              "    <tr>\n",
              "      <th>Random Forest</th>\n",
              "      <td>SMOTE</td>\n",
              "      <td>0.22</td>\n",
              "      <td>0.96</td>\n",
              "      <td>0.63</td>\n",
              "      <td>0.82</td>\n",
              "      <td>0.33</td>\n",
              "      <td>0.89</td>\n",
              "      <td>0.81</td>\n",
              "    </tr>\n",
              "    <tr>\n",
              "      <th>KNN</th>\n",
              "      <td>Random Undersampling</td>\n",
              "      <td>0.19</td>\n",
              "      <td>0.97</td>\n",
              "      <td>0.76</td>\n",
              "      <td>0.73</td>\n",
              "      <td>0.30</td>\n",
              "      <td>0.83</td>\n",
              "      <td>0.73</td>\n",
              "    </tr>\n",
              "    <tr>\n",
              "      <th>SVM</th>\n",
              "      <td>Random Undersampling</td>\n",
              "      <td>0.14</td>\n",
              "      <td>0.98</td>\n",
              "      <td>0.87</td>\n",
              "      <td>0.56</td>\n",
              "      <td>0.24</td>\n",
              "      <td>0.72</td>\n",
              "      <td>0.59</td>\n",
              "    </tr>\n",
              "    <tr>\n",
              "      <th>AdaBoost</th>\n",
              "      <td>Random Undersampling</td>\n",
              "      <td>0.17</td>\n",
              "      <td>0.97</td>\n",
              "      <td>0.73</td>\n",
              "      <td>0.70</td>\n",
              "      <td>0.81</td>\n",
              "      <td>0.27</td>\n",
              "      <td>0.70</td>\n",
              "    </tr>\n",
              "    <tr>\n",
              "      <th>XGBoost</th>\n",
              "      <td>Random Undersampling</td>\n",
              "      <td>0.19</td>\n",
              "      <td>0.98</td>\n",
              "      <td>0.80</td>\n",
              "      <td>0.73</td>\n",
              "      <td>0.31</td>\n",
              "      <td>0.84</td>\n",
              "      <td>0.73</td>\n",
              "    </tr>\n",
              "    <tr>\n",
              "      <th>CatBoost</th>\n",
              "      <td>SMOTE</td>\n",
              "      <td>0.28</td>\n",
              "      <td>0.94</td>\n",
              "      <td>0.21</td>\n",
              "      <td>0.96</td>\n",
              "      <td>0.24</td>\n",
              "      <td>0.95</td>\n",
              "      <td>0.90</td>\n",
              "    </tr>\n",
              "    <tr>\n",
              "      <th>Voting Classifier</th>\n",
              "      <td>Random Undersampling</td>\n",
              "      <td>0.19</td>\n",
              "      <td>0.98</td>\n",
              "      <td>0.81</td>\n",
              "      <td>0.71</td>\n",
              "      <td>0.30</td>\n",
              "      <td>0.82</td>\n",
              "      <td>0.72</td>\n",
              "    </tr>\n",
              "  </tbody>\n",
              "</table>\n",
              "</div>\n",
              "      <button class=\"colab-df-convert\" onclick=\"convertToInteractive('df-3014138e-d142-48a9-837d-c53056fe9d56')\"\n",
              "              title=\"Convert this dataframe to an interactive table.\"\n",
              "              style=\"display:none;\">\n",
              "        \n",
              "  <svg xmlns=\"http://www.w3.org/2000/svg\" height=\"24px\"viewBox=\"0 0 24 24\"\n",
              "       width=\"24px\">\n",
              "    <path d=\"M0 0h24v24H0V0z\" fill=\"none\"/>\n",
              "    <path d=\"M18.56 5.44l.94 2.06.94-2.06 2.06-.94-2.06-.94-.94-2.06-.94 2.06-2.06.94zm-11 1L8.5 8.5l.94-2.06 2.06-.94-2.06-.94L8.5 2.5l-.94 2.06-2.06.94zm10 10l.94 2.06.94-2.06 2.06-.94-2.06-.94-.94-2.06-.94 2.06-2.06.94z\"/><path d=\"M17.41 7.96l-1.37-1.37c-.4-.4-.92-.59-1.43-.59-.52 0-1.04.2-1.43.59L10.3 9.45l-7.72 7.72c-.78.78-.78 2.05 0 2.83L4 21.41c.39.39.9.59 1.41.59.51 0 1.02-.2 1.41-.59l7.78-7.78 2.81-2.81c.8-.78.8-2.07 0-2.86zM5.41 20L4 18.59l7.72-7.72 1.47 1.35L5.41 20z\"/>\n",
              "  </svg>\n",
              "      </button>\n",
              "      \n",
              "  <style>\n",
              "    .colab-df-container {\n",
              "      display:flex;\n",
              "      flex-wrap:wrap;\n",
              "      gap: 12px;\n",
              "    }\n",
              "\n",
              "    .colab-df-convert {\n",
              "      background-color: #E8F0FE;\n",
              "      border: none;\n",
              "      border-radius: 50%;\n",
              "      cursor: pointer;\n",
              "      display: none;\n",
              "      fill: #1967D2;\n",
              "      height: 32px;\n",
              "      padding: 0 0 0 0;\n",
              "      width: 32px;\n",
              "    }\n",
              "\n",
              "    .colab-df-convert:hover {\n",
              "      background-color: #E2EBFA;\n",
              "      box-shadow: 0px 1px 2px rgba(60, 64, 67, 0.3), 0px 1px 3px 1px rgba(60, 64, 67, 0.15);\n",
              "      fill: #174EA6;\n",
              "    }\n",
              "\n",
              "    [theme=dark] .colab-df-convert {\n",
              "      background-color: #3B4455;\n",
              "      fill: #D2E3FC;\n",
              "    }\n",
              "\n",
              "    [theme=dark] .colab-df-convert:hover {\n",
              "      background-color: #434B5C;\n",
              "      box-shadow: 0px 1px 3px 1px rgba(0, 0, 0, 0.15);\n",
              "      filter: drop-shadow(0px 1px 2px rgba(0, 0, 0, 0.3));\n",
              "      fill: #FFFFFF;\n",
              "    }\n",
              "  </style>\n",
              "\n",
              "      <script>\n",
              "        const buttonEl =\n",
              "          document.querySelector('#df-3014138e-d142-48a9-837d-c53056fe9d56 button.colab-df-convert');\n",
              "        buttonEl.style.display =\n",
              "          google.colab.kernel.accessAllowed ? 'block' : 'none';\n",
              "\n",
              "        async function convertToInteractive(key) {\n",
              "          const element = document.querySelector('#df-3014138e-d142-48a9-837d-c53056fe9d56');\n",
              "          const dataTable =\n",
              "            await google.colab.kernel.invokeFunction('convertToInteractive',\n",
              "                                                     [key], {});\n",
              "          if (!dataTable) return;\n",
              "\n",
              "          const docLinkHtml = 'Like what you see? Visit the ' +\n",
              "            '<a target=\"_blank\" href=https://colab.research.google.com/notebooks/data_table.ipynb>data table notebook</a>'\n",
              "            + ' to learn more about interactive tables.';\n",
              "          element.innerHTML = '';\n",
              "          dataTable['output_type'] = 'display_data';\n",
              "          await google.colab.output.renderOutput(dataTable, element);\n",
              "          const docLink = document.createElement('div');\n",
              "          docLink.innerHTML = docLinkHtml;\n",
              "          element.appendChild(docLink);\n",
              "        }\n",
              "      </script>\n",
              "    </div>\n",
              "  </div>\n",
              "  "
            ]
          },
          "metadata": {},
          "execution_count": 249
        }
      ]
    },
    {
      "cell_type": "markdown",
      "source": [
        "### 3.10.1 Highlights"
      ],
      "metadata": {
        "id": "KnQH1sb2Uxf4"
      }
    },
    {
      "cell_type": "markdown",
      "source": [
        "*   The CatBoost model with SMOTE yielded the highest percision (28%) for the heart disease class (i.e. percentage of heart disease classifications that were actually correct). They also yielded the best over all accuracy. However, this is at the expense of heart disease recall being the lowest (21%) (i.e. only 21% of heart disease patients correctly identified).\n",
        "\n",
        "*   The SVM model with random undersampling returned the highest recall (87%) for the heart diease class, however it has the lowest precision for heart diease (14%) (i.e. out of all heart disease classifications 14% were correct).\n",
        "\n",
        "*   Random forest and decision tree models with SMOTE had a moderate recall for the heart disease class (63%) and a good recall for the no heart disease class (82%). However it still suffers from low precision in the heart disease class.\n",
        "\n",
        "\n",
        "In our application we care the most about identifying heart diease in order to take proactive action in saving the patient. Therefore, using the SVM model to select patients for further tests would be the best course of action for medical experts."
      ],
      "metadata": {
        "id": "fTLV1FBqcipB"
      }
    },
    {
      "cell_type": "markdown",
      "metadata": {
        "id": "9H0rKZ_52Usj"
      },
      "source": [
        "# 4 Conclusion"
      ]
    },
    {
      "cell_type": "markdown",
      "metadata": {
        "id": "Bs5DjzSs2aw9"
      },
      "source": [
        "In 2019, around 17.9 million people died from Cardiovascular diseases. **85%** of them were caused by heart diseases. In order to identify the causes of heart disease, we investigated the [Personal Key Indicators of Heart Disease](https://www.kaggle.com/datasets/kamilpytlak/personal-key-indicators-of-heart-disease) which had 17 indicators of heart disease of 319,795 surveyed individuals in the U.S. During our investigation we identified that age is a major factor in heart disease. Furhtermore, heart diesease is more prominent in smokers (\\~12%), kidney disease (\\~30%), strole victims (\\~48%), skin cancer patients (\\~18%),people who have difficulty walking (\\~18%), and diabetics (\\~25%). Finally, after experimenting with different models we concluded that SVMs with random undersampling yield the best recall for the heart diseas class (87%), CatBoost with SMOTE yields the best recall for the no heart disease class (96%), and Decision tree/Random Forest had a compromise. An application of our model is to be used by medical experts in selecting the patients suspected of heart disease in order to conduct further testing on them.  "
      ]
    }
  ],
  "metadata": {
    "colab": {
      "collapsed_sections": [],
      "provenance": [],
      "toc_visible": true
    },
    "kernelspec": {
      "display_name": "Python 3",
      "name": "python3"
    },
    "language_info": {
      "name": "python"
    }
  },
  "nbformat": 4,
  "nbformat_minor": 0
}